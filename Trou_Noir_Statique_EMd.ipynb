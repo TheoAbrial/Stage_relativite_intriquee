{
 "cells": [
  {
   "cell_type": "markdown",
   "metadata": {},
   "source": [
    "# Trou Noir Chargé Statique en gravitation Einstein-Maxwell-dilaton"
   ]
  },
  {
   "cell_type": "markdown",
   "metadata": {},
   "source": [
    "On se propose ici de vérifier la solution générale des équations de champs pour $\\alpha$ quelconque."
   ]
  },
  {
   "cell_type": "markdown",
   "metadata": {},
   "source": [
    "L'action s'écrit $S = \\int \\mathrm{d}^4 x \\sqrt{-g} \\left( R - 2 \\partial_{\\mu} \\Phi \\partial^{\\mu} \\Phi - e^{-2\\alpha\\Phi} F_{\\mu \\nu} F^{\\mu \\nu} \\right)$"
   ]
  },
  {
   "cell_type": "markdown",
   "metadata": {},
   "source": [
    "Les équations de champs sont les suivantes :"
   ]
  },
  {
   "cell_type": "markdown",
   "metadata": {},
   "source": [
    "$\\partial_{\\mu} \\left( e^{-2\\alpha\\Phi} \\sqrt{-g} F^{\\mu \\nu} \\right) = 0$"
   ]
  },
  {
   "cell_type": "markdown",
   "metadata": {},
   "source": [
    "$R_{\\mu \\nu} = e^{-2\\alpha\\Phi} \\left( 2 F_{\\mu \\lambda} F_{\\nu} ^{\\lambda} - \\frac{1}{2} F^{\\lambda \\sigma} F_{\\lambda \\sigma} g_{\\mu \\nu} \\right) + 2 \\partial_{\\mu} \\Phi \\partial_{\\nu} \\Phi$ "
   ]
  },
  {
   "cell_type": "markdown",
   "metadata": {},
   "source": [
    "$\\frac{1}{\\sqrt{-g}} \\partial_{\\mu} \\left( \\sqrt{-g} g^{\\mu \\nu} \\partial_{\\nu} \\Phi \\right) + \\frac{1}{2} \\alpha e^{-2\\alpha\\Phi} F_{\\mu \\nu} F^{\\mu \\nu}=0$"
   ]
  },
  {
   "cell_type": "markdown",
   "metadata": {},
   "source": [
    "### Définition de la variété"
   ]
  },
  {
   "cell_type": "code",
   "execution_count": 1,
   "metadata": {},
   "outputs": [],
   "source": [
    "%display latex"
   ]
  },
  {
   "cell_type": "code",
   "execution_count": 2,
   "metadata": {},
   "outputs": [],
   "source": [
    "M = Manifold(4, 'M', structure='Lorentzian')"
   ]
  },
  {
   "cell_type": "markdown",
   "metadata": {},
   "source": [
    "### Définition des paramètres"
   ]
  },
  {
   "cell_type": "code",
   "execution_count": 3,
   "metadata": {},
   "outputs": [],
   "source": [
    "a = var('alpha')\n",
    "u, v = var('u,v')"
   ]
  },
  {
   "cell_type": "markdown",
   "metadata": {},
   "source": [
    "$a$ est le paramètre intervenant dans l'action et dans les équations de champs. $u$ et $v$ sont deux paramètres reliés à la masse $m$ et la charge $q$ du trou noir par les relations suivantes : $2m = u + \\frac{1-\\alpha^2}{1+\\alpha^2} v$ et $q^2 = \\frac{uv}{1+\\alpha^2}$"
   ]
  },
  {
   "cell_type": "markdown",
   "metadata": {},
   "source": [
    "### La solution"
   ]
  },
  {
   "cell_type": "code",
   "execution_count": 4,
   "metadata": {},
   "outputs": [],
   "source": [
    "X.<t,r,th,ph> = M.chart(r\"t r:(0,+oo) th:(0,pi):\\theta ph:(0,2*pi):\\varphi\")"
   ]
  },
  {
   "cell_type": "markdown",
   "metadata": {},
   "source": [
    "#### La métrique"
   ]
  },
  {
   "cell_type": "code",
   "execution_count": 5,
   "metadata": {},
   "outputs": [
    {
     "data": {
      "text/html": [
       "<html><script type=\"math/tex; mode=display\">\\newcommand{\\Bold}[1]{\\mathbf{#1}}g = \\left( \\frac{\\frac{u}{r} - 1}{{\\left(-\\frac{v}{r} + 1\\right)}^{\\frac{a^{2} - 1}{a^{2} + 1}}} \\right) \\mathrm{d} t\\otimes \\mathrm{d} t + \\left( -\\frac{{\\left(-\\frac{v}{r} + 1\\right)}^{\\frac{a^{2} - 1}{a^{2} + 1}}}{\\frac{u}{r} - 1} \\right) \\mathrm{d} r\\otimes \\mathrm{d} r + \\left( r^{2} {\\left(-\\frac{v}{r} + 1\\right)}^{\\frac{2 \\, a^{2}}{a^{2} + 1}} \\right) \\mathrm{d} {\\theta}\\otimes \\mathrm{d} {\\theta} + \\left( r^{2} {\\left(-\\frac{v}{r} + 1\\right)}^{\\frac{2 \\, a^{2}}{a^{2} + 1}} \\sin\\left({\\theta}\\right)^{2} \\right) \\mathrm{d} {\\varphi}\\otimes \\mathrm{d} {\\varphi}</script></html>"
      ],
      "text/latex": [
       "$$\\newcommand{\\Bold}[1]{\\mathbf{#1}}g = \\left( \\frac{\\frac{u}{r} - 1}{{\\left(-\\frac{v}{r} + 1\\right)}^{\\frac{a^{2} - 1}{a^{2} + 1}}} \\right) \\mathrm{d} t\\otimes \\mathrm{d} t + \\left( -\\frac{{\\left(-\\frac{v}{r} + 1\\right)}^{\\frac{a^{2} - 1}{a^{2} + 1}}}{\\frac{u}{r} - 1} \\right) \\mathrm{d} r\\otimes \\mathrm{d} r + \\left( r^{2} {\\left(-\\frac{v}{r} + 1\\right)}^{\\frac{2 \\, a^{2}}{a^{2} + 1}} \\right) \\mathrm{d} {\\theta}\\otimes \\mathrm{d} {\\theta} + \\left( r^{2} {\\left(-\\frac{v}{r} + 1\\right)}^{\\frac{2 \\, a^{2}}{a^{2} + 1}} \\sin\\left({\\theta}\\right)^{2} \\right) \\mathrm{d} {\\varphi}\\otimes \\mathrm{d} {\\varphi}$$"
      ],
      "text/plain": [
       "g = (u/r - 1)/(-v/r + 1)^((a^2 - 1)/(a^2 + 1)) dt*dt - (-v/r + 1)^((a^2 - 1)/(a^2 + 1))/(u/r - 1) dr*dr + r^2*(-v/r + 1)^(2*a^2/(a^2 + 1)) dth*dth + r^2*(-v/r + 1)^(2*a^2/(a^2 + 1))*sin(th)^2 dph*dph"
      ]
     },
     "execution_count": 5,
     "metadata": {},
     "output_type": "execute_result"
    }
   ],
   "source": [
    "g = M.metric()\n",
    "g[0,0] = -(1-u/r)*(1-v/r)**((1-a**2)/(1+a**2))\n",
    "g[1,1] = 1/((1-u/r)*(1-v/r)**((1-a**2)/(1+a**2)))\n",
    "g[2,2] = r**2*(1-v/r)**(2*a**2/(1+a**2))\n",
    "g[3,3] = r**2*(1-v/r)**(2*a**2/(1+a**2))*sin(th)**2\n",
    "g.display()"
   ]
  },
  {
   "cell_type": "code",
   "execution_count": 6,
   "metadata": {},
   "outputs": [],
   "source": [
    "nab = g.connection()"
   ]
  },
  {
   "cell_type": "markdown",
   "metadata": {},
   "source": [
    "#### Le dilation $\\Phi$"
   ]
  },
  {
   "cell_type": "code",
   "execution_count": 7,
   "metadata": {},
   "outputs": [
    {
     "data": {
      "text/html": [
       "<html><script type=\"math/tex; mode=display\">\\newcommand{\\Bold}[1]{\\mathbf{#1}}\\begin{array}{llcl} \\Phi:& M & \\longrightarrow & \\mathbb{R} \\\\ & \\left(t, r, {\\theta}, {\\varphi}\\right) & \\longmapsto & \\frac{a \\log\\left(-\\frac{v}{r} + 1\\right)}{a^{2} + 1} \\end{array}</script></html>"
      ],
      "text/latex": [
       "$$\\newcommand{\\Bold}[1]{\\mathbf{#1}}\\begin{array}{llcl} \\Phi:& M & \\longrightarrow & \\mathbb{R} \\\\ & \\left(t, r, {\\theta}, {\\varphi}\\right) & \\longmapsto & \\frac{a \\log\\left(-\\frac{v}{r} + 1\\right)}{a^{2} + 1} \\end{array}$$"
      ],
      "text/plain": [
       "\\Phi: M --> R\n",
       "   (t, r, th, ph) |--> a*log(-v/r + 1)/(a^2 + 1)"
      ]
     },
     "execution_count": 7,
     "metadata": {},
     "output_type": "execute_result"
    }
   ],
   "source": [
    "Ph = M.scalar_field({X:a*ln(1-v/r)/(1+a**2)}, name=r'\\Phi')\n",
    "Ph.display()"
   ]
  },
  {
   "cell_type": "markdown",
   "metadata": {},
   "source": [
    "#### Le champ électromanétique"
   ]
  },
  {
   "cell_type": "code",
   "execution_count": 8,
   "metadata": {},
   "outputs": [],
   "source": [
    "A = M.one_form({X.frame(): [sqrt(u*v/(1+a**2))/r, 0, 0, 0]})"
   ]
  },
  {
   "cell_type": "code",
   "execution_count": 9,
   "metadata": {},
   "outputs": [
    {
     "data": {
      "text/html": [
       "<html><script type=\"math/tex; mode=display\">\\newcommand{\\Bold}[1]{\\mathbf{#1}}\\left( \\frac{\\sqrt{u} \\sqrt{v}}{\\sqrt{a^{2} + 1} r^{2}} \\right) \\mathrm{d} t\\wedge \\mathrm{d} r</script></html>"
      ],
      "text/latex": [
       "$$\\newcommand{\\Bold}[1]{\\mathbf{#1}}\\left( \\frac{\\sqrt{u} \\sqrt{v}}{\\sqrt{a^{2} + 1} r^{2}} \\right) \\mathrm{d} t\\wedge \\mathrm{d} r$$"
      ],
      "text/plain": [
       "sqrt(u)*sqrt(v)/(sqrt(a^2 + 1)*r^2) dt/\\dr"
      ]
     },
     "execution_count": 9,
     "metadata": {},
     "output_type": "execute_result"
    }
   ],
   "source": [
    "F = A.exterior_derivative()\n",
    "F.display()"
   ]
  },
  {
   "cell_type": "code",
   "execution_count": 10,
   "metadata": {},
   "outputs": [
    {
     "data": {
      "text/html": [
       "<html><script type=\"math/tex; mode=display\">\\newcommand{\\Bold}[1]{\\mathbf{#1}}\\left(\\begin{array}{rrrr}\n",
       "0 & \\frac{\\sqrt{u} \\sqrt{v}}{\\sqrt{a^{2} + 1} r^{2}} & 0 & 0 \\\\\n",
       "-\\frac{\\sqrt{u} \\sqrt{v}}{\\sqrt{a^{2} + 1} r^{2}} & 0 & 0 & 0 \\\\\n",
       "0 & 0 & 0 & 0 \\\\\n",
       "0 & 0 & 0 & 0\n",
       "\\end{array}\\right)</script></html>"
      ],
      "text/latex": [
       "$$\\newcommand{\\Bold}[1]{\\mathbf{#1}}\\left(\\begin{array}{rrrr}\n",
       "0 & \\frac{\\sqrt{u} \\sqrt{v}}{\\sqrt{a^{2} + 1} r^{2}} & 0 & 0 \\\\\n",
       "-\\frac{\\sqrt{u} \\sqrt{v}}{\\sqrt{a^{2} + 1} r^{2}} & 0 & 0 & 0 \\\\\n",
       "0 & 0 & 0 & 0 \\\\\n",
       "0 & 0 & 0 & 0\n",
       "\\end{array}\\right)$$"
      ],
      "text/plain": [
       "[                                   0  sqrt(u)*sqrt(v)/(sqrt(a^2 + 1)*r^2)                                    0                                    0]\n",
       "[-sqrt(u)*sqrt(v)/(sqrt(a^2 + 1)*r^2)                                    0                                    0                                    0]\n",
       "[                                   0                                    0                                    0                                    0]\n",
       "[                                   0                                    0                                    0                                    0]"
      ]
     },
     "execution_count": 10,
     "metadata": {},
     "output_type": "execute_result"
    }
   ],
   "source": [
    "F[:]"
   ]
  },
  {
   "cell_type": "markdown",
   "metadata": {},
   "source": [
    "### Vérification de la solution"
   ]
  },
  {
   "cell_type": "markdown",
   "metadata": {},
   "source": [
    "#### Equation de Maxwell"
   ]
  },
  {
   "cell_type": "code",
   "execution_count": 11,
   "metadata": {},
   "outputs": [
    {
     "data": {
      "text/html": [
       "<html><script type=\"math/tex; mode=display\">\\newcommand{\\Bold}[1]{\\mathbf{#1}}0</script></html>"
      ],
      "text/latex": [
       "$$\\newcommand{\\Bold}[1]{\\mathbf{#1}}0$$"
      ],
      "text/plain": [
       "0"
      ]
     },
     "execution_count": 11,
     "metadata": {},
     "output_type": "execute_result"
    }
   ],
   "source": [
    "N = nab(exp(-2*a*Ph)*F.up(g))\n",
    "n = N['^{i.}_{i}']\n",
    "n.display()"
   ]
  },
  {
   "cell_type": "markdown",
   "metadata": {},
   "source": [
    "#### Equation d'Einstein"
   ]
  },
  {
   "cell_type": "code",
   "execution_count": 16,
   "metadata": {},
   "outputs": [],
   "source": [
    "R = g.ricci()\n",
    "Lm = F.up(g)['^{ab}']*F.down(g)['_{ab}']\n",
    "T = -exp(-2*a*Ph)*(-2*F['_.j']*F.up(g,1)['_.^j'] + g*Lm/2)\n",
    "S = 2*nab(Ph)*nab(Ph)"
   ]
  },
  {
   "cell_type": "code",
   "execution_count": 17,
   "metadata": {},
   "outputs": [
    {
     "data": {
      "text/html": [
       "<html><script type=\"math/tex; mode=display\">\\newcommand{\\Bold}[1]{\\mathbf{#1}}\\left( -\\frac{{\\left(r u - u^{2}\\right)} {\\left(r - v\\right)}^{\\left(\\frac{1}{a^{2} + 1}\\right)} v^{4} + {\\left({\\left(r u - u^{2}\\right)} {\\left(r - v\\right)}^{\\frac{a^{2}}{a^{2} + 1} + \\frac{2}{a^{2} + 1}} - 3 \\, {\\left(r^{2} u - r u^{2}\\right)} {\\left(r - v\\right)}^{\\left(\\frac{1}{a^{2} + 1}\\right)}\\right)} v^{3} - {\\left(2 \\, {\\left(r^{2} u - r u^{2}\\right)} {\\left(r - v\\right)}^{\\frac{a^{2}}{a^{2} + 1} + \\frac{2}{a^{2} + 1}} - 3 \\, {\\left(r^{3} u - r^{2} u^{2}\\right)} {\\left(r - v\\right)}^{\\left(\\frac{1}{a^{2} + 1}\\right)}\\right)} v^{2} + {\\left({\\left(r^{3} u - r^{2} u^{2}\\right)} {\\left(r - v\\right)}^{\\frac{a^{2}}{a^{2} + 1} + \\frac{2}{a^{2} + 1}} - {\\left(r^{4} u - r^{3} u^{2}\\right)} {\\left(r - v\\right)}^{\\left(\\frac{1}{a^{2} + 1}\\right)}\\right)} v}{{\\left(a^{2} + 1\\right)} {\\left(r - v\\right)}^{\\frac{3 \\, a^{2}}{a^{2} + 1}} r^{\\frac{2 \\, a^{2}}{a^{2} + 1} + \\frac{6}{a^{2} + 1}} v^{3} - 3 \\, {\\left(a^{2} + 1\\right)} {\\left(r - v\\right)}^{\\frac{3 \\, a^{2}}{a^{2} + 1}} r^{\\frac{3 \\, a^{2}}{a^{2} + 1} + \\frac{7}{a^{2} + 1}} v^{2} + 3 \\, {\\left(a^{2} + 1\\right)} {\\left(r - v\\right)}^{\\frac{3 \\, a^{2}}{a^{2} + 1}} r^{\\frac{4 \\, a^{2}}{a^{2} + 1} + \\frac{8}{a^{2} + 1}} v - {\\left(a^{2} + 1\\right)} {\\left(r - v\\right)}^{\\frac{3 \\, a^{2}}{a^{2} + 1}} r^{\\frac{5 \\, a^{2}}{a^{2} + 1} + \\frac{9}{a^{2} + 1}}} \\right) \\mathrm{d} t\\otimes \\mathrm{d} t</script></html>"
      ],
      "text/latex": [
       "$$\\newcommand{\\Bold}[1]{\\mathbf{#1}}\\left( -\\frac{{\\left(r u - u^{2}\\right)} {\\left(r - v\\right)}^{\\left(\\frac{1}{a^{2} + 1}\\right)} v^{4} + {\\left({\\left(r u - u^{2}\\right)} {\\left(r - v\\right)}^{\\frac{a^{2}}{a^{2} + 1} + \\frac{2}{a^{2} + 1}} - 3 \\, {\\left(r^{2} u - r u^{2}\\right)} {\\left(r - v\\right)}^{\\left(\\frac{1}{a^{2} + 1}\\right)}\\right)} v^{3} - {\\left(2 \\, {\\left(r^{2} u - r u^{2}\\right)} {\\left(r - v\\right)}^{\\frac{a^{2}}{a^{2} + 1} + \\frac{2}{a^{2} + 1}} - 3 \\, {\\left(r^{3} u - r^{2} u^{2}\\right)} {\\left(r - v\\right)}^{\\left(\\frac{1}{a^{2} + 1}\\right)}\\right)} v^{2} + {\\left({\\left(r^{3} u - r^{2} u^{2}\\right)} {\\left(r - v\\right)}^{\\frac{a^{2}}{a^{2} + 1} + \\frac{2}{a^{2} + 1}} - {\\left(r^{4} u - r^{3} u^{2}\\right)} {\\left(r - v\\right)}^{\\left(\\frac{1}{a^{2} + 1}\\right)}\\right)} v}{{\\left(a^{2} + 1\\right)} {\\left(r - v\\right)}^{\\frac{3 \\, a^{2}}{a^{2} + 1}} r^{\\frac{2 \\, a^{2}}{a^{2} + 1} + \\frac{6}{a^{2} + 1}} v^{3} - 3 \\, {\\left(a^{2} + 1\\right)} {\\left(r - v\\right)}^{\\frac{3 \\, a^{2}}{a^{2} + 1}} r^{\\frac{3 \\, a^{2}}{a^{2} + 1} + \\frac{7}{a^{2} + 1}} v^{2} + 3 \\, {\\left(a^{2} + 1\\right)} {\\left(r - v\\right)}^{\\frac{3 \\, a^{2}}{a^{2} + 1}} r^{\\frac{4 \\, a^{2}}{a^{2} + 1} + \\frac{8}{a^{2} + 1}} v - {\\left(a^{2} + 1\\right)} {\\left(r - v\\right)}^{\\frac{3 \\, a^{2}}{a^{2} + 1}} r^{\\frac{5 \\, a^{2}}{a^{2} + 1} + \\frac{9}{a^{2} + 1}}} \\right) \\mathrm{d} t\\otimes \\mathrm{d} t$$"
      ],
      "text/plain": [
       "-((r*u - u^2)*(r - v)^(1/(a^2 + 1))*v^4 + ((r*u - u^2)*(r - v)^(a^2/(a^2 + 1) + 2/(a^2 + 1)) - 3*(r^2*u - r*u^2)*(r - v)^(1/(a^2 + 1)))*v^3 - (2*(r^2*u - r*u^2)*(r - v)^(a^2/(a^2 + 1) + 2/(a^2 + 1)) - 3*(r^3*u - r^2*u^2)*(r - v)^(1/(a^2 + 1)))*v^2 + ((r^3*u - r^2*u^2)*(r - v)^(a^2/(a^2 + 1) + 2/(a^2 + 1)) - (r^4*u - r^3*u^2)*(r - v)^(1/(a^2 + 1)))*v)/((a^2 + 1)*(r - v)^(3*a^2/(a^2 + 1))*r^(2*a^2/(a^2 + 1) + 6/(a^2 + 1))*v^3 - 3*(a^2 + 1)*(r - v)^(3*a^2/(a^2 + 1))*r^(3*a^2/(a^2 + 1) + 7/(a^2 + 1))*v^2 + 3*(a^2 + 1)*(r - v)^(3*a^2/(a^2 + 1))*r^(4*a^2/(a^2 + 1) + 8/(a^2 + 1))*v - (a^2 + 1)*(r - v)^(3*a^2/(a^2 + 1))*r^(5*a^2/(a^2 + 1) + 9/(a^2 + 1))) dt*dt"
      ]
     },
     "execution_count": 17,
     "metadata": {},
     "output_type": "execute_result"
    }
   ],
   "source": [
    "U = R-T-S\n",
    "U.display()"
   ]
  },
  {
   "cell_type": "code",
   "execution_count": 25,
   "metadata": {},
   "outputs": [
    {
     "data": {
      "text/html": [
       "<html><script type=\"math/tex; mode=display\">\\newcommand{\\Bold}[1]{\\mathbf{#1}}\\frac{{\\left({\\left(r - v\\right)}^{\\frac{a^{2}}{a^{2} + 1} + \\frac{1}{a^{2} + 1}} - r + v\\right)} {\\left(r - v\\right)}^{-\\frac{3 \\, a^{2}}{a^{2} + 1} + \\frac{1}{a^{2} + 1}} {\\left(r - u\\right)} {\\left(r - v\\right)}^{2} r^{-\\frac{2 \\, a^{2}}{a^{2} + 1} - \\frac{6}{a^{2} + 1}} u v}{{\\left(a^{2} + 1\\right)} {\\left(r^{\\frac{a^{2}}{a^{2} + 1} + \\frac{1}{a^{2} + 1}} - v\\right)}^{3}}</script></html>"
      ],
      "text/latex": [
       "$$\\newcommand{\\Bold}[1]{\\mathbf{#1}}\\frac{{\\left({\\left(r - v\\right)}^{\\frac{a^{2}}{a^{2} + 1} + \\frac{1}{a^{2} + 1}} - r + v\\right)} {\\left(r - v\\right)}^{-\\frac{3 \\, a^{2}}{a^{2} + 1} + \\frac{1}{a^{2} + 1}} {\\left(r - u\\right)} {\\left(r - v\\right)}^{2} r^{-\\frac{2 \\, a^{2}}{a^{2} + 1} - \\frac{6}{a^{2} + 1}} u v}{{\\left(a^{2} + 1\\right)} {\\left(r^{\\frac{a^{2}}{a^{2} + 1} + \\frac{1}{a^{2} + 1}} - v\\right)}^{3}}$$"
      ],
      "text/plain": [
       "((r - v)^(a^2/(a^2 + 1) + 1/(a^2 + 1)) - r + v)*(r - v)^(-3*a^2/(a^2 + 1) + 1/(a^2 + 1))*(r - u)*(r - v)^2*r^(-2*a^2/(a^2 + 1) - 6/(a^2 + 1))*u*v/((a^2 + 1)*(r^(a^2/(a^2 + 1) + 1/(a^2 + 1)) - v)^3)"
      ]
     },
     "execution_count": 25,
     "metadata": {},
     "output_type": "execute_result"
    }
   ],
   "source": [
    "U[0,0].expr().factor()"
   ]
  },
  {
   "cell_type": "markdown",
   "metadata": {},
   "source": [
    "Après vérification du numérateur du seul terme restant, le tenseur est bien nul, ce qui vérifie l'équation d'Einstein."
   ]
  },
  {
   "cell_type": "markdown",
   "metadata": {},
   "source": [
    "#### Equation du dilaton"
   ]
  },
  {
   "cell_type": "code",
   "execution_count": 18,
   "metadata": {},
   "outputs": [
    {
     "data": {
      "text/html": [
       "<html><script type=\"math/tex; mode=display\">\\newcommand{\\Bold}[1]{\\mathbf{#1}}\\begin{array}{llcl} & M & \\longrightarrow & \\mathbb{R} \\\\ & \\left(t, r, {\\theta}, {\\varphi}\\right) & \\longmapsto & -\\frac{a {\\left(r - v\\right)}^{\\left(\\frac{1}{a^{2} + 1}\\right)} r^{2} u v - 2 \\, a {\\left(r - v\\right)}^{\\left(\\frac{1}{a^{2} + 1}\\right)} r u v^{2} + a {\\left(r - v\\right)}^{\\left(\\frac{1}{a^{2} + 1}\\right)} u v^{3}}{{\\left(a^{2} + 1\\right)} {\\left(r - v\\right)}^{\\frac{a^{2}}{a^{2} + 1}} r^{\\frac{2 \\, a^{2}}{a^{2} + 1} + \\frac{4}{a^{2} + 1}} v^{3} - 3 \\, {\\left(a^{2} + 1\\right)} {\\left(r - v\\right)}^{\\frac{a^{2}}{a^{2} + 1}} r^{\\frac{3 \\, a^{2}}{a^{2} + 1} + \\frac{5}{a^{2} + 1}} v^{2} + 3 \\, {\\left(a^{2} + 1\\right)} {\\left(r - v\\right)}^{\\frac{a^{2}}{a^{2} + 1}} r^{\\frac{4 \\, a^{2}}{a^{2} + 1} + \\frac{6}{a^{2} + 1}} v - {\\left(a^{2} + 1\\right)} {\\left(r - v\\right)}^{\\frac{a^{2}}{a^{2} + 1}} r^{\\frac{5 \\, a^{2}}{a^{2} + 1} + \\frac{7}{a^{2} + 1}}} \\end{array}</script></html>"
      ],
      "text/latex": [
       "$$\\newcommand{\\Bold}[1]{\\mathbf{#1}}\\begin{array}{llcl} & M & \\longrightarrow & \\mathbb{R} \\\\ & \\left(t, r, {\\theta}, {\\varphi}\\right) & \\longmapsto & -\\frac{a {\\left(r - v\\right)}^{\\left(\\frac{1}{a^{2} + 1}\\right)} r^{2} u v - 2 \\, a {\\left(r - v\\right)}^{\\left(\\frac{1}{a^{2} + 1}\\right)} r u v^{2} + a {\\left(r - v\\right)}^{\\left(\\frac{1}{a^{2} + 1}\\right)} u v^{3}}{{\\left(a^{2} + 1\\right)} {\\left(r - v\\right)}^{\\frac{a^{2}}{a^{2} + 1}} r^{\\frac{2 \\, a^{2}}{a^{2} + 1} + \\frac{4}{a^{2} + 1}} v^{3} - 3 \\, {\\left(a^{2} + 1\\right)} {\\left(r - v\\right)}^{\\frac{a^{2}}{a^{2} + 1}} r^{\\frac{3 \\, a^{2}}{a^{2} + 1} + \\frac{5}{a^{2} + 1}} v^{2} + 3 \\, {\\left(a^{2} + 1\\right)} {\\left(r - v\\right)}^{\\frac{a^{2}}{a^{2} + 1}} r^{\\frac{4 \\, a^{2}}{a^{2} + 1} + \\frac{6}{a^{2} + 1}} v - {\\left(a^{2} + 1\\right)} {\\left(r - v\\right)}^{\\frac{a^{2}}{a^{2} + 1}} r^{\\frac{5 \\, a^{2}}{a^{2} + 1} + \\frac{7}{a^{2} + 1}}} \\end{array}$$"
      ],
      "text/plain": [
       "M --> R\n",
       "(t, r, th, ph) |--> -(a*(r - v)^(1/(a^2 + 1))*r^2*u*v - 2*a*(r - v)^(1/(a^2 + 1))*r*u*v^2 + a*(r - v)^(1/(a^2 + 1))*u*v^3)/((a^2 + 1)*(r - v)^(a^2/(a^2 + 1))*r^(2*a^2/(a^2 + 1) + 4/(a^2 + 1))*v^3 - 3*(a^2 + 1)*(r - v)^(a^2/(a^2 + 1))*r^(3*a^2/(a^2 + 1) + 5/(a^2 + 1))*v^2 + 3*(a^2 + 1)*(r - v)^(a^2/(a^2 + 1))*r^(4*a^2/(a^2 + 1) + 6/(a^2 + 1))*v - (a^2 + 1)*(r - v)^(a^2/(a^2 + 1))*r^(5*a^2/(a^2 + 1) + 7/(a^2 + 1)))"
      ]
     },
     "execution_count": 18,
     "metadata": {},
     "output_type": "execute_result"
    }
   ],
   "source": [
    "B = nab(nab(Ph).up(g))['^{i}_{i}']\n",
    "B.display()"
   ]
  },
  {
   "cell_type": "code",
   "execution_count": 19,
   "metadata": {},
   "outputs": [
    {
     "data": {
      "text/html": [
       "<html><script type=\"math/tex; mode=display\">\\newcommand{\\Bold}[1]{\\mathbf{#1}}\\begin{array}{llcl} & M & \\longrightarrow & \\mathbb{R} \\\\ & \\left(t, r, {\\theta}, {\\varphi}\\right) & \\longmapsto & -\\frac{a r^{-\\frac{2 \\, a^{2}}{a^{2} + 1} - \\frac{4}{a^{2} + 1}} u v}{{\\left(a^{2} + 1\\right)} {\\left(r - v\\right)}^{\\frac{2 \\, a^{2}}{a^{2} + 1}}} \\end{array}</script></html>"
      ],
      "text/latex": [
       "$$\\newcommand{\\Bold}[1]{\\mathbf{#1}}\\begin{array}{llcl} & M & \\longrightarrow & \\mathbb{R} \\\\ & \\left(t, r, {\\theta}, {\\varphi}\\right) & \\longmapsto & -\\frac{a r^{-\\frac{2 \\, a^{2}}{a^{2} + 1} - \\frac{4}{a^{2} + 1}} u v}{{\\left(a^{2} + 1\\right)} {\\left(r - v\\right)}^{\\frac{2 \\, a^{2}}{a^{2} + 1}}} \\end{array}$$"
      ],
      "text/plain": [
       "M --> R\n",
       "(t, r, th, ph) |--> -a*r^(-2*a^2/(a^2 + 1) - 4/(a^2 + 1))*u*v/((a^2 + 1)*(r - v)^(2*a^2/(a^2 + 1)))"
      ]
     },
     "execution_count": 19,
     "metadata": {},
     "output_type": "execute_result"
    }
   ],
   "source": [
    "C = a*exp(-2*a*Ph)*(F.down(g)['_{ij}']*F.up(g)['^{ij}'])/2\n",
    "C.display()"
   ]
  },
  {
   "cell_type": "code",
   "execution_count": 21,
   "metadata": {},
   "outputs": [
    {
     "data": {
      "text/html": [
       "<html><script type=\"math/tex; mode=display\">\\newcommand{\\Bold}[1]{\\mathbf{#1}}0</script></html>"
      ],
      "text/latex": [
       "$$\\newcommand{\\Bold}[1]{\\mathbf{#1}}0$$"
      ],
      "text/plain": [
       "0"
      ]
     },
     "execution_count": 21,
     "metadata": {},
     "output_type": "execute_result"
    }
   ],
   "source": [
    "(B+C).expr().factor()"
   ]
  }
 ],
 "metadata": {
  "kernelspec": {
   "display_name": "SageMath 9.3",
   "language": "sage",
   "name": "sagemath"
  },
  "language_info": {
   "codemirror_mode": {
    "name": "ipython",
    "version": 3
   },
   "file_extension": ".py",
   "mimetype": "text/x-python",
   "name": "python",
   "nbconvert_exporter": "python",
   "pygments_lexer": "ipython3",
   "version": "3.7.10"
  }
 },
 "nbformat": 4,
 "nbformat_minor": 4
}
