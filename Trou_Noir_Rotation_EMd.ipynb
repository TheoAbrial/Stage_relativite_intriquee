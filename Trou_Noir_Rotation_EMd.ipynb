{
 "cells": [
  {
   "cell_type": "markdown",
   "metadata": {},
   "source": [
    "# Vérification de la solution de Trou Noir Chargé en rotation en gravitation EMd"
   ]
  },
  {
   "cell_type": "code",
   "execution_count": 1,
   "metadata": {},
   "outputs": [],
   "source": [
    "%display latex"
   ]
  },
  {
   "cell_type": "code",
   "execution_count": 2,
   "metadata": {},
   "outputs": [],
   "source": [
    "M = Manifold(4, 'M', structure='Lorentzian')"
   ]
  },
  {
   "cell_type": "code",
   "execution_count": 3,
   "metadata": {},
   "outputs": [],
   "source": [
    "X.<t,r,th,ph> = M.chart(r\"t r:(0,+oo) th:(0,pi):\\theta ph:\\varphi\")"
   ]
  },
  {
   "cell_type": "code",
   "execution_count": 4,
   "metadata": {},
   "outputs": [],
   "source": [
    "Q = var('Q')\n",
    "K = var('K')\n",
    "B = var('B')\n",
    "\n",
    "a = var('a')\n",
    "u,v = var('u,v')\n",
    "m,q = var('m,q')\n",
    "\n",
    "al = var('alpha')\n",
    "be = var('beta')"
   ]
  },
  {
   "cell_type": "code",
   "execution_count": 5,
   "metadata": {},
   "outputs": [],
   "source": [
    "f1 = X.function(function('f_1')(r))\n",
    "f2 = X.function(function('f_2')(r))\n",
    "f3 = X.function(function('f_3')(r))\n",
    "\n",
    "H1 = M.scalar_field({X: (r-v)**2+a**2*cos(th)**2})\n",
    "H2 = M.scalar_field({X: r*(r-v)+a**2*cos(th)**2})\n",
    "D = M.scalar_field({X: (r-u)*(r-v)+a**2})"
   ]
  },
  {
   "cell_type": "markdown",
   "metadata": {},
   "source": [
    "### La métrique"
   ]
  },
  {
   "cell_type": "code",
   "execution_count": 6,
   "metadata": {},
   "outputs": [
    {
     "data": {
      "text/html": [
       "<html><script type=\"math/tex; mode=display\">\\newcommand{\\Bold}[1]{\\mathbf{#1}}\\left(\\begin{array}{rrrr}\n",
       "-\\frac{{\\left(a^{2} \\cos\\left({\\theta}\\right)^{2} + r^{2} - r u - {\\left(r - u\\right)} v\\right)} {\\left(a^{2} \\cos\\left({\\theta}\\right)^{2} + r^{2} - 2 \\, r v + v^{2}\\right)}^{\\beta}}{{\\left(a^{2} \\cos\\left({\\theta}\\right)^{2} + r^{2} - r v\\right)} {\\left(a^{2} \\cos\\left({\\theta}\\right)^{2} + r^{2} - r v\\right)}^{\\beta}} & 0 & 0 & -\\frac{{\\left(B a r \\sin\\left({\\theta}\\right)^{2} - B a v \\sin\\left({\\theta}\\right)^{2}\\right)} {\\left(a^{2} \\cos\\left({\\theta}\\right)^{2} + r^{2} - 2 \\, r v + v^{2}\\right)}^{\\beta}}{{\\left(a^{2} \\cos\\left({\\theta}\\right)^{2} + r^{2} - r v\\right)} {\\left(a^{2} \\cos\\left({\\theta}\\right)^{2} + r^{2} - r v\\right)}^{\\beta}} \\\\\n",
       "0 & \\frac{{\\left(a^{2} \\cos\\left({\\theta}\\right)^{2} + r^{2} - r v\\right)} {\\left(a^{2} \\cos\\left({\\theta}\\right)^{2} + r^{2} - r v\\right)}^{\\beta}}{{\\left(a^{2} + r^{2} - r u - {\\left(r - u\\right)} v\\right)} {\\left(a^{2} \\cos\\left({\\theta}\\right)^{2} + r^{2} - 2 \\, r v + v^{2}\\right)}^{\\beta}} & 0 & 0 \\\\\n",
       "0 & 0 & \\frac{{\\left(a^{2} \\cos\\left({\\theta}\\right)^{2} + r^{2} - r v\\right)} {\\left(a^{2} \\cos\\left({\\theta}\\right)^{2} + r^{2} - r v\\right)}^{\\beta}}{{\\left(a^{2} \\cos\\left({\\theta}\\right)^{2} + r^{2} - 2 \\, r v + v^{2}\\right)}^{\\beta}} & 0 \\\\\n",
       "-\\frac{{\\left(B a r \\sin\\left({\\theta}\\right)^{2} - B a v \\sin\\left({\\theta}\\right)^{2}\\right)} {\\left(a^{2} \\cos\\left({\\theta}\\right)^{2} + r^{2} - 2 \\, r v + v^{2}\\right)}^{\\beta}}{{\\left(a^{2} \\cos\\left({\\theta}\\right)^{2} + r^{2} - r v\\right)} {\\left(a^{2} \\cos\\left({\\theta}\\right)^{2} + r^{2} - r v\\right)}^{\\beta}} & 0 & 0 & -\\frac{{\\left({\\left(r^{3} \\sin\\left({\\theta}\\right)^{2} - r^{2} u \\sin\\left({\\theta}\\right)^{2}\\right)} v^{3} + {\\left(a^{4} r \\cos\\left({\\theta}\\right)^{4} + 2 \\, a^{2} r^{3} \\cos\\left({\\theta}\\right)^{2} + r^{5}\\right)} u \\sin\\left({\\theta}\\right)^{2} + {\\left({\\left(2 \\, a^{2} r \\cos\\left({\\theta}\\right)^{2} + 3 \\, r^{3}\\right)} u \\sin\\left({\\theta}\\right)^{2} - {\\left(2 \\, a^{2} r^{2} \\cos\\left({\\theta}\\right)^{2} + a^{2} r^{2} + 3 \\, r^{4}\\right)} \\sin\\left({\\theta}\\right)^{2}\\right)} v^{2} - {\\left(a^{2} r^{4} + r^{6} + {\\left(a^{6} + a^{4} r^{2}\\right)} \\cos\\left({\\theta}\\right)^{4} + 2 \\, {\\left(a^{4} r^{2} + a^{2} r^{4}\\right)} \\cos\\left({\\theta}\\right)^{2}\\right)} \\sin\\left({\\theta}\\right)^{2} - {\\left({\\left(a^{4} \\cos\\left({\\theta}\\right)^{4} + 4 \\, a^{2} r^{2} \\cos\\left({\\theta}\\right)^{2} + 3 \\, r^{4}\\right)} u \\sin\\left({\\theta}\\right)^{2} - {\\left(a^{4} r \\cos\\left({\\theta}\\right)^{4} + 2 \\, a^{2} r^{3} + 3 \\, r^{5} + 2 \\, {\\left(a^{4} r + 2 \\, a^{2} r^{3}\\right)} \\cos\\left({\\theta}\\right)^{2}\\right)} \\sin\\left({\\theta}\\right)^{2}\\right)} v\\right)} {\\left(a^{2} \\cos\\left({\\theta}\\right)^{2} + r^{2} - r v\\right)}^{2 \\, \\beta} + {\\left(B^{2} a^{2} r^{2} \\sin\\left({\\theta}\\right)^{4} - 2 \\, B^{2} a^{2} r v \\sin\\left({\\theta}\\right)^{4} + B^{2} a^{2} v^{2} \\sin\\left({\\theta}\\right)^{4}\\right)} {\\left(a^{2} \\cos\\left({\\theta}\\right)^{2} + r^{2} - 2 \\, r v + v^{2}\\right)}^{2 \\, \\beta}}{{\\left(a^{4} \\cos\\left({\\theta}\\right)^{4} + 2 \\, a^{2} r^{2} \\cos\\left({\\theta}\\right)^{2} + r^{4} + {\\left(r^{2} - r u\\right)} v^{2} - {\\left(a^{2} r \\cos\\left({\\theta}\\right)^{2} + r^{3}\\right)} u - {\\left(2 \\, a^{2} r \\cos\\left({\\theta}\\right)^{2} + 2 \\, r^{3} - {\\left(a^{2} \\cos\\left({\\theta}\\right)^{2} + 2 \\, r^{2}\\right)} u\\right)} v\\right)} {\\left(a^{2} \\cos\\left({\\theta}\\right)^{2} + r^{2} - r v\\right)}^{\\beta} {\\left(a^{2} \\cos\\left({\\theta}\\right)^{2} + r^{2} - 2 \\, r v + v^{2}\\right)}^{\\beta}}\n",
       "\\end{array}\\right)</script></html>"
      ],
      "text/latex": [
       "$$\\newcommand{\\Bold}[1]{\\mathbf{#1}}\\left(\\begin{array}{rrrr}\n",
       "-\\frac{{\\left(a^{2} \\cos\\left({\\theta}\\right)^{2} + r^{2} - r u - {\\left(r - u\\right)} v\\right)} {\\left(a^{2} \\cos\\left({\\theta}\\right)^{2} + r^{2} - 2 \\, r v + v^{2}\\right)}^{\\beta}}{{\\left(a^{2} \\cos\\left({\\theta}\\right)^{2} + r^{2} - r v\\right)} {\\left(a^{2} \\cos\\left({\\theta}\\right)^{2} + r^{2} - r v\\right)}^{\\beta}} & 0 & 0 & -\\frac{{\\left(B a r \\sin\\left({\\theta}\\right)^{2} - B a v \\sin\\left({\\theta}\\right)^{2}\\right)} {\\left(a^{2} \\cos\\left({\\theta}\\right)^{2} + r^{2} - 2 \\, r v + v^{2}\\right)}^{\\beta}}{{\\left(a^{2} \\cos\\left({\\theta}\\right)^{2} + r^{2} - r v\\right)} {\\left(a^{2} \\cos\\left({\\theta}\\right)^{2} + r^{2} - r v\\right)}^{\\beta}} \\\\\n",
       "0 & \\frac{{\\left(a^{2} \\cos\\left({\\theta}\\right)^{2} + r^{2} - r v\\right)} {\\left(a^{2} \\cos\\left({\\theta}\\right)^{2} + r^{2} - r v\\right)}^{\\beta}}{{\\left(a^{2} + r^{2} - r u - {\\left(r - u\\right)} v\\right)} {\\left(a^{2} \\cos\\left({\\theta}\\right)^{2} + r^{2} - 2 \\, r v + v^{2}\\right)}^{\\beta}} & 0 & 0 \\\\\n",
       "0 & 0 & \\frac{{\\left(a^{2} \\cos\\left({\\theta}\\right)^{2} + r^{2} - r v\\right)} {\\left(a^{2} \\cos\\left({\\theta}\\right)^{2} + r^{2} - r v\\right)}^{\\beta}}{{\\left(a^{2} \\cos\\left({\\theta}\\right)^{2} + r^{2} - 2 \\, r v + v^{2}\\right)}^{\\beta}} & 0 \\\\\n",
       "-\\frac{{\\left(B a r \\sin\\left({\\theta}\\right)^{2} - B a v \\sin\\left({\\theta}\\right)^{2}\\right)} {\\left(a^{2} \\cos\\left({\\theta}\\right)^{2} + r^{2} - 2 \\, r v + v^{2}\\right)}^{\\beta}}{{\\left(a^{2} \\cos\\left({\\theta}\\right)^{2} + r^{2} - r v\\right)} {\\left(a^{2} \\cos\\left({\\theta}\\right)^{2} + r^{2} - r v\\right)}^{\\beta}} & 0 & 0 & -\\frac{{\\left({\\left(r^{3} \\sin\\left({\\theta}\\right)^{2} - r^{2} u \\sin\\left({\\theta}\\right)^{2}\\right)} v^{3} + {\\left(a^{4} r \\cos\\left({\\theta}\\right)^{4} + 2 \\, a^{2} r^{3} \\cos\\left({\\theta}\\right)^{2} + r^{5}\\right)} u \\sin\\left({\\theta}\\right)^{2} + {\\left({\\left(2 \\, a^{2} r \\cos\\left({\\theta}\\right)^{2} + 3 \\, r^{3}\\right)} u \\sin\\left({\\theta}\\right)^{2} - {\\left(2 \\, a^{2} r^{2} \\cos\\left({\\theta}\\right)^{2} + a^{2} r^{2} + 3 \\, r^{4}\\right)} \\sin\\left({\\theta}\\right)^{2}\\right)} v^{2} - {\\left(a^{2} r^{4} + r^{6} + {\\left(a^{6} + a^{4} r^{2}\\right)} \\cos\\left({\\theta}\\right)^{4} + 2 \\, {\\left(a^{4} r^{2} + a^{2} r^{4}\\right)} \\cos\\left({\\theta}\\right)^{2}\\right)} \\sin\\left({\\theta}\\right)^{2} - {\\left({\\left(a^{4} \\cos\\left({\\theta}\\right)^{4} + 4 \\, a^{2} r^{2} \\cos\\left({\\theta}\\right)^{2} + 3 \\, r^{4}\\right)} u \\sin\\left({\\theta}\\right)^{2} - {\\left(a^{4} r \\cos\\left({\\theta}\\right)^{4} + 2 \\, a^{2} r^{3} + 3 \\, r^{5} + 2 \\, {\\left(a^{4} r + 2 \\, a^{2} r^{3}\\right)} \\cos\\left({\\theta}\\right)^{2}\\right)} \\sin\\left({\\theta}\\right)^{2}\\right)} v\\right)} {\\left(a^{2} \\cos\\left({\\theta}\\right)^{2} + r^{2} - r v\\right)}^{2 \\, \\beta} + {\\left(B^{2} a^{2} r^{2} \\sin\\left({\\theta}\\right)^{4} - 2 \\, B^{2} a^{2} r v \\sin\\left({\\theta}\\right)^{4} + B^{2} a^{2} v^{2} \\sin\\left({\\theta}\\right)^{4}\\right)} {\\left(a^{2} \\cos\\left({\\theta}\\right)^{2} + r^{2} - 2 \\, r v + v^{2}\\right)}^{2 \\, \\beta}}{{\\left(a^{4} \\cos\\left({\\theta}\\right)^{4} + 2 \\, a^{2} r^{2} \\cos\\left({\\theta}\\right)^{2} + r^{4} + {\\left(r^{2} - r u\\right)} v^{2} - {\\left(a^{2} r \\cos\\left({\\theta}\\right)^{2} + r^{3}\\right)} u - {\\left(2 \\, a^{2} r \\cos\\left({\\theta}\\right)^{2} + 2 \\, r^{3} - {\\left(a^{2} \\cos\\left({\\theta}\\right)^{2} + 2 \\, r^{2}\\right)} u\\right)} v\\right)} {\\left(a^{2} \\cos\\left({\\theta}\\right)^{2} + r^{2} - r v\\right)}^{\\beta} {\\left(a^{2} \\cos\\left({\\theta}\\right)^{2} + r^{2} - 2 \\, r v + v^{2}\\right)}^{\\beta}}\n",
       "\\end{array}\\right)$$"
      ],
      "text/plain": [
       "[                                                                                                                                                                                                                                                                                                                                                                                                                                                                                                                                                                                                                                                                                                        -(a^2*cos(th)^2 + r^2 - r*u - (r - u)*v)*(a^2*cos(th)^2 + r^2 - 2*r*v + v^2)^beta/((a^2*cos(th)^2 + r^2 - r*v)*(a^2*cos(th)^2 + r^2 - r*v)^beta)                                                                                                                                                                                                                                                                                                                                                                                                                                                                                                                                                                                                                                                                                                                                                                                                                                                        0                                                                                                                                                                                                                                                                                                                                                                                                                                                                                                                                                                                                                                                                                                                                                                                                                                                        0                                                                                                                                                                                                                                                                                                                                                                                                                                                                                                                                                                                                                                                                                                             -(B*a*r*sin(th)^2 - B*a*v*sin(th)^2)*(a^2*cos(th)^2 + r^2 - 2*r*v + v^2)^beta/((a^2*cos(th)^2 + r^2 - r*v)*(a^2*cos(th)^2 + r^2 - r*v)^beta)]\n",
       "[                                                                                                                                                                                                                                                                                                                                                                                                                                                                                                                                                                                                                                                                                                                                                                                                                                                       0                                                                                                                                                                                                                                                                                                                                                                                                                                                                                                                                                                                                                                                                                                                    (a^2*cos(th)^2 + r^2 - r*v)*(a^2*cos(th)^2 + r^2 - r*v)^beta/((a^2 + r^2 - r*u - (r - u)*v)*(a^2*cos(th)^2 + r^2 - 2*r*v + v^2)^beta)                                                                                                                                                                                                                                                                                                                                                                                                                                                                                                                                                                                                                                                                                                                                                                                                                                                        0                                                                                                                                                                                                                                                                                                                                                                                                                                                                                                                                                                                                                                                                                                                                                                                                                                                        0]\n",
       "[                                                                                                                                                                                                                                                                                                                                                                                                                                                                                                                                                                                                                                                                                                                                                                                                                                                       0                                                                                                                                                                                                                                                                                                                                                                                                                                                                                                                                                                                                                                                                                                                                                                                                                                                        0                                                                                                                                                                                                                                                                                                                                                                                                                                                                                                                                                                                                                                                                                                                                                    (a^2*cos(th)^2 + r^2 - r*v)*(a^2*cos(th)^2 + r^2 - r*v)^beta/(a^2*cos(th)^2 + r^2 - 2*r*v + v^2)^beta                                                                                                                                                                                                                                                                                                                                                                                                                                                                                                                                                                                                                                                                                                                                                                                                                                                        0]\n",
       "[                                                                                                                                                                                                                                                                                                                                                                                                                                                                                                                                                                                                                                                                                                            -(B*a*r*sin(th)^2 - B*a*v*sin(th)^2)*(a^2*cos(th)^2 + r^2 - 2*r*v + v^2)^beta/((a^2*cos(th)^2 + r^2 - r*v)*(a^2*cos(th)^2 + r^2 - r*v)^beta)                                                                                                                                                                                                                                                                                                                                                                                                                                                                                                                                                                                                                                                                                                                                                                                                                                                        0                                                                                                                                                                                                                                                                                                                                                                                                                                                                                                                                                                                                                                                                                                                                                                                                                                                        0 -(((r^3*sin(th)^2 - r^2*u*sin(th)^2)*v^3 + (a^4*r*cos(th)^4 + 2*a^2*r^3*cos(th)^2 + r^5)*u*sin(th)^2 + ((2*a^2*r*cos(th)^2 + 3*r^3)*u*sin(th)^2 - (2*a^2*r^2*cos(th)^2 + a^2*r^2 + 3*r^4)*sin(th)^2)*v^2 - (a^2*r^4 + r^6 + (a^6 + a^4*r^2)*cos(th)^4 + 2*(a^4*r^2 + a^2*r^4)*cos(th)^2)*sin(th)^2 - ((a^4*cos(th)^4 + 4*a^2*r^2*cos(th)^2 + 3*r^4)*u*sin(th)^2 - (a^4*r*cos(th)^4 + 2*a^2*r^3 + 3*r^5 + 2*(a^4*r + 2*a^2*r^3)*cos(th)^2)*sin(th)^2)*v)*(a^2*cos(th)^2 + r^2 - r*v)^(2*beta) + (B^2*a^2*r^2*sin(th)^4 - 2*B^2*a^2*r*v*sin(th)^4 + B^2*a^2*v^2*sin(th)^4)*(a^2*cos(th)^2 + r^2 - 2*r*v + v^2)^(2*beta))/((a^4*cos(th)^4 + 2*a^2*r^2*cos(th)^2 + r^4 + (r^2 - r*u)*v^2 - (a^2*r*cos(th)^2 + r^3)*u - (2*a^2*r*cos(th)^2 + 2*r^3 - (a^2*cos(th)^2 + 2*r^2)*u)*v)*(a^2*cos(th)^2 + r^2 - r*v)^beta*(a^2*cos(th)^2 + r^2 - 2*r*v + v^2)^beta)]"
      ]
     },
     "execution_count": 6,
     "metadata": {},
     "output_type": "execute_result"
    }
   ],
   "source": [
    "g = M.metric('g')\n",
    "g[0,0] = -(D-a**2*sin(th)**2)*H1**be/H2**(1+be)\n",
    "g[1,1] = H2**(1+be)/(D*H1**be)\n",
    "g[2,2] = H2**(1+be)/H1**be\n",
    "g[3,3] = H2**(1+be)/H1**be*D/(D-a**2*sin(th)**2)*sin(th)**2-B**2*(r-v)**2*a**2*sin(th)**4*H1**be/(H2**(1+be)*(D-a**2*sin(th)**2))\n",
    "g[0,3] = -B*(r-v)*a*sin(th)**2*H1**be/H2**(1+be)\n",
    "g[:]"
   ]
  },
  {
   "cell_type": "markdown",
   "metadata": {},
   "source": [
    "On calcule ensuite le determinant de la métrique $\\sqrt{-g}$ et le champ scalaire $\\mathrm{e}^{-2\\alpha\\phi}$ et on effectue le produit des deux pour remarquer que les termes dépendant de $\\beta$ se compensent."
   ]
  },
  {
   "cell_type": "code",
   "execution_count": 7,
   "metadata": {},
   "outputs": [
    {
     "data": {
      "text/html": [
       "<html><script type=\"math/tex; mode=display\">\\newcommand{\\Bold}[1]{\\mathbf{#1}}-\\frac{{\\left(a^{2} \\cos\\left({\\theta}\\right)^{2} + r^{2} - r v\\right)}^{2} {\\left(a^{2} \\cos\\left({\\theta}\\right)^{2} + r^{2} - r v\\right)}^{2 \\, \\beta} \\sin\\left({\\theta}\\right)^{2}}{{\\left(a^{2} \\cos\\left({\\theta}\\right)^{2} + r^{2} - 2 \\, r v + v^{2}\\right)}^{2 \\, \\beta}}</script></html>"
      ],
      "text/latex": [
       "$$\\newcommand{\\Bold}[1]{\\mathbf{#1}}-\\frac{{\\left(a^{2} \\cos\\left({\\theta}\\right)^{2} + r^{2} - r v\\right)}^{2} {\\left(a^{2} \\cos\\left({\\theta}\\right)^{2} + r^{2} - r v\\right)}^{2 \\, \\beta} \\sin\\left({\\theta}\\right)^{2}}{{\\left(a^{2} \\cos\\left({\\theta}\\right)^{2} + r^{2} - 2 \\, r v + v^{2}\\right)}^{2 \\, \\beta}}$$"
      ],
      "text/plain": [
       "-(a^2*cos(th)^2 + r^2 - r*v)^2*(a^2*cos(th)^2 + r^2 - r*v)^(2*beta)*sin(th)^2/(a^2*cos(th)^2 + r^2 - 2*r*v + v^2)^(2*beta)"
      ]
     },
     "execution_count": 7,
     "metadata": {},
     "output_type": "execute_result"
    }
   ],
   "source": [
    "detg = g.determinant()\n",
    "detg.expr().factor()"
   ]
  },
  {
   "cell_type": "code",
   "execution_count": 8,
   "metadata": {},
   "outputs": [],
   "source": [
    "e2ap = (H1/H2)**(be-1)"
   ]
  },
  {
   "cell_type": "code",
   "execution_count": 9,
   "metadata": {},
   "outputs": [
    {
     "data": {
      "text/html": [
       "<html><script type=\"math/tex; mode=display\">\\newcommand{\\Bold}[1]{\\mathbf{#1}}\\frac{{\\left(a^{2} \\cos\\left({\\theta}\\right)^{2} + r^{2} - r v\\right)}^{2} \\sin\\left({\\theta}\\right)}{a^{2} \\cos\\left({\\theta}\\right)^{2} + r^{2} - 2 \\, r v + v^{2}}</script></html>"
      ],
      "text/latex": [
       "$$\\newcommand{\\Bold}[1]{\\mathbf{#1}}\\frac{{\\left(a^{2} \\cos\\left({\\theta}\\right)^{2} + r^{2} - r v\\right)}^{2} \\sin\\left({\\theta}\\right)}{a^{2} \\cos\\left({\\theta}\\right)^{2} + r^{2} - 2 \\, r v + v^{2}}$$"
      ],
      "text/plain": [
       "(a^2*cos(th)^2 + r^2 - r*v)^2*sin(th)/(a^2*cos(th)^2 + r^2 - 2*r*v + v^2)"
      ]
     },
     "execution_count": 9,
     "metadata": {},
     "output_type": "execute_result"
    }
   ],
   "source": [
    "(sin(th)*H2**(be+1)/H1**be*e2ap).expr().factor()"
   ]
  },
  {
   "cell_type": "markdown",
   "metadata": {},
   "source": [
    "### Le tenseur électromagnétique"
   ]
  },
  {
   "cell_type": "markdown",
   "metadata": {},
   "source": [
    "#### Le tenseur électromagnétique de la solution de Kerr-Newman"
   ]
  },
  {
   "cell_type": "code",
   "execution_count": 10,
   "metadata": {},
   "outputs": [
    {
     "data": {
      "text/html": [
       "<html><script type=\"math/tex; mode=display\">\\newcommand{\\Bold}[1]{\\mathbf{#1}}\\left(\\begin{array}{rrrr}\n",
       "0 & \\frac{Q a^{4} - Q r^{4} + 4 \\, Q r v^{3} - Q v^{4} - {\\left(Q a^{2} \\sin\\left({\\theta}\\right)^{2} + 6 \\, Q r^{2}\\right)} v^{2} - {\\left(Q a^{4} + Q a^{2} r^{2}\\right)} \\sin\\left({\\theta}\\right)^{2} + 2 \\, {\\left(Q a^{2} r \\sin\\left({\\theta}\\right)^{2} + 2 \\, Q r^{3}\\right)} v}{a^{6} \\cos\\left({\\theta}\\right)^{6} + 3 \\, a^{4} r^{2} \\cos\\left({\\theta}\\right)^{4} + 3 \\, a^{2} r^{4} \\cos\\left({\\theta}\\right)^{2} + r^{6} - 6 \\, r v^{5} + v^{6} + 3 \\, {\\left(a^{2} \\cos\\left({\\theta}\\right)^{2} + 5 \\, r^{2}\\right)} v^{4} - 4 \\, {\\left(3 \\, a^{2} r \\cos\\left({\\theta}\\right)^{2} + 5 \\, r^{3}\\right)} v^{3} + 3 \\, {\\left(a^{4} \\cos\\left({\\theta}\\right)^{4} + 6 \\, a^{2} r^{2} \\cos\\left({\\theta}\\right)^{2} + 5 \\, r^{4}\\right)} v^{2} - 6 \\, {\\left(a^{4} r \\cos\\left({\\theta}\\right)^{4} + 2 \\, a^{2} r^{3} \\cos\\left({\\theta}\\right)^{2} + r^{5}\\right)} v} & \\frac{2 \\, {\\left(Q a^{2} r \\cos\\left({\\theta}\\right) \\sin\\left({\\theta}\\right) - Q a^{2} v \\cos\\left({\\theta}\\right) \\sin\\left({\\theta}\\right)\\right)}}{a^{6} \\cos\\left({\\theta}\\right)^{6} + 3 \\, a^{4} r^{2} \\cos\\left({\\theta}\\right)^{4} + 3 \\, a^{2} r^{4} \\cos\\left({\\theta}\\right)^{2} + r^{6} - 6 \\, r v^{5} + v^{6} + 3 \\, {\\left(a^{2} \\cos\\left({\\theta}\\right)^{2} + 5 \\, r^{2}\\right)} v^{4} - 4 \\, {\\left(3 \\, a^{2} r \\cos\\left({\\theta}\\right)^{2} + 5 \\, r^{3}\\right)} v^{3} + 3 \\, {\\left(a^{4} \\cos\\left({\\theta}\\right)^{4} + 6 \\, a^{2} r^{2} \\cos\\left({\\theta}\\right)^{2} + 5 \\, r^{4}\\right)} v^{2} - 6 \\, {\\left(a^{4} r \\cos\\left({\\theta}\\right)^{4} + 2 \\, a^{2} r^{3} \\cos\\left({\\theta}\\right)^{2} + r^{5}\\right)} v} & 0 \\\\\n",
       "-\\frac{Q a^{4} - Q r^{4} + 4 \\, Q r v^{3} - Q v^{4} - {\\left(Q a^{2} \\sin\\left({\\theta}\\right)^{2} + 6 \\, Q r^{2}\\right)} v^{2} - {\\left(Q a^{4} + Q a^{2} r^{2}\\right)} \\sin\\left({\\theta}\\right)^{2} + 2 \\, {\\left(Q a^{2} r \\sin\\left({\\theta}\\right)^{2} + 2 \\, Q r^{3}\\right)} v}{a^{6} \\cos\\left({\\theta}\\right)^{6} + 3 \\, a^{4} r^{2} \\cos\\left({\\theta}\\right)^{4} + 3 \\, a^{2} r^{4} \\cos\\left({\\theta}\\right)^{2} + r^{6} - 6 \\, r v^{5} + v^{6} + 3 \\, {\\left(a^{2} \\cos\\left({\\theta}\\right)^{2} + 5 \\, r^{2}\\right)} v^{4} - 4 \\, {\\left(3 \\, a^{2} r \\cos\\left({\\theta}\\right)^{2} + 5 \\, r^{3}\\right)} v^{3} + 3 \\, {\\left(a^{4} \\cos\\left({\\theta}\\right)^{4} + 6 \\, a^{2} r^{2} \\cos\\left({\\theta}\\right)^{2} + 5 \\, r^{4}\\right)} v^{2} - 6 \\, {\\left(a^{4} r \\cos\\left({\\theta}\\right)^{4} + 2 \\, a^{2} r^{3} \\cos\\left({\\theta}\\right)^{2} + r^{5}\\right)} v} & 0 & 0 & -\\frac{K a^{3} \\cos\\left({\\theta}\\right)^{2} - K a r^{2} + 2 \\, K a r v - K a v^{2}}{a^{6} \\cos\\left({\\theta}\\right)^{6} + 3 \\, a^{4} r^{2} \\cos\\left({\\theta}\\right)^{4} + 3 \\, a^{2} r^{4} \\cos\\left({\\theta}\\right)^{2} + r^{6} - 6 \\, r v^{5} + v^{6} + 3 \\, {\\left(a^{2} \\cos\\left({\\theta}\\right)^{2} + 5 \\, r^{2}\\right)} v^{4} - 4 \\, {\\left(3 \\, a^{2} r \\cos\\left({\\theta}\\right)^{2} + 5 \\, r^{3}\\right)} v^{3} + 3 \\, {\\left(a^{4} \\cos\\left({\\theta}\\right)^{4} + 6 \\, a^{2} r^{2} \\cos\\left({\\theta}\\right)^{2} + 5 \\, r^{4}\\right)} v^{2} - 6 \\, {\\left(a^{4} r \\cos\\left({\\theta}\\right)^{4} + 2 \\, a^{2} r^{3} \\cos\\left({\\theta}\\right)^{2} + r^{5}\\right)} v} \\\\\n",
       "-\\frac{2 \\, {\\left(Q a^{2} r \\cos\\left({\\theta}\\right) \\sin\\left({\\theta}\\right) - Q a^{2} v \\cos\\left({\\theta}\\right) \\sin\\left({\\theta}\\right)\\right)}}{a^{6} \\cos\\left({\\theta}\\right)^{6} + 3 \\, a^{4} r^{2} \\cos\\left({\\theta}\\right)^{4} + 3 \\, a^{2} r^{4} \\cos\\left({\\theta}\\right)^{2} + r^{6} - 6 \\, r v^{5} + v^{6} + 3 \\, {\\left(a^{2} \\cos\\left({\\theta}\\right)^{2} + 5 \\, r^{2}\\right)} v^{4} - 4 \\, {\\left(3 \\, a^{2} r \\cos\\left({\\theta}\\right)^{2} + 5 \\, r^{3}\\right)} v^{3} + 3 \\, {\\left(a^{4} \\cos\\left({\\theta}\\right)^{4} + 6 \\, a^{2} r^{2} \\cos\\left({\\theta}\\right)^{2} + 5 \\, r^{4}\\right)} v^{2} - 6 \\, {\\left(a^{4} r \\cos\\left({\\theta}\\right)^{4} + 2 \\, a^{2} r^{3} \\cos\\left({\\theta}\\right)^{2} + r^{5}\\right)} v} & 0 & 0 & \\frac{2 \\, {\\left(K a r \\cos\\left({\\theta}\\right) - K a v \\cos\\left({\\theta}\\right)\\right)}}{6 \\, r v^{5} \\sin\\left({\\theta}\\right) - v^{6} \\sin\\left({\\theta}\\right) - 3 \\, {\\left(a^{2} \\cos\\left({\\theta}\\right)^{2} + 5 \\, r^{2}\\right)} v^{4} \\sin\\left({\\theta}\\right) + 4 \\, {\\left(3 \\, a^{2} r \\cos\\left({\\theta}\\right)^{2} + 5 \\, r^{3}\\right)} v^{3} \\sin\\left({\\theta}\\right) - 3 \\, {\\left(a^{4} \\cos\\left({\\theta}\\right)^{4} + 6 \\, a^{2} r^{2} \\cos\\left({\\theta}\\right)^{2} + 5 \\, r^{4}\\right)} v^{2} \\sin\\left({\\theta}\\right) + 6 \\, {\\left(a^{4} r \\cos\\left({\\theta}\\right)^{4} + 2 \\, a^{2} r^{3} \\cos\\left({\\theta}\\right)^{2} + r^{5}\\right)} v \\sin\\left({\\theta}\\right) - {\\left(a^{6} \\cos\\left({\\theta}\\right)^{6} + 3 \\, a^{4} r^{2} \\cos\\left({\\theta}\\right)^{4} + 3 \\, a^{2} r^{4} \\cos\\left({\\theta}\\right)^{2} + r^{6}\\right)} \\sin\\left({\\theta}\\right)} \\\\\n",
       "0 & \\frac{K a^{3} \\cos\\left({\\theta}\\right)^{2} - K a r^{2} + 2 \\, K a r v - K a v^{2}}{a^{6} \\cos\\left({\\theta}\\right)^{6} + 3 \\, a^{4} r^{2} \\cos\\left({\\theta}\\right)^{4} + 3 \\, a^{2} r^{4} \\cos\\left({\\theta}\\right)^{2} + r^{6} - 6 \\, r v^{5} + v^{6} + 3 \\, {\\left(a^{2} \\cos\\left({\\theta}\\right)^{2} + 5 \\, r^{2}\\right)} v^{4} - 4 \\, {\\left(3 \\, a^{2} r \\cos\\left({\\theta}\\right)^{2} + 5 \\, r^{3}\\right)} v^{3} + 3 \\, {\\left(a^{4} \\cos\\left({\\theta}\\right)^{4} + 6 \\, a^{2} r^{2} \\cos\\left({\\theta}\\right)^{2} + 5 \\, r^{4}\\right)} v^{2} - 6 \\, {\\left(a^{4} r \\cos\\left({\\theta}\\right)^{4} + 2 \\, a^{2} r^{3} \\cos\\left({\\theta}\\right)^{2} + r^{5}\\right)} v} & -\\frac{2 \\, {\\left(K a r \\cos\\left({\\theta}\\right) - K a v \\cos\\left({\\theta}\\right)\\right)}}{6 \\, r v^{5} \\sin\\left({\\theta}\\right) - v^{6} \\sin\\left({\\theta}\\right) - 3 \\, {\\left(a^{2} \\cos\\left({\\theta}\\right)^{2} + 5 \\, r^{2}\\right)} v^{4} \\sin\\left({\\theta}\\right) + 4 \\, {\\left(3 \\, a^{2} r \\cos\\left({\\theta}\\right)^{2} + 5 \\, r^{3}\\right)} v^{3} \\sin\\left({\\theta}\\right) - 3 \\, {\\left(a^{4} \\cos\\left({\\theta}\\right)^{4} + 6 \\, a^{2} r^{2} \\cos\\left({\\theta}\\right)^{2} + 5 \\, r^{4}\\right)} v^{2} \\sin\\left({\\theta}\\right) + 6 \\, {\\left(a^{4} r \\cos\\left({\\theta}\\right)^{4} + 2 \\, a^{2} r^{3} \\cos\\left({\\theta}\\right)^{2} + r^{5}\\right)} v \\sin\\left({\\theta}\\right) - {\\left(a^{6} \\cos\\left({\\theta}\\right)^{6} + 3 \\, a^{4} r^{2} \\cos\\left({\\theta}\\right)^{4} + 3 \\, a^{2} r^{4} \\cos\\left({\\theta}\\right)^{2} + r^{6}\\right)} \\sin\\left({\\theta}\\right)} & 0\n",
       "\\end{array}\\right)</script></html>"
      ],
      "text/latex": [
       "$$\\newcommand{\\Bold}[1]{\\mathbf{#1}}\\left(\\begin{array}{rrrr}\n",
       "0 & \\frac{Q a^{4} - Q r^{4} + 4 \\, Q r v^{3} - Q v^{4} - {\\left(Q a^{2} \\sin\\left({\\theta}\\right)^{2} + 6 \\, Q r^{2}\\right)} v^{2} - {\\left(Q a^{4} + Q a^{2} r^{2}\\right)} \\sin\\left({\\theta}\\right)^{2} + 2 \\, {\\left(Q a^{2} r \\sin\\left({\\theta}\\right)^{2} + 2 \\, Q r^{3}\\right)} v}{a^{6} \\cos\\left({\\theta}\\right)^{6} + 3 \\, a^{4} r^{2} \\cos\\left({\\theta}\\right)^{4} + 3 \\, a^{2} r^{4} \\cos\\left({\\theta}\\right)^{2} + r^{6} - 6 \\, r v^{5} + v^{6} + 3 \\, {\\left(a^{2} \\cos\\left({\\theta}\\right)^{2} + 5 \\, r^{2}\\right)} v^{4} - 4 \\, {\\left(3 \\, a^{2} r \\cos\\left({\\theta}\\right)^{2} + 5 \\, r^{3}\\right)} v^{3} + 3 \\, {\\left(a^{4} \\cos\\left({\\theta}\\right)^{4} + 6 \\, a^{2} r^{2} \\cos\\left({\\theta}\\right)^{2} + 5 \\, r^{4}\\right)} v^{2} - 6 \\, {\\left(a^{4} r \\cos\\left({\\theta}\\right)^{4} + 2 \\, a^{2} r^{3} \\cos\\left({\\theta}\\right)^{2} + r^{5}\\right)} v} & \\frac{2 \\, {\\left(Q a^{2} r \\cos\\left({\\theta}\\right) \\sin\\left({\\theta}\\right) - Q a^{2} v \\cos\\left({\\theta}\\right) \\sin\\left({\\theta}\\right)\\right)}}{a^{6} \\cos\\left({\\theta}\\right)^{6} + 3 \\, a^{4} r^{2} \\cos\\left({\\theta}\\right)^{4} + 3 \\, a^{2} r^{4} \\cos\\left({\\theta}\\right)^{2} + r^{6} - 6 \\, r v^{5} + v^{6} + 3 \\, {\\left(a^{2} \\cos\\left({\\theta}\\right)^{2} + 5 \\, r^{2}\\right)} v^{4} - 4 \\, {\\left(3 \\, a^{2} r \\cos\\left({\\theta}\\right)^{2} + 5 \\, r^{3}\\right)} v^{3} + 3 \\, {\\left(a^{4} \\cos\\left({\\theta}\\right)^{4} + 6 \\, a^{2} r^{2} \\cos\\left({\\theta}\\right)^{2} + 5 \\, r^{4}\\right)} v^{2} - 6 \\, {\\left(a^{4} r \\cos\\left({\\theta}\\right)^{4} + 2 \\, a^{2} r^{3} \\cos\\left({\\theta}\\right)^{2} + r^{5}\\right)} v} & 0 \\\\\n",
       "-\\frac{Q a^{4} - Q r^{4} + 4 \\, Q r v^{3} - Q v^{4} - {\\left(Q a^{2} \\sin\\left({\\theta}\\right)^{2} + 6 \\, Q r^{2}\\right)} v^{2} - {\\left(Q a^{4} + Q a^{2} r^{2}\\right)} \\sin\\left({\\theta}\\right)^{2} + 2 \\, {\\left(Q a^{2} r \\sin\\left({\\theta}\\right)^{2} + 2 \\, Q r^{3}\\right)} v}{a^{6} \\cos\\left({\\theta}\\right)^{6} + 3 \\, a^{4} r^{2} \\cos\\left({\\theta}\\right)^{4} + 3 \\, a^{2} r^{4} \\cos\\left({\\theta}\\right)^{2} + r^{6} - 6 \\, r v^{5} + v^{6} + 3 \\, {\\left(a^{2} \\cos\\left({\\theta}\\right)^{2} + 5 \\, r^{2}\\right)} v^{4} - 4 \\, {\\left(3 \\, a^{2} r \\cos\\left({\\theta}\\right)^{2} + 5 \\, r^{3}\\right)} v^{3} + 3 \\, {\\left(a^{4} \\cos\\left({\\theta}\\right)^{4} + 6 \\, a^{2} r^{2} \\cos\\left({\\theta}\\right)^{2} + 5 \\, r^{4}\\right)} v^{2} - 6 \\, {\\left(a^{4} r \\cos\\left({\\theta}\\right)^{4} + 2 \\, a^{2} r^{3} \\cos\\left({\\theta}\\right)^{2} + r^{5}\\right)} v} & 0 & 0 & -\\frac{K a^{3} \\cos\\left({\\theta}\\right)^{2} - K a r^{2} + 2 \\, K a r v - K a v^{2}}{a^{6} \\cos\\left({\\theta}\\right)^{6} + 3 \\, a^{4} r^{2} \\cos\\left({\\theta}\\right)^{4} + 3 \\, a^{2} r^{4} \\cos\\left({\\theta}\\right)^{2} + r^{6} - 6 \\, r v^{5} + v^{6} + 3 \\, {\\left(a^{2} \\cos\\left({\\theta}\\right)^{2} + 5 \\, r^{2}\\right)} v^{4} - 4 \\, {\\left(3 \\, a^{2} r \\cos\\left({\\theta}\\right)^{2} + 5 \\, r^{3}\\right)} v^{3} + 3 \\, {\\left(a^{4} \\cos\\left({\\theta}\\right)^{4} + 6 \\, a^{2} r^{2} \\cos\\left({\\theta}\\right)^{2} + 5 \\, r^{4}\\right)} v^{2} - 6 \\, {\\left(a^{4} r \\cos\\left({\\theta}\\right)^{4} + 2 \\, a^{2} r^{3} \\cos\\left({\\theta}\\right)^{2} + r^{5}\\right)} v} \\\\\n",
       "-\\frac{2 \\, {\\left(Q a^{2} r \\cos\\left({\\theta}\\right) \\sin\\left({\\theta}\\right) - Q a^{2} v \\cos\\left({\\theta}\\right) \\sin\\left({\\theta}\\right)\\right)}}{a^{6} \\cos\\left({\\theta}\\right)^{6} + 3 \\, a^{4} r^{2} \\cos\\left({\\theta}\\right)^{4} + 3 \\, a^{2} r^{4} \\cos\\left({\\theta}\\right)^{2} + r^{6} - 6 \\, r v^{5} + v^{6} + 3 \\, {\\left(a^{2} \\cos\\left({\\theta}\\right)^{2} + 5 \\, r^{2}\\right)} v^{4} - 4 \\, {\\left(3 \\, a^{2} r \\cos\\left({\\theta}\\right)^{2} + 5 \\, r^{3}\\right)} v^{3} + 3 \\, {\\left(a^{4} \\cos\\left({\\theta}\\right)^{4} + 6 \\, a^{2} r^{2} \\cos\\left({\\theta}\\right)^{2} + 5 \\, r^{4}\\right)} v^{2} - 6 \\, {\\left(a^{4} r \\cos\\left({\\theta}\\right)^{4} + 2 \\, a^{2} r^{3} \\cos\\left({\\theta}\\right)^{2} + r^{5}\\right)} v} & 0 & 0 & \\frac{2 \\, {\\left(K a r \\cos\\left({\\theta}\\right) - K a v \\cos\\left({\\theta}\\right)\\right)}}{6 \\, r v^{5} \\sin\\left({\\theta}\\right) - v^{6} \\sin\\left({\\theta}\\right) - 3 \\, {\\left(a^{2} \\cos\\left({\\theta}\\right)^{2} + 5 \\, r^{2}\\right)} v^{4} \\sin\\left({\\theta}\\right) + 4 \\, {\\left(3 \\, a^{2} r \\cos\\left({\\theta}\\right)^{2} + 5 \\, r^{3}\\right)} v^{3} \\sin\\left({\\theta}\\right) - 3 \\, {\\left(a^{4} \\cos\\left({\\theta}\\right)^{4} + 6 \\, a^{2} r^{2} \\cos\\left({\\theta}\\right)^{2} + 5 \\, r^{4}\\right)} v^{2} \\sin\\left({\\theta}\\right) + 6 \\, {\\left(a^{4} r \\cos\\left({\\theta}\\right)^{4} + 2 \\, a^{2} r^{3} \\cos\\left({\\theta}\\right)^{2} + r^{5}\\right)} v \\sin\\left({\\theta}\\right) - {\\left(a^{6} \\cos\\left({\\theta}\\right)^{6} + 3 \\, a^{4} r^{2} \\cos\\left({\\theta}\\right)^{4} + 3 \\, a^{2} r^{4} \\cos\\left({\\theta}\\right)^{2} + r^{6}\\right)} \\sin\\left({\\theta}\\right)} \\\\\n",
       "0 & \\frac{K a^{3} \\cos\\left({\\theta}\\right)^{2} - K a r^{2} + 2 \\, K a r v - K a v^{2}}{a^{6} \\cos\\left({\\theta}\\right)^{6} + 3 \\, a^{4} r^{2} \\cos\\left({\\theta}\\right)^{4} + 3 \\, a^{2} r^{4} \\cos\\left({\\theta}\\right)^{2} + r^{6} - 6 \\, r v^{5} + v^{6} + 3 \\, {\\left(a^{2} \\cos\\left({\\theta}\\right)^{2} + 5 \\, r^{2}\\right)} v^{4} - 4 \\, {\\left(3 \\, a^{2} r \\cos\\left({\\theta}\\right)^{2} + 5 \\, r^{3}\\right)} v^{3} + 3 \\, {\\left(a^{4} \\cos\\left({\\theta}\\right)^{4} + 6 \\, a^{2} r^{2} \\cos\\left({\\theta}\\right)^{2} + 5 \\, r^{4}\\right)} v^{2} - 6 \\, {\\left(a^{4} r \\cos\\left({\\theta}\\right)^{4} + 2 \\, a^{2} r^{3} \\cos\\left({\\theta}\\right)^{2} + r^{5}\\right)} v} & -\\frac{2 \\, {\\left(K a r \\cos\\left({\\theta}\\right) - K a v \\cos\\left({\\theta}\\right)\\right)}}{6 \\, r v^{5} \\sin\\left({\\theta}\\right) - v^{6} \\sin\\left({\\theta}\\right) - 3 \\, {\\left(a^{2} \\cos\\left({\\theta}\\right)^{2} + 5 \\, r^{2}\\right)} v^{4} \\sin\\left({\\theta}\\right) + 4 \\, {\\left(3 \\, a^{2} r \\cos\\left({\\theta}\\right)^{2} + 5 \\, r^{3}\\right)} v^{3} \\sin\\left({\\theta}\\right) - 3 \\, {\\left(a^{4} \\cos\\left({\\theta}\\right)^{4} + 6 \\, a^{2} r^{2} \\cos\\left({\\theta}\\right)^{2} + 5 \\, r^{4}\\right)} v^{2} \\sin\\left({\\theta}\\right) + 6 \\, {\\left(a^{4} r \\cos\\left({\\theta}\\right)^{4} + 2 \\, a^{2} r^{3} \\cos\\left({\\theta}\\right)^{2} + r^{5}\\right)} v \\sin\\left({\\theta}\\right) - {\\left(a^{6} \\cos\\left({\\theta}\\right)^{6} + 3 \\, a^{4} r^{2} \\cos\\left({\\theta}\\right)^{4} + 3 \\, a^{2} r^{4} \\cos\\left({\\theta}\\right)^{2} + r^{6}\\right)} \\sin\\left({\\theta}\\right)} & 0\n",
       "\\end{array}\\right)$$"
      ],
      "text/plain": [
       "[                                                                                                                                                                                                                                                                                                                                                                                                         0  (Q*a^4 - Q*r^4 + 4*Q*r*v^3 - Q*v^4 - (Q*a^2*sin(th)^2 + 6*Q*r^2)*v^2 - (Q*a^4 + Q*a^2*r^2)*sin(th)^2 + 2*(Q*a^2*r*sin(th)^2 + 2*Q*r^3)*v)/(a^6*cos(th)^6 + 3*a^4*r^2*cos(th)^4 + 3*a^2*r^4*cos(th)^2 + r^6 - 6*r*v^5 + v^6 + 3*(a^2*cos(th)^2 + 5*r^2)*v^4 - 4*(3*a^2*r*cos(th)^2 + 5*r^3)*v^3 + 3*(a^4*cos(th)^4 + 6*a^2*r^2*cos(th)^2 + 5*r^4)*v^2 - 6*(a^4*r*cos(th)^4 + 2*a^2*r^3*cos(th)^2 + r^5)*v)                                                                                      2*(Q*a^2*r*cos(th)*sin(th) - Q*a^2*v*cos(th)*sin(th))/(a^6*cos(th)^6 + 3*a^4*r^2*cos(th)^4 + 3*a^2*r^4*cos(th)^2 + r^6 - 6*r*v^5 + v^6 + 3*(a^2*cos(th)^2 + 5*r^2)*v^4 - 4*(3*a^2*r*cos(th)^2 + 5*r^3)*v^3 + 3*(a^4*cos(th)^4 + 6*a^2*r^2*cos(th)^2 + 5*r^4)*v^2 - 6*(a^4*r*cos(th)^4 + 2*a^2*r^3*cos(th)^2 + r^5)*v)                                                                                                                                                                                                                                                                                                                                                                                                          0]\n",
       "[-(Q*a^4 - Q*r^4 + 4*Q*r*v^3 - Q*v^4 - (Q*a^2*sin(th)^2 + 6*Q*r^2)*v^2 - (Q*a^4 + Q*a^2*r^2)*sin(th)^2 + 2*(Q*a^2*r*sin(th)^2 + 2*Q*r^3)*v)/(a^6*cos(th)^6 + 3*a^4*r^2*cos(th)^4 + 3*a^2*r^4*cos(th)^2 + r^6 - 6*r*v^5 + v^6 + 3*(a^2*cos(th)^2 + 5*r^2)*v^4 - 4*(3*a^2*r*cos(th)^2 + 5*r^3)*v^3 + 3*(a^4*cos(th)^4 + 6*a^2*r^2*cos(th)^2 + 5*r^4)*v^2 - 6*(a^4*r*cos(th)^4 + 2*a^2*r^3*cos(th)^2 + r^5)*v)                                                                                                                                                                                                                                                                                                                                                                                                          0                                                                                                                                                                                                                                                                                                                                                                                                          0                                                                                         -(K*a^3*cos(th)^2 - K*a*r^2 + 2*K*a*r*v - K*a*v^2)/(a^6*cos(th)^6 + 3*a^4*r^2*cos(th)^4 + 3*a^2*r^4*cos(th)^2 + r^6 - 6*r*v^5 + v^6 + 3*(a^2*cos(th)^2 + 5*r^2)*v^4 - 4*(3*a^2*r*cos(th)^2 + 5*r^3)*v^3 + 3*(a^4*cos(th)^4 + 6*a^2*r^2*cos(th)^2 + 5*r^4)*v^2 - 6*(a^4*r*cos(th)^4 + 2*a^2*r^3*cos(th)^2 + r^5)*v)]\n",
       "[                                                                                    -2*(Q*a^2*r*cos(th)*sin(th) - Q*a^2*v*cos(th)*sin(th))/(a^6*cos(th)^6 + 3*a^4*r^2*cos(th)^4 + 3*a^2*r^4*cos(th)^2 + r^6 - 6*r*v^5 + v^6 + 3*(a^2*cos(th)^2 + 5*r^2)*v^4 - 4*(3*a^2*r*cos(th)^2 + 5*r^3)*v^3 + 3*(a^4*cos(th)^4 + 6*a^2*r^2*cos(th)^2 + 5*r^4)*v^2 - 6*(a^4*r*cos(th)^4 + 2*a^2*r^3*cos(th)^2 + r^5)*v)                                                                                                                                                                                                                                                                                                                                                                                                          0                                                                                                                                                                                                                                                                                                                                                                                                          0                                                2*(K*a*r*cos(th) - K*a*v*cos(th))/(6*r*v^5*sin(th) - v^6*sin(th) - 3*(a^2*cos(th)^2 + 5*r^2)*v^4*sin(th) + 4*(3*a^2*r*cos(th)^2 + 5*r^3)*v^3*sin(th) - 3*(a^4*cos(th)^4 + 6*a^2*r^2*cos(th)^2 + 5*r^4)*v^2*sin(th) + 6*(a^4*r*cos(th)^4 + 2*a^2*r^3*cos(th)^2 + r^5)*v*sin(th) - (a^6*cos(th)^6 + 3*a^4*r^2*cos(th)^4 + 3*a^2*r^4*cos(th)^2 + r^6)*sin(th))]\n",
       "[                                                                                                                                                                                                                                                                                                                                                                                                         0                                                                                          (K*a^3*cos(th)^2 - K*a*r^2 + 2*K*a*r*v - K*a*v^2)/(a^6*cos(th)^6 + 3*a^4*r^2*cos(th)^4 + 3*a^2*r^4*cos(th)^2 + r^6 - 6*r*v^5 + v^6 + 3*(a^2*cos(th)^2 + 5*r^2)*v^4 - 4*(3*a^2*r*cos(th)^2 + 5*r^3)*v^3 + 3*(a^4*cos(th)^4 + 6*a^2*r^2*cos(th)^2 + 5*r^4)*v^2 - 6*(a^4*r*cos(th)^4 + 2*a^2*r^3*cos(th)^2 + r^5)*v)                                               -2*(K*a*r*cos(th) - K*a*v*cos(th))/(6*r*v^5*sin(th) - v^6*sin(th) - 3*(a^2*cos(th)^2 + 5*r^2)*v^4*sin(th) + 4*(3*a^2*r*cos(th)^2 + 5*r^3)*v^3*sin(th) - 3*(a^4*cos(th)^4 + 6*a^2*r^2*cos(th)^2 + 5*r^4)*v^2*sin(th) + 6*(a^4*r*cos(th)^4 + 2*a^2*r^3*cos(th)^2 + r^5)*v*sin(th) - (a^6*cos(th)^6 + 3*a^4*r^2*cos(th)^4 + 3*a^2*r^4*cos(th)^2 + r^6)*sin(th))                                                                                                                                                                                                                                                                                                                                                                                                          0]"
      ]
     },
     "execution_count": 10,
     "metadata": {},
     "output_type": "execute_result"
    }
   ],
   "source": [
    "F = M.tensor_field(2,0,name='F')\n",
    "F[0,1] = Q*((r-v)**2+a**2)*(a**2*cos(th)**2-(r-v)**2)/H1**3\n",
    "F[1,0] = -Q*((r-v)**2+a**2)*(a**2*cos(th)**2-(r-v)**2)/H1**3\n",
    "F[0,2] = 2*a**2*Q*(r-v)*cos(th)*sin(th)/H1**3\n",
    "F[2,0] = -2*a**2*Q*(r-v)*cos(th)*sin(th)/H1**3\n",
    "F[1,3] = -a*K*(a**2*cos(th)**2-(r-v)**2)/H1**3\n",
    "F[3,1] = a*K*(a**2*cos(th)**2-(r-v)**2)/H1**3\n",
    "F[2,3] = -2*a*K*(r-v)*cos(th)/(H1**3*sin(th))\n",
    "F[3,2] = 2*a*K*(r-v)*cos(th)/(H1**3*sin(th))\n",
    "F[:]"
   ]
  },
  {
   "cell_type": "markdown",
   "metadata": {},
   "source": [
    "On peut vérifier que ce tenseur est bien solution des équations $\\partial_\\nu\\left(H_1 \\sin\\left(\\theta\\right)F^{\\mu\\nu}\\right) = 0$ :"
   ]
  },
  {
   "cell_type": "code",
   "execution_count": 11,
   "metadata": {},
   "outputs": [],
   "source": [
    "N = H1*sin(th)*F"
   ]
  },
  {
   "cell_type": "code",
   "execution_count": 12,
   "metadata": {},
   "outputs": [],
   "source": [
    "N1 = diff(N[0,1],r)+diff(N[0,2],th)"
   ]
  },
  {
   "cell_type": "code",
   "execution_count": 16,
   "metadata": {},
   "outputs": [
    {
     "data": {
      "text/html": [
       "<html><script type=\"math/tex; mode=display\">\\newcommand{\\Bold}[1]{\\mathbf{#1}}0</script></html>"
      ],
      "text/latex": [
       "$$\\newcommand{\\Bold}[1]{\\mathbf{#1}}0$$"
      ],
      "text/plain": [
       "0"
      ]
     },
     "execution_count": 16,
     "metadata": {},
     "output_type": "execute_result"
    }
   ],
   "source": [
    "(N1*H1**3/(Q*sin(th)*2)).expr()"
   ]
  },
  {
   "cell_type": "code",
   "execution_count": 14,
   "metadata": {},
   "outputs": [],
   "source": [
    "N2 = diff(N[3,1],r)+diff(N[3,2],th)"
   ]
  },
  {
   "cell_type": "code",
   "execution_count": 17,
   "metadata": {},
   "outputs": [
    {
     "data": {
      "text/html": [
       "<html><script type=\"math/tex; mode=display\">\\newcommand{\\Bold}[1]{\\mathbf{#1}}0</script></html>"
      ],
      "text/latex": [
       "$$\\newcommand{\\Bold}[1]{\\mathbf{#1}}0$$"
      ],
      "text/plain": [
       "0"
      ]
     },
     "execution_count": 17,
     "metadata": {},
     "output_type": "execute_result"
    }
   ],
   "source": [
    "(N2*H1**3/(2*K*a*sin(th))).expr()"
   ]
  },
  {
   "cell_type": "markdown",
   "metadata": {},
   "source": [
    "#### Le tenseur électromagnétique modifié"
   ]
  },
  {
   "cell_type": "code",
   "execution_count": 18,
   "metadata": {},
   "outputs": [],
   "source": [
    "F2 = (H1/H2)**2*F"
   ]
  },
  {
   "cell_type": "code",
   "execution_count": 19,
   "metadata": {},
   "outputs": [
    {
     "data": {
      "text/html": [
       "<html><script type=\"math/tex; mode=display\">\\newcommand{\\Bold}[1]{\\mathbf{#1}}\\left(\\begin{array}{rrrr}\n",
       "0 & \\frac{Q a^{4} - Q r^{4} + 4 \\, Q r v^{3} - Q v^{4} - {\\left(Q a^{2} \\sin\\left({\\theta}\\right)^{2} + 6 \\, Q r^{2}\\right)} v^{2} - {\\left(Q a^{4} + Q a^{2} r^{2}\\right)} \\sin\\left({\\theta}\\right)^{2} + 2 \\, {\\left(Q a^{2} r \\sin\\left({\\theta}\\right)^{2} + 2 \\, Q r^{3}\\right)} v}{a^{6} \\cos\\left({\\theta}\\right)^{6} + 3 \\, a^{4} r^{2} \\cos\\left({\\theta}\\right)^{4} + 3 \\, a^{2} r^{4} \\cos\\left({\\theta}\\right)^{2} + r^{6} + r^{2} v^{4} - 2 \\, {\\left(a^{2} r \\cos\\left({\\theta}\\right)^{2} + 2 \\, r^{3}\\right)} v^{3} + {\\left(a^{4} \\cos\\left({\\theta}\\right)^{4} + 7 \\, a^{2} r^{2} \\cos\\left({\\theta}\\right)^{2} + 6 \\, r^{4}\\right)} v^{2} - 4 \\, {\\left(a^{4} r \\cos\\left({\\theta}\\right)^{4} + 2 \\, a^{2} r^{3} \\cos\\left({\\theta}\\right)^{2} + r^{5}\\right)} v} & \\frac{2 \\, {\\left(Q a^{2} r \\cos\\left({\\theta}\\right) \\sin\\left({\\theta}\\right) - Q a^{2} v \\cos\\left({\\theta}\\right) \\sin\\left({\\theta}\\right)\\right)}}{a^{6} \\cos\\left({\\theta}\\right)^{6} + 3 \\, a^{4} r^{2} \\cos\\left({\\theta}\\right)^{4} + 3 \\, a^{2} r^{4} \\cos\\left({\\theta}\\right)^{2} + r^{6} + r^{2} v^{4} - 2 \\, {\\left(a^{2} r \\cos\\left({\\theta}\\right)^{2} + 2 \\, r^{3}\\right)} v^{3} + {\\left(a^{4} \\cos\\left({\\theta}\\right)^{4} + 7 \\, a^{2} r^{2} \\cos\\left({\\theta}\\right)^{2} + 6 \\, r^{4}\\right)} v^{2} - 4 \\, {\\left(a^{4} r \\cos\\left({\\theta}\\right)^{4} + 2 \\, a^{2} r^{3} \\cos\\left({\\theta}\\right)^{2} + r^{5}\\right)} v} & 0 \\\\\n",
       "-\\frac{Q a^{4} - Q r^{4} + 4 \\, Q r v^{3} - Q v^{4} - {\\left(Q a^{2} \\sin\\left({\\theta}\\right)^{2} + 6 \\, Q r^{2}\\right)} v^{2} - {\\left(Q a^{4} + Q a^{2} r^{2}\\right)} \\sin\\left({\\theta}\\right)^{2} + 2 \\, {\\left(Q a^{2} r \\sin\\left({\\theta}\\right)^{2} + 2 \\, Q r^{3}\\right)} v}{a^{6} \\cos\\left({\\theta}\\right)^{6} + 3 \\, a^{4} r^{2} \\cos\\left({\\theta}\\right)^{4} + 3 \\, a^{2} r^{4} \\cos\\left({\\theta}\\right)^{2} + r^{6} + r^{2} v^{4} - 2 \\, {\\left(a^{2} r \\cos\\left({\\theta}\\right)^{2} + 2 \\, r^{3}\\right)} v^{3} + {\\left(a^{4} \\cos\\left({\\theta}\\right)^{4} + 7 \\, a^{2} r^{2} \\cos\\left({\\theta}\\right)^{2} + 6 \\, r^{4}\\right)} v^{2} - 4 \\, {\\left(a^{4} r \\cos\\left({\\theta}\\right)^{4} + 2 \\, a^{2} r^{3} \\cos\\left({\\theta}\\right)^{2} + r^{5}\\right)} v} & 0 & 0 & -\\frac{K a^{3} \\cos\\left({\\theta}\\right)^{2} - K a r^{2} + 2 \\, K a r v - K a v^{2}}{a^{6} \\cos\\left({\\theta}\\right)^{6} + 3 \\, a^{4} r^{2} \\cos\\left({\\theta}\\right)^{4} + 3 \\, a^{2} r^{4} \\cos\\left({\\theta}\\right)^{2} + r^{6} + r^{2} v^{4} - 2 \\, {\\left(a^{2} r \\cos\\left({\\theta}\\right)^{2} + 2 \\, r^{3}\\right)} v^{3} + {\\left(a^{4} \\cos\\left({\\theta}\\right)^{4} + 7 \\, a^{2} r^{2} \\cos\\left({\\theta}\\right)^{2} + 6 \\, r^{4}\\right)} v^{2} - 4 \\, {\\left(a^{4} r \\cos\\left({\\theta}\\right)^{4} + 2 \\, a^{2} r^{3} \\cos\\left({\\theta}\\right)^{2} + r^{5}\\right)} v} \\\\\n",
       "-\\frac{2 \\, {\\left(Q a^{2} r \\cos\\left({\\theta}\\right) \\sin\\left({\\theta}\\right) - Q a^{2} v \\cos\\left({\\theta}\\right) \\sin\\left({\\theta}\\right)\\right)}}{a^{6} \\cos\\left({\\theta}\\right)^{6} + 3 \\, a^{4} r^{2} \\cos\\left({\\theta}\\right)^{4} + 3 \\, a^{2} r^{4} \\cos\\left({\\theta}\\right)^{2} + r^{6} + r^{2} v^{4} - 2 \\, {\\left(a^{2} r \\cos\\left({\\theta}\\right)^{2} + 2 \\, r^{3}\\right)} v^{3} + {\\left(a^{4} \\cos\\left({\\theta}\\right)^{4} + 7 \\, a^{2} r^{2} \\cos\\left({\\theta}\\right)^{2} + 6 \\, r^{4}\\right)} v^{2} - 4 \\, {\\left(a^{4} r \\cos\\left({\\theta}\\right)^{4} + 2 \\, a^{2} r^{3} \\cos\\left({\\theta}\\right)^{2} + r^{5}\\right)} v} & 0 & 0 & -\\frac{2 \\, {\\left(K a r \\cos\\left({\\theta}\\right) - K a v \\cos\\left({\\theta}\\right)\\right)}}{r^{2} v^{4} \\sin\\left({\\theta}\\right) - 2 \\, {\\left(a^{2} r \\cos\\left({\\theta}\\right)^{2} + 2 \\, r^{3}\\right)} v^{3} \\sin\\left({\\theta}\\right) + {\\left(a^{4} \\cos\\left({\\theta}\\right)^{4} + 7 \\, a^{2} r^{2} \\cos\\left({\\theta}\\right)^{2} + 6 \\, r^{4}\\right)} v^{2} \\sin\\left({\\theta}\\right) - 4 \\, {\\left(a^{4} r \\cos\\left({\\theta}\\right)^{4} + 2 \\, a^{2} r^{3} \\cos\\left({\\theta}\\right)^{2} + r^{5}\\right)} v \\sin\\left({\\theta}\\right) + {\\left(a^{6} \\cos\\left({\\theta}\\right)^{6} + 3 \\, a^{4} r^{2} \\cos\\left({\\theta}\\right)^{4} + 3 \\, a^{2} r^{4} \\cos\\left({\\theta}\\right)^{2} + r^{6}\\right)} \\sin\\left({\\theta}\\right)} \\\\\n",
       "0 & \\frac{K a^{3} \\cos\\left({\\theta}\\right)^{2} - K a r^{2} + 2 \\, K a r v - K a v^{2}}{a^{6} \\cos\\left({\\theta}\\right)^{6} + 3 \\, a^{4} r^{2} \\cos\\left({\\theta}\\right)^{4} + 3 \\, a^{2} r^{4} \\cos\\left({\\theta}\\right)^{2} + r^{6} + r^{2} v^{4} - 2 \\, {\\left(a^{2} r \\cos\\left({\\theta}\\right)^{2} + 2 \\, r^{3}\\right)} v^{3} + {\\left(a^{4} \\cos\\left({\\theta}\\right)^{4} + 7 \\, a^{2} r^{2} \\cos\\left({\\theta}\\right)^{2} + 6 \\, r^{4}\\right)} v^{2} - 4 \\, {\\left(a^{4} r \\cos\\left({\\theta}\\right)^{4} + 2 \\, a^{2} r^{3} \\cos\\left({\\theta}\\right)^{2} + r^{5}\\right)} v} & \\frac{2 \\, {\\left(K a r \\cos\\left({\\theta}\\right) - K a v \\cos\\left({\\theta}\\right)\\right)}}{r^{2} v^{4} \\sin\\left({\\theta}\\right) - 2 \\, {\\left(a^{2} r \\cos\\left({\\theta}\\right)^{2} + 2 \\, r^{3}\\right)} v^{3} \\sin\\left({\\theta}\\right) + {\\left(a^{4} \\cos\\left({\\theta}\\right)^{4} + 7 \\, a^{2} r^{2} \\cos\\left({\\theta}\\right)^{2} + 6 \\, r^{4}\\right)} v^{2} \\sin\\left({\\theta}\\right) - 4 \\, {\\left(a^{4} r \\cos\\left({\\theta}\\right)^{4} + 2 \\, a^{2} r^{3} \\cos\\left({\\theta}\\right)^{2} + r^{5}\\right)} v \\sin\\left({\\theta}\\right) + {\\left(a^{6} \\cos\\left({\\theta}\\right)^{6} + 3 \\, a^{4} r^{2} \\cos\\left({\\theta}\\right)^{4} + 3 \\, a^{2} r^{4} \\cos\\left({\\theta}\\right)^{2} + r^{6}\\right)} \\sin\\left({\\theta}\\right)} & 0\n",
       "\\end{array}\\right)</script></html>"
      ],
      "text/latex": [
       "$$\\newcommand{\\Bold}[1]{\\mathbf{#1}}\\left(\\begin{array}{rrrr}\n",
       "0 & \\frac{Q a^{4} - Q r^{4} + 4 \\, Q r v^{3} - Q v^{4} - {\\left(Q a^{2} \\sin\\left({\\theta}\\right)^{2} + 6 \\, Q r^{2}\\right)} v^{2} - {\\left(Q a^{4} + Q a^{2} r^{2}\\right)} \\sin\\left({\\theta}\\right)^{2} + 2 \\, {\\left(Q a^{2} r \\sin\\left({\\theta}\\right)^{2} + 2 \\, Q r^{3}\\right)} v}{a^{6} \\cos\\left({\\theta}\\right)^{6} + 3 \\, a^{4} r^{2} \\cos\\left({\\theta}\\right)^{4} + 3 \\, a^{2} r^{4} \\cos\\left({\\theta}\\right)^{2} + r^{6} + r^{2} v^{4} - 2 \\, {\\left(a^{2} r \\cos\\left({\\theta}\\right)^{2} + 2 \\, r^{3}\\right)} v^{3} + {\\left(a^{4} \\cos\\left({\\theta}\\right)^{4} + 7 \\, a^{2} r^{2} \\cos\\left({\\theta}\\right)^{2} + 6 \\, r^{4}\\right)} v^{2} - 4 \\, {\\left(a^{4} r \\cos\\left({\\theta}\\right)^{4} + 2 \\, a^{2} r^{3} \\cos\\left({\\theta}\\right)^{2} + r^{5}\\right)} v} & \\frac{2 \\, {\\left(Q a^{2} r \\cos\\left({\\theta}\\right) \\sin\\left({\\theta}\\right) - Q a^{2} v \\cos\\left({\\theta}\\right) \\sin\\left({\\theta}\\right)\\right)}}{a^{6} \\cos\\left({\\theta}\\right)^{6} + 3 \\, a^{4} r^{2} \\cos\\left({\\theta}\\right)^{4} + 3 \\, a^{2} r^{4} \\cos\\left({\\theta}\\right)^{2} + r^{6} + r^{2} v^{4} - 2 \\, {\\left(a^{2} r \\cos\\left({\\theta}\\right)^{2} + 2 \\, r^{3}\\right)} v^{3} + {\\left(a^{4} \\cos\\left({\\theta}\\right)^{4} + 7 \\, a^{2} r^{2} \\cos\\left({\\theta}\\right)^{2} + 6 \\, r^{4}\\right)} v^{2} - 4 \\, {\\left(a^{4} r \\cos\\left({\\theta}\\right)^{4} + 2 \\, a^{2} r^{3} \\cos\\left({\\theta}\\right)^{2} + r^{5}\\right)} v} & 0 \\\\\n",
       "-\\frac{Q a^{4} - Q r^{4} + 4 \\, Q r v^{3} - Q v^{4} - {\\left(Q a^{2} \\sin\\left({\\theta}\\right)^{2} + 6 \\, Q r^{2}\\right)} v^{2} - {\\left(Q a^{4} + Q a^{2} r^{2}\\right)} \\sin\\left({\\theta}\\right)^{2} + 2 \\, {\\left(Q a^{2} r \\sin\\left({\\theta}\\right)^{2} + 2 \\, Q r^{3}\\right)} v}{a^{6} \\cos\\left({\\theta}\\right)^{6} + 3 \\, a^{4} r^{2} \\cos\\left({\\theta}\\right)^{4} + 3 \\, a^{2} r^{4} \\cos\\left({\\theta}\\right)^{2} + r^{6} + r^{2} v^{4} - 2 \\, {\\left(a^{2} r \\cos\\left({\\theta}\\right)^{2} + 2 \\, r^{3}\\right)} v^{3} + {\\left(a^{4} \\cos\\left({\\theta}\\right)^{4} + 7 \\, a^{2} r^{2} \\cos\\left({\\theta}\\right)^{2} + 6 \\, r^{4}\\right)} v^{2} - 4 \\, {\\left(a^{4} r \\cos\\left({\\theta}\\right)^{4} + 2 \\, a^{2} r^{3} \\cos\\left({\\theta}\\right)^{2} + r^{5}\\right)} v} & 0 & 0 & -\\frac{K a^{3} \\cos\\left({\\theta}\\right)^{2} - K a r^{2} + 2 \\, K a r v - K a v^{2}}{a^{6} \\cos\\left({\\theta}\\right)^{6} + 3 \\, a^{4} r^{2} \\cos\\left({\\theta}\\right)^{4} + 3 \\, a^{2} r^{4} \\cos\\left({\\theta}\\right)^{2} + r^{6} + r^{2} v^{4} - 2 \\, {\\left(a^{2} r \\cos\\left({\\theta}\\right)^{2} + 2 \\, r^{3}\\right)} v^{3} + {\\left(a^{4} \\cos\\left({\\theta}\\right)^{4} + 7 \\, a^{2} r^{2} \\cos\\left({\\theta}\\right)^{2} + 6 \\, r^{4}\\right)} v^{2} - 4 \\, {\\left(a^{4} r \\cos\\left({\\theta}\\right)^{4} + 2 \\, a^{2} r^{3} \\cos\\left({\\theta}\\right)^{2} + r^{5}\\right)} v} \\\\\n",
       "-\\frac{2 \\, {\\left(Q a^{2} r \\cos\\left({\\theta}\\right) \\sin\\left({\\theta}\\right) - Q a^{2} v \\cos\\left({\\theta}\\right) \\sin\\left({\\theta}\\right)\\right)}}{a^{6} \\cos\\left({\\theta}\\right)^{6} + 3 \\, a^{4} r^{2} \\cos\\left({\\theta}\\right)^{4} + 3 \\, a^{2} r^{4} \\cos\\left({\\theta}\\right)^{2} + r^{6} + r^{2} v^{4} - 2 \\, {\\left(a^{2} r \\cos\\left({\\theta}\\right)^{2} + 2 \\, r^{3}\\right)} v^{3} + {\\left(a^{4} \\cos\\left({\\theta}\\right)^{4} + 7 \\, a^{2} r^{2} \\cos\\left({\\theta}\\right)^{2} + 6 \\, r^{4}\\right)} v^{2} - 4 \\, {\\left(a^{4} r \\cos\\left({\\theta}\\right)^{4} + 2 \\, a^{2} r^{3} \\cos\\left({\\theta}\\right)^{2} + r^{5}\\right)} v} & 0 & 0 & -\\frac{2 \\, {\\left(K a r \\cos\\left({\\theta}\\right) - K a v \\cos\\left({\\theta}\\right)\\right)}}{r^{2} v^{4} \\sin\\left({\\theta}\\right) - 2 \\, {\\left(a^{2} r \\cos\\left({\\theta}\\right)^{2} + 2 \\, r^{3}\\right)} v^{3} \\sin\\left({\\theta}\\right) + {\\left(a^{4} \\cos\\left({\\theta}\\right)^{4} + 7 \\, a^{2} r^{2} \\cos\\left({\\theta}\\right)^{2} + 6 \\, r^{4}\\right)} v^{2} \\sin\\left({\\theta}\\right) - 4 \\, {\\left(a^{4} r \\cos\\left({\\theta}\\right)^{4} + 2 \\, a^{2} r^{3} \\cos\\left({\\theta}\\right)^{2} + r^{5}\\right)} v \\sin\\left({\\theta}\\right) + {\\left(a^{6} \\cos\\left({\\theta}\\right)^{6} + 3 \\, a^{4} r^{2} \\cos\\left({\\theta}\\right)^{4} + 3 \\, a^{2} r^{4} \\cos\\left({\\theta}\\right)^{2} + r^{6}\\right)} \\sin\\left({\\theta}\\right)} \\\\\n",
       "0 & \\frac{K a^{3} \\cos\\left({\\theta}\\right)^{2} - K a r^{2} + 2 \\, K a r v - K a v^{2}}{a^{6} \\cos\\left({\\theta}\\right)^{6} + 3 \\, a^{4} r^{2} \\cos\\left({\\theta}\\right)^{4} + 3 \\, a^{2} r^{4} \\cos\\left({\\theta}\\right)^{2} + r^{6} + r^{2} v^{4} - 2 \\, {\\left(a^{2} r \\cos\\left({\\theta}\\right)^{2} + 2 \\, r^{3}\\right)} v^{3} + {\\left(a^{4} \\cos\\left({\\theta}\\right)^{4} + 7 \\, a^{2} r^{2} \\cos\\left({\\theta}\\right)^{2} + 6 \\, r^{4}\\right)} v^{2} - 4 \\, {\\left(a^{4} r \\cos\\left({\\theta}\\right)^{4} + 2 \\, a^{2} r^{3} \\cos\\left({\\theta}\\right)^{2} + r^{5}\\right)} v} & \\frac{2 \\, {\\left(K a r \\cos\\left({\\theta}\\right) - K a v \\cos\\left({\\theta}\\right)\\right)}}{r^{2} v^{4} \\sin\\left({\\theta}\\right) - 2 \\, {\\left(a^{2} r \\cos\\left({\\theta}\\right)^{2} + 2 \\, r^{3}\\right)} v^{3} \\sin\\left({\\theta}\\right) + {\\left(a^{4} \\cos\\left({\\theta}\\right)^{4} + 7 \\, a^{2} r^{2} \\cos\\left({\\theta}\\right)^{2} + 6 \\, r^{4}\\right)} v^{2} \\sin\\left({\\theta}\\right) - 4 \\, {\\left(a^{4} r \\cos\\left({\\theta}\\right)^{4} + 2 \\, a^{2} r^{3} \\cos\\left({\\theta}\\right)^{2} + r^{5}\\right)} v \\sin\\left({\\theta}\\right) + {\\left(a^{6} \\cos\\left({\\theta}\\right)^{6} + 3 \\, a^{4} r^{2} \\cos\\left({\\theta}\\right)^{4} + 3 \\, a^{2} r^{4} \\cos\\left({\\theta}\\right)^{2} + r^{6}\\right)} \\sin\\left({\\theta}\\right)} & 0\n",
       "\\end{array}\\right)$$"
      ],
      "text/plain": [
       "[                                                                                                                                                                                                                                                                                                                                                               0  (Q*a^4 - Q*r^4 + 4*Q*r*v^3 - Q*v^4 - (Q*a^2*sin(th)^2 + 6*Q*r^2)*v^2 - (Q*a^4 + Q*a^2*r^2)*sin(th)^2 + 2*(Q*a^2*r*sin(th)^2 + 2*Q*r^3)*v)/(a^6*cos(th)^6 + 3*a^4*r^2*cos(th)^4 + 3*a^2*r^4*cos(th)^2 + r^6 + r^2*v^4 - 2*(a^2*r*cos(th)^2 + 2*r^3)*v^3 + (a^4*cos(th)^4 + 7*a^2*r^2*cos(th)^2 + 6*r^4)*v^2 - 4*(a^4*r*cos(th)^4 + 2*a^2*r^3*cos(th)^2 + r^5)*v)                                                                                      2*(Q*a^2*r*cos(th)*sin(th) - Q*a^2*v*cos(th)*sin(th))/(a^6*cos(th)^6 + 3*a^4*r^2*cos(th)^4 + 3*a^2*r^4*cos(th)^2 + r^6 + r^2*v^4 - 2*(a^2*r*cos(th)^2 + 2*r^3)*v^3 + (a^4*cos(th)^4 + 7*a^2*r^2*cos(th)^2 + 6*r^4)*v^2 - 4*(a^4*r*cos(th)^4 + 2*a^2*r^3*cos(th)^2 + r^5)*v)                                                                                                                                                                                                                                                                                                                                                                0]\n",
       "[-(Q*a^4 - Q*r^4 + 4*Q*r*v^3 - Q*v^4 - (Q*a^2*sin(th)^2 + 6*Q*r^2)*v^2 - (Q*a^4 + Q*a^2*r^2)*sin(th)^2 + 2*(Q*a^2*r*sin(th)^2 + 2*Q*r^3)*v)/(a^6*cos(th)^6 + 3*a^4*r^2*cos(th)^4 + 3*a^2*r^4*cos(th)^2 + r^6 + r^2*v^4 - 2*(a^2*r*cos(th)^2 + 2*r^3)*v^3 + (a^4*cos(th)^4 + 7*a^2*r^2*cos(th)^2 + 6*r^4)*v^2 - 4*(a^4*r*cos(th)^4 + 2*a^2*r^3*cos(th)^2 + r^5)*v)                                                                                                                                                                                                                                                                                                                                                                0                                                                                                                                                                                                                                                                                                                                                                0                                                                                         -(K*a^3*cos(th)^2 - K*a*r^2 + 2*K*a*r*v - K*a*v^2)/(a^6*cos(th)^6 + 3*a^4*r^2*cos(th)^4 + 3*a^2*r^4*cos(th)^2 + r^6 + r^2*v^4 - 2*(a^2*r*cos(th)^2 + 2*r^3)*v^3 + (a^4*cos(th)^4 + 7*a^2*r^2*cos(th)^2 + 6*r^4)*v^2 - 4*(a^4*r*cos(th)^4 + 2*a^2*r^3*cos(th)^2 + r^5)*v)]\n",
       "[                                                                                    -2*(Q*a^2*r*cos(th)*sin(th) - Q*a^2*v*cos(th)*sin(th))/(a^6*cos(th)^6 + 3*a^4*r^2*cos(th)^4 + 3*a^2*r^4*cos(th)^2 + r^6 + r^2*v^4 - 2*(a^2*r*cos(th)^2 + 2*r^3)*v^3 + (a^4*cos(th)^4 + 7*a^2*r^2*cos(th)^2 + 6*r^4)*v^2 - 4*(a^4*r*cos(th)^4 + 2*a^2*r^3*cos(th)^2 + r^5)*v)                                                                                                                                                                                                                                                                                                                                                                0                                                                                                                                                                                                                                                                                                                                                                0                                                               -2*(K*a*r*cos(th) - K*a*v*cos(th))/(r^2*v^4*sin(th) - 2*(a^2*r*cos(th)^2 + 2*r^3)*v^3*sin(th) + (a^4*cos(th)^4 + 7*a^2*r^2*cos(th)^2 + 6*r^4)*v^2*sin(th) - 4*(a^4*r*cos(th)^4 + 2*a^2*r^3*cos(th)^2 + r^5)*v*sin(th) + (a^6*cos(th)^6 + 3*a^4*r^2*cos(th)^4 + 3*a^2*r^4*cos(th)^2 + r^6)*sin(th))]\n",
       "[                                                                                                                                                                                                                                                                                                                                                               0                                                                                          (K*a^3*cos(th)^2 - K*a*r^2 + 2*K*a*r*v - K*a*v^2)/(a^6*cos(th)^6 + 3*a^4*r^2*cos(th)^4 + 3*a^2*r^4*cos(th)^2 + r^6 + r^2*v^4 - 2*(a^2*r*cos(th)^2 + 2*r^3)*v^3 + (a^4*cos(th)^4 + 7*a^2*r^2*cos(th)^2 + 6*r^4)*v^2 - 4*(a^4*r*cos(th)^4 + 2*a^2*r^3*cos(th)^2 + r^5)*v)                                                                2*(K*a*r*cos(th) - K*a*v*cos(th))/(r^2*v^4*sin(th) - 2*(a^2*r*cos(th)^2 + 2*r^3)*v^3*sin(th) + (a^4*cos(th)^4 + 7*a^2*r^2*cos(th)^2 + 6*r^4)*v^2*sin(th) - 4*(a^4*r*cos(th)^4 + 2*a^2*r^3*cos(th)^2 + r^5)*v*sin(th) + (a^6*cos(th)^6 + 3*a^4*r^2*cos(th)^4 + 3*a^2*r^4*cos(th)^2 + r^6)*sin(th))                                                                                                                                                                                                                                                                                                                                                                0]"
      ]
     },
     "execution_count": 19,
     "metadata": {},
     "output_type": "execute_result"
    }
   ],
   "source": [
    "F2[:]"
   ]
  },
  {
   "cell_type": "markdown",
   "metadata": {},
   "source": [
    "De part sa construction, le tenseur ci-dessus vérifié l'équation $\\partial_\\nu\\left(\\frac{H_2^2}{H_1} \\sin\\left(\\theta\\right)F^{\\mu\\nu}\\right) = 0$."
   ]
  },
  {
   "cell_type": "markdown",
   "metadata": {},
   "source": [
    "On abaisse les indices de ce nouveau tenseur pour vérifier s'il est cohérent avec le champ électromagnétique engendré par $A$."
   ]
  },
  {
   "cell_type": "code",
   "execution_count": 20,
   "metadata": {},
   "outputs": [],
   "source": [
    "F2_down = F2.down(g)"
   ]
  },
  {
   "cell_type": "code",
   "execution_count": 21,
   "metadata": {},
   "outputs": [
    {
     "data": {
      "text/html": [
       "<html><script type=\"math/tex; mode=display\">\\newcommand{\\Bold}[1]{\\mathbf{#1}}{\\left(B K - Q u + Q v\\right)} a^{2} {\\left(r - v\\right)} \\sin\\left({\\theta}\\right)^{2}</script></html>"
      ],
      "text/latex": [
       "$$\\newcommand{\\Bold}[1]{\\mathbf{#1}}{\\left(B K - Q u + Q v\\right)} a^{2} {\\left(r - v\\right)} \\sin\\left({\\theta}\\right)^{2}$$"
      ],
      "text/plain": [
       "(B*K - Q*u + Q*v)*a^2*(r - v)*sin(th)^2"
      ]
     },
     "execution_count": 21,
     "metadata": {},
     "output_type": "execute_result"
    }
   ],
   "source": [
    "(-F2_down[0,1]/((a*cos(th)+r-v)*(a*cos(th)-r+v))*H2**2*H1*D - Q*H1*D).expr().factor()"
   ]
  },
  {
   "cell_type": "markdown",
   "metadata": {},
   "source": [
    "Si on pose $BK = Q\\left(u-v\\right)$, on obtient la relation suivante :"
   ]
  },
  {
   "cell_type": "markdown",
   "metadata": {},
   "source": [
    "$-\\frac{F_{tr}H_2^2 H_1 \\Delta}{a^2\\cos^2\\theta - \\left(r-v\\right)^2} = Q H_1 \\Delta$"
   ]
  },
  {
   "cell_type": "markdown",
   "metadata": {},
   "source": [
    "Ce qui est équivalent à : $F_{tr} = -Q \\frac{a^2\\cos^2\\theta - \\left(r-v\\right)^2}{H_2^2}$ qui est la composante engendrée par $A_t = Q \\frac{r-v}{H_2}$."
   ]
  },
  {
   "cell_type": "code",
   "execution_count": 22,
   "metadata": {},
   "outputs": [
    {
     "data": {
      "text/html": [
       "<html><script type=\"math/tex; mode=display\">\\newcommand{\\Bold}[1]{\\mathbf{#1}}-\\frac{2 \\, Q a^{2} {\\left(r - v\\right)} \\cos\\left({\\theta}\\right) \\sin\\left({\\theta}\\right)}{{\\left(a^{2} \\cos\\left({\\theta}\\right)^{2} + r^{2} - r v\\right)}^{2}}</script></html>"
      ],
      "text/latex": [
       "$$\\newcommand{\\Bold}[1]{\\mathbf{#1}}-\\frac{2 \\, Q a^{2} {\\left(r - v\\right)} \\cos\\left({\\theta}\\right) \\sin\\left({\\theta}\\right)}{{\\left(a^{2} \\cos\\left({\\theta}\\right)^{2} + r^{2} - r v\\right)}^{2}}$$"
      ],
      "text/plain": [
       "-2*Q*a^2*(r - v)*cos(th)*sin(th)/(a^2*cos(th)^2 + r^2 - r*v)^2"
      ]
     },
     "execution_count": 22,
     "metadata": {},
     "output_type": "execute_result"
    }
   ],
   "source": [
    "F2_down[0,2].expr().factor().subs(B = Q*(u-v)/K).factor()"
   ]
  },
  {
   "cell_type": "markdown",
   "metadata": {},
   "source": [
    "La relation entre $B$, $K$ et $Q$ est cohérente avec la composante $F_{t\\theta}$."
   ]
  },
  {
   "cell_type": "code",
   "execution_count": 24,
   "metadata": {
    "scrolled": true
   },
   "outputs": [
    {
     "data": {
      "text/html": [
       "<html><script type=\"math/tex; mode=display\">\\newcommand{\\Bold}[1]{\\mathbf{#1}}-\\frac{{\\left({\\left(a^{2} \\cos\\left({\\theta}\\right)^{2} + r^{2} - r v\\right)}^{2 \\, \\beta} K a^{8} \\cos\\left({\\theta}\\right)^{6} + {\\left(a^{2} \\cos\\left({\\theta}\\right)^{2} + r^{2} - r v\\right)}^{2 \\, \\beta} K a^{6} r^{2} \\cos\\left({\\theta}\\right)^{6} - {\\left(a^{2} \\cos\\left({\\theta}\\right)^{2} + r^{2} - r v\\right)}^{2 \\, \\beta} K a^{6} r u \\cos\\left({\\theta}\\right)^{6} - {\\left(a^{2} \\cos\\left({\\theta}\\right)^{2} + r^{2} - r v\\right)}^{2 \\, \\beta} K a^{6} r v \\cos\\left({\\theta}\\right)^{6} + {\\left(a^{2} \\cos\\left({\\theta}\\right)^{2} + r^{2} - r v\\right)}^{2 \\, \\beta} K a^{6} u v \\cos\\left({\\theta}\\right)^{6} + {\\left(a^{2} \\cos\\left({\\theta}\\right)^{2} + r^{2} - r v\\right)}^{2 \\, \\beta} K a^{6} r^{2} \\cos\\left({\\theta}\\right)^{4} + {\\left(a^{2} \\cos\\left({\\theta}\\right)^{2} + r^{2} - r v\\right)}^{2 \\, \\beta} K a^{4} r^{4} \\cos\\left({\\theta}\\right)^{4} - {\\left(a^{2} \\cos\\left({\\theta}\\right)^{2} + r^{2} - r v\\right)}^{2 \\, \\beta} K a^{4} r^{3} u \\cos\\left({\\theta}\\right)^{4} - {\\left(a^{2} \\cos\\left({\\theta}\\right)^{2} + r^{2} - r v\\right)}^{2 \\, \\beta} K a^{4} r^{3} v \\cos\\left({\\theta}\\right)^{4} + {\\left(a^{2} \\cos\\left({\\theta}\\right)^{2} + r^{2} - r v\\right)}^{2 \\, \\beta} K a^{4} r^{2} u v \\cos\\left({\\theta}\\right)^{4} - {\\left(a^{2} \\cos\\left({\\theta}\\right)^{2} + r^{2} - r v\\right)}^{2 \\, \\beta} K a^{6} v^{2} \\cos\\left({\\theta}\\right)^{4} - {\\left(a^{2} \\cos\\left({\\theta}\\right)^{2} + r^{2} - r v\\right)}^{2 \\, \\beta} K a^{4} r^{2} v^{2} \\cos\\left({\\theta}\\right)^{4} + {\\left(a^{2} \\cos\\left({\\theta}\\right)^{2} + r^{2} - r v\\right)}^{2 \\, \\beta} K a^{4} r u v^{2} \\cos\\left({\\theta}\\right)^{4} + {\\left(a^{2} \\cos\\left({\\theta}\\right)^{2} + r^{2} - r v\\right)}^{2 \\, \\beta} K a^{4} r v^{3} \\cos\\left({\\theta}\\right)^{4} - {\\left(a^{2} \\cos\\left({\\theta}\\right)^{2} + r^{2} - r v\\right)}^{2 \\, \\beta} K a^{4} u v^{3} \\cos\\left({\\theta}\\right)^{4} + {\\left(a^{2} \\cos\\left({\\theta}\\right)^{2} + r^{2} - 2 \\, r v + v^{2}\\right)}^{2 \\, \\beta} B Q a^{6} r \\cos\\left({\\theta}\\right)^{2} \\sin\\left({\\theta}\\right)^{2} - {\\left(a^{2} \\cos\\left({\\theta}\\right)^{2} + r^{2} - 2 \\, r v + v^{2}\\right)}^{2 \\, \\beta} B^{2} K a^{4} r^{2} \\cos\\left({\\theta}\\right)^{2} \\sin\\left({\\theta}\\right)^{2} + {\\left(a^{2} \\cos\\left({\\theta}\\right)^{2} + r^{2} - 2 \\, r v + v^{2}\\right)}^{2 \\, \\beta} B Q a^{4} r^{3} \\cos\\left({\\theta}\\right)^{2} \\sin\\left({\\theta}\\right)^{2} - {\\left(a^{2} \\cos\\left({\\theta}\\right)^{2} + r^{2} - 2 \\, r v + v^{2}\\right)}^{2 \\, \\beta} B Q a^{6} v \\cos\\left({\\theta}\\right)^{2} \\sin\\left({\\theta}\\right)^{2} + 2 \\, {\\left(a^{2} \\cos\\left({\\theta}\\right)^{2} + r^{2} - 2 \\, r v + v^{2}\\right)}^{2 \\, \\beta} B^{2} K a^{4} r v \\cos\\left({\\theta}\\right)^{2} \\sin\\left({\\theta}\\right)^{2} - 3 \\, {\\left(a^{2} \\cos\\left({\\theta}\\right)^{2} + r^{2} - 2 \\, r v + v^{2}\\right)}^{2 \\, \\beta} B Q a^{4} r^{2} v \\cos\\left({\\theta}\\right)^{2} \\sin\\left({\\theta}\\right)^{2} - {\\left(a^{2} \\cos\\left({\\theta}\\right)^{2} + r^{2} - 2 \\, r v + v^{2}\\right)}^{2 \\, \\beta} B^{2} K a^{4} v^{2} \\cos\\left({\\theta}\\right)^{2} \\sin\\left({\\theta}\\right)^{2} + 3 \\, {\\left(a^{2} \\cos\\left({\\theta}\\right)^{2} + r^{2} - 2 \\, r v + v^{2}\\right)}^{2 \\, \\beta} B Q a^{4} r v^{2} \\cos\\left({\\theta}\\right)^{2} \\sin\\left({\\theta}\\right)^{2} - {\\left(a^{2} \\cos\\left({\\theta}\\right)^{2} + r^{2} - 2 \\, r v + v^{2}\\right)}^{2 \\, \\beta} B Q a^{4} v^{3} \\cos\\left({\\theta}\\right)^{2} \\sin\\left({\\theta}\\right)^{2} - {\\left(a^{2} \\cos\\left({\\theta}\\right)^{2} + r^{2} - 2 \\, r v + v^{2}\\right)}^{2 \\, \\beta} B Q a^{6} r \\cos\\left({\\theta}\\right)^{2} - {\\left(a^{2} \\cos\\left({\\theta}\\right)^{2} + r^{2} - r v\\right)}^{2 \\, \\beta} K a^{4} r^{4} \\cos\\left({\\theta}\\right)^{2} + {\\left(a^{2} \\cos\\left({\\theta}\\right)^{2} + r^{2} - 2 \\, r v + v^{2}\\right)}^{2 \\, \\beta} B Q a^{2} r^{5} \\cos\\left({\\theta}\\right)^{2} - {\\left(a^{2} \\cos\\left({\\theta}\\right)^{2} + r^{2} - r v\\right)}^{2 \\, \\beta} K a^{2} r^{6} \\cos\\left({\\theta}\\right)^{2} + {\\left(a^{2} \\cos\\left({\\theta}\\right)^{2} + r^{2} - r v\\right)}^{2 \\, \\beta} K a^{2} r^{5} u \\cos\\left({\\theta}\\right)^{2} + {\\left(a^{2} \\cos\\left({\\theta}\\right)^{2} + r^{2} - 2 \\, r v + v^{2}\\right)}^{2 \\, \\beta} B Q a^{6} v \\cos\\left({\\theta}\\right)^{2} + 4 \\, {\\left(a^{2} \\cos\\left({\\theta}\\right)^{2} + r^{2} - r v\\right)}^{2 \\, \\beta} K a^{4} r^{3} v \\cos\\left({\\theta}\\right)^{2} - 5 \\, {\\left(a^{2} \\cos\\left({\\theta}\\right)^{2} + r^{2} - 2 \\, r v + v^{2}\\right)}^{2 \\, \\beta} B Q a^{2} r^{4} v \\cos\\left({\\theta}\\right)^{2} + 5 \\, {\\left(a^{2} \\cos\\left({\\theta}\\right)^{2} + r^{2} - r v\\right)}^{2 \\, \\beta} K a^{2} r^{5} v \\cos\\left({\\theta}\\right)^{2} - 5 \\, {\\left(a^{2} \\cos\\left({\\theta}\\right)^{2} + r^{2} - r v\\right)}^{2 \\, \\beta} K a^{2} r^{4} u v \\cos\\left({\\theta}\\right)^{2} - 5 \\, {\\left(a^{2} \\cos\\left({\\theta}\\right)^{2} + r^{2} - r v\\right)}^{2 \\, \\beta} K a^{4} r^{2} v^{2} \\cos\\left({\\theta}\\right)^{2} + 10 \\, {\\left(a^{2} \\cos\\left({\\theta}\\right)^{2} + r^{2} - 2 \\, r v + v^{2}\\right)}^{2 \\, \\beta} B Q a^{2} r^{3} v^{2} \\cos\\left({\\theta}\\right)^{2} - 9 \\, {\\left(a^{2} \\cos\\left({\\theta}\\right)^{2} + r^{2} - r v\\right)}^{2 \\, \\beta} K a^{2} r^{4} v^{2} \\cos\\left({\\theta}\\right)^{2} + 9 \\, {\\left(a^{2} \\cos\\left({\\theta}\\right)^{2} + r^{2} - r v\\right)}^{2 \\, \\beta} K a^{2} r^{3} u v^{2} \\cos\\left({\\theta}\\right)^{2} + 2 \\, {\\left(a^{2} \\cos\\left({\\theta}\\right)^{2} + r^{2} - r v\\right)}^{2 \\, \\beta} K a^{4} r v^{3} \\cos\\left({\\theta}\\right)^{2} - 10 \\, {\\left(a^{2} \\cos\\left({\\theta}\\right)^{2} + r^{2} - 2 \\, r v + v^{2}\\right)}^{2 \\, \\beta} B Q a^{2} r^{2} v^{3} \\cos\\left({\\theta}\\right)^{2} + 7 \\, {\\left(a^{2} \\cos\\left({\\theta}\\right)^{2} + r^{2} - r v\\right)}^{2 \\, \\beta} K a^{2} r^{3} v^{3} \\cos\\left({\\theta}\\right)^{2} - 7 \\, {\\left(a^{2} \\cos\\left({\\theta}\\right)^{2} + r^{2} - r v\\right)}^{2 \\, \\beta} K a^{2} r^{2} u v^{3} \\cos\\left({\\theta}\\right)^{2} + 5 \\, {\\left(a^{2} \\cos\\left({\\theta}\\right)^{2} + r^{2} - 2 \\, r v + v^{2}\\right)}^{2 \\, \\beta} B Q a^{2} r v^{4} \\cos\\left({\\theta}\\right)^{2} - 2 \\, {\\left(a^{2} \\cos\\left({\\theta}\\right)^{2} + r^{2} - r v\\right)}^{2 \\, \\beta} K a^{2} r^{2} v^{4} \\cos\\left({\\theta}\\right)^{2} + 2 \\, {\\left(a^{2} \\cos\\left({\\theta}\\right)^{2} + r^{2} - r v\\right)}^{2 \\, \\beta} K a^{2} r u v^{4} \\cos\\left({\\theta}\\right)^{2} - {\\left(a^{2} \\cos\\left({\\theta}\\right)^{2} + r^{2} - 2 \\, r v + v^{2}\\right)}^{2 \\, \\beta} B Q a^{2} v^{5} \\cos\\left({\\theta}\\right)^{2} + {\\left(a^{2} \\cos\\left({\\theta}\\right)^{2} + r^{2} - 2 \\, r v + v^{2}\\right)}^{2 \\, \\beta} B Q a^{4} r^{3} \\sin\\left({\\theta}\\right)^{2} + {\\left(a^{2} \\cos\\left({\\theta}\\right)^{2} + r^{2} - 2 \\, r v + v^{2}\\right)}^{2 \\, \\beta} B^{2} K a^{2} r^{4} \\sin\\left({\\theta}\\right)^{2} + {\\left(a^{2} \\cos\\left({\\theta}\\right)^{2} + r^{2} - 2 \\, r v + v^{2}\\right)}^{2 \\, \\beta} B Q a^{2} r^{5} \\sin\\left({\\theta}\\right)^{2} - {\\left(a^{2} \\cos\\left({\\theta}\\right)^{2} + r^{2} - 2 \\, r v + v^{2}\\right)}^{2 \\, \\beta} B Q a^{4} r^{2} u \\sin\\left({\\theta}\\right)^{2} - {\\left(a^{2} \\cos\\left({\\theta}\\right)^{2} + r^{2} - 2 \\, r v + v^{2}\\right)}^{2 \\, \\beta} B Q a^{2} r^{4} u \\sin\\left({\\theta}\\right)^{2} - 2 \\, {\\left(a^{2} \\cos\\left({\\theta}\\right)^{2} + r^{2} - 2 \\, r v + v^{2}\\right)}^{2 \\, \\beta} B Q a^{4} r^{2} v \\sin\\left({\\theta}\\right)^{2} - 4 \\, {\\left(a^{2} \\cos\\left({\\theta}\\right)^{2} + r^{2} - 2 \\, r v + v^{2}\\right)}^{2 \\, \\beta} B^{2} K a^{2} r^{3} v \\sin\\left({\\theta}\\right)^{2} - 4 \\, {\\left(a^{2} \\cos\\left({\\theta}\\right)^{2} + r^{2} - 2 \\, r v + v^{2}\\right)}^{2 \\, \\beta} B Q a^{2} r^{4} v \\sin\\left({\\theta}\\right)^{2} + 2 \\, {\\left(a^{2} \\cos\\left({\\theta}\\right)^{2} + r^{2} - 2 \\, r v + v^{2}\\right)}^{2 \\, \\beta} B Q a^{4} r u v \\sin\\left({\\theta}\\right)^{2} + 4 \\, {\\left(a^{2} \\cos\\left({\\theta}\\right)^{2} + r^{2} - 2 \\, r v + v^{2}\\right)}^{2 \\, \\beta} B Q a^{2} r^{3} u v \\sin\\left({\\theta}\\right)^{2} + {\\left(a^{2} \\cos\\left({\\theta}\\right)^{2} + r^{2} - 2 \\, r v + v^{2}\\right)}^{2 \\, \\beta} B Q a^{4} r v^{2} \\sin\\left({\\theta}\\right)^{2} + 6 \\, {\\left(a^{2} \\cos\\left({\\theta}\\right)^{2} + r^{2} - 2 \\, r v + v^{2}\\right)}^{2 \\, \\beta} B^{2} K a^{2} r^{2} v^{2} \\sin\\left({\\theta}\\right)^{2} + 6 \\, {\\left(a^{2} \\cos\\left({\\theta}\\right)^{2} + r^{2} - 2 \\, r v + v^{2}\\right)}^{2 \\, \\beta} B Q a^{2} r^{3} v^{2} \\sin\\left({\\theta}\\right)^{2} - {\\left(a^{2} \\cos\\left({\\theta}\\right)^{2} + r^{2} - 2 \\, r v + v^{2}\\right)}^{2 \\, \\beta} B Q a^{4} u v^{2} \\sin\\left({\\theta}\\right)^{2} - 6 \\, {\\left(a^{2} \\cos\\left({\\theta}\\right)^{2} + r^{2} - 2 \\, r v + v^{2}\\right)}^{2 \\, \\beta} B Q a^{2} r^{2} u v^{2} \\sin\\left({\\theta}\\right)^{2} - 4 \\, {\\left(a^{2} \\cos\\left({\\theta}\\right)^{2} + r^{2} - 2 \\, r v + v^{2}\\right)}^{2 \\, \\beta} B^{2} K a^{2} r v^{3} \\sin\\left({\\theta}\\right)^{2} - 4 \\, {\\left(a^{2} \\cos\\left({\\theta}\\right)^{2} + r^{2} - 2 \\, r v + v^{2}\\right)}^{2 \\, \\beta} B Q a^{2} r^{2} v^{3} \\sin\\left({\\theta}\\right)^{2} + 4 \\, {\\left(a^{2} \\cos\\left({\\theta}\\right)^{2} + r^{2} - 2 \\, r v + v^{2}\\right)}^{2 \\, \\beta} B Q a^{2} r u v^{3} \\sin\\left({\\theta}\\right)^{2} + {\\left(a^{2} \\cos\\left({\\theta}\\right)^{2} + r^{2} - 2 \\, r v + v^{2}\\right)}^{2 \\, \\beta} B^{2} K a^{2} v^{4} \\sin\\left({\\theta}\\right)^{2} + {\\left(a^{2} \\cos\\left({\\theta}\\right)^{2} + r^{2} - 2 \\, r v + v^{2}\\right)}^{2 \\, \\beta} B Q a^{2} r v^{4} \\sin\\left({\\theta}\\right)^{2} - {\\left(a^{2} \\cos\\left({\\theta}\\right)^{2} + r^{2} - 2 \\, r v + v^{2}\\right)}^{2 \\, \\beta} B Q a^{2} u v^{4} \\sin\\left({\\theta}\\right)^{2} - {\\left(a^{2} \\cos\\left({\\theta}\\right)^{2} + r^{2} - 2 \\, r v + v^{2}\\right)}^{2 \\, \\beta} B Q a^{4} r^{3} - {\\left(a^{2} \\cos\\left({\\theta}\\right)^{2} + r^{2} - r v\\right)}^{2 \\, \\beta} K a^{2} r^{6} + {\\left(a^{2} \\cos\\left({\\theta}\\right)^{2} + r^{2} - 2 \\, r v + v^{2}\\right)}^{2 \\, \\beta} B Q r^{7} - {\\left(a^{2} \\cos\\left({\\theta}\\right)^{2} + r^{2} - r v\\right)}^{2 \\, \\beta} K r^{8} + {\\left(a^{2} \\cos\\left({\\theta}\\right)^{2} + r^{2} - 2 \\, r v + v^{2}\\right)}^{2 \\, \\beta} B Q a^{4} r^{2} u - {\\left(a^{2} \\cos\\left({\\theta}\\right)^{2} + r^{2} - 2 \\, r v + v^{2}\\right)}^{2 \\, \\beta} B Q r^{6} u + {\\left(a^{2} \\cos\\left({\\theta}\\right)^{2} + r^{2} - r v\\right)}^{2 \\, \\beta} K r^{7} u + 2 \\, {\\left(a^{2} \\cos\\left({\\theta}\\right)^{2} + r^{2} - 2 \\, r v + v^{2}\\right)}^{2 \\, \\beta} B Q a^{4} r^{2} v + 4 \\, {\\left(a^{2} \\cos\\left({\\theta}\\right)^{2} + r^{2} - r v\\right)}^{2 \\, \\beta} K a^{2} r^{5} v - 6 \\, {\\left(a^{2} \\cos\\left({\\theta}\\right)^{2} + r^{2} - 2 \\, r v + v^{2}\\right)}^{2 \\, \\beta} B Q r^{6} v + 5 \\, {\\left(a^{2} \\cos\\left({\\theta}\\right)^{2} + r^{2} - r v\\right)}^{2 \\, \\beta} K r^{7} v - 2 \\, {\\left(a^{2} \\cos\\left({\\theta}\\right)^{2} + r^{2} - 2 \\, r v + v^{2}\\right)}^{2 \\, \\beta} B Q a^{4} r u v + 6 \\, {\\left(a^{2} \\cos\\left({\\theta}\\right)^{2} + r^{2} - 2 \\, r v + v^{2}\\right)}^{2 \\, \\beta} B Q r^{5} u v - 5 \\, {\\left(a^{2} \\cos\\left({\\theta}\\right)^{2} + r^{2} - r v\\right)}^{2 \\, \\beta} K r^{6} u v - {\\left(a^{2} \\cos\\left({\\theta}\\right)^{2} + r^{2} - 2 \\, r v + v^{2}\\right)}^{2 \\, \\beta} B Q a^{4} r v^{2} - 6 \\, {\\left(a^{2} \\cos\\left({\\theta}\\right)^{2} + r^{2} - r v\\right)}^{2 \\, \\beta} K a^{2} r^{4} v^{2} + 15 \\, {\\left(a^{2} \\cos\\left({\\theta}\\right)^{2} + r^{2} - 2 \\, r v + v^{2}\\right)}^{2 \\, \\beta} B Q r^{5} v^{2} - 10 \\, {\\left(a^{2} \\cos\\left({\\theta}\\right)^{2} + r^{2} - r v\\right)}^{2 \\, \\beta} K r^{6} v^{2} + {\\left(a^{2} \\cos\\left({\\theta}\\right)^{2} + r^{2} - 2 \\, r v + v^{2}\\right)}^{2 \\, \\beta} B Q a^{4} u v^{2} - 15 \\, {\\left(a^{2} \\cos\\left({\\theta}\\right)^{2} + r^{2} - 2 \\, r v + v^{2}\\right)}^{2 \\, \\beta} B Q r^{4} u v^{2} + 10 \\, {\\left(a^{2} \\cos\\left({\\theta}\\right)^{2} + r^{2} - r v\\right)}^{2 \\, \\beta} K r^{5} u v^{2} + 4 \\, {\\left(a^{2} \\cos\\left({\\theta}\\right)^{2} + r^{2} - r v\\right)}^{2 \\, \\beta} K a^{2} r^{3} v^{3} - 20 \\, {\\left(a^{2} \\cos\\left({\\theta}\\right)^{2} + r^{2} - 2 \\, r v + v^{2}\\right)}^{2 \\, \\beta} B Q r^{4} v^{3} + 10 \\, {\\left(a^{2} \\cos\\left({\\theta}\\right)^{2} + r^{2} - r v\\right)}^{2 \\, \\beta} K r^{5} v^{3} + 20 \\, {\\left(a^{2} \\cos\\left({\\theta}\\right)^{2} + r^{2} - 2 \\, r v + v^{2}\\right)}^{2 \\, \\beta} B Q r^{3} u v^{3} - 10 \\, {\\left(a^{2} \\cos\\left({\\theta}\\right)^{2} + r^{2} - r v\\right)}^{2 \\, \\beta} K r^{4} u v^{3} - {\\left(a^{2} \\cos\\left({\\theta}\\right)^{2} + r^{2} - r v\\right)}^{2 \\, \\beta} K a^{2} r^{2} v^{4} + 15 \\, {\\left(a^{2} \\cos\\left({\\theta}\\right)^{2} + r^{2} - 2 \\, r v + v^{2}\\right)}^{2 \\, \\beta} B Q r^{3} v^{4} - 5 \\, {\\left(a^{2} \\cos\\left({\\theta}\\right)^{2} + r^{2} - r v\\right)}^{2 \\, \\beta} K r^{4} v^{4} - 15 \\, {\\left(a^{2} \\cos\\left({\\theta}\\right)^{2} + r^{2} - 2 \\, r v + v^{2}\\right)}^{2 \\, \\beta} B Q r^{2} u v^{4} + 5 \\, {\\left(a^{2} \\cos\\left({\\theta}\\right)^{2} + r^{2} - r v\\right)}^{2 \\, \\beta} K r^{3} u v^{4} - 6 \\, {\\left(a^{2} \\cos\\left({\\theta}\\right)^{2} + r^{2} - 2 \\, r v + v^{2}\\right)}^{2 \\, \\beta} B Q r^{2} v^{5} + {\\left(a^{2} \\cos\\left({\\theta}\\right)^{2} + r^{2} - r v\\right)}^{2 \\, \\beta} K r^{3} v^{5} + 6 \\, {\\left(a^{2} \\cos\\left({\\theta}\\right)^{2} + r^{2} - 2 \\, r v + v^{2}\\right)}^{2 \\, \\beta} B Q r u v^{5} - {\\left(a^{2} \\cos\\left({\\theta}\\right)^{2} + r^{2} - r v\\right)}^{2 \\, \\beta} K r^{2} u v^{5} + {\\left(a^{2} \\cos\\left({\\theta}\\right)^{2} + r^{2} - 2 \\, r v + v^{2}\\right)}^{2 \\, \\beta} B Q r v^{6} - {\\left(a^{2} \\cos\\left({\\theta}\\right)^{2} + r^{2} - 2 \\, r v + v^{2}\\right)}^{2 \\, \\beta} B Q u v^{6}\\right)} {\\left(a^{2} \\cos\\left({\\theta}\\right)^{2} + r^{2} - 2 \\, r v + v^{2}\\right)}^{-2 \\, \\beta - 1} a \\sin\\left({\\theta}\\right)^{2}}{{\\left(a^{2} \\cos\\left({\\theta}\\right)^{2} + r^{2} - r u - r v + u v\\right)} {\\left(a^{2} \\cos\\left({\\theta}\\right)^{2} + r^{2} - r v\\right)}^{2} {\\left(a^{2} + r^{2} - r u - r v + u v\\right)}}</script></html>"
      ],
      "text/latex": [
       "$$\\newcommand{\\Bold}[1]{\\mathbf{#1}}-\\frac{{\\left({\\left(a^{2} \\cos\\left({\\theta}\\right)^{2} + r^{2} - r v\\right)}^{2 \\, \\beta} K a^{8} \\cos\\left({\\theta}\\right)^{6} + {\\left(a^{2} \\cos\\left({\\theta}\\right)^{2} + r^{2} - r v\\right)}^{2 \\, \\beta} K a^{6} r^{2} \\cos\\left({\\theta}\\right)^{6} - {\\left(a^{2} \\cos\\left({\\theta}\\right)^{2} + r^{2} - r v\\right)}^{2 \\, \\beta} K a^{6} r u \\cos\\left({\\theta}\\right)^{6} - {\\left(a^{2} \\cos\\left({\\theta}\\right)^{2} + r^{2} - r v\\right)}^{2 \\, \\beta} K a^{6} r v \\cos\\left({\\theta}\\right)^{6} + {\\left(a^{2} \\cos\\left({\\theta}\\right)^{2} + r^{2} - r v\\right)}^{2 \\, \\beta} K a^{6} u v \\cos\\left({\\theta}\\right)^{6} + {\\left(a^{2} \\cos\\left({\\theta}\\right)^{2} + r^{2} - r v\\right)}^{2 \\, \\beta} K a^{6} r^{2} \\cos\\left({\\theta}\\right)^{4} + {\\left(a^{2} \\cos\\left({\\theta}\\right)^{2} + r^{2} - r v\\right)}^{2 \\, \\beta} K a^{4} r^{4} \\cos\\left({\\theta}\\right)^{4} - {\\left(a^{2} \\cos\\left({\\theta}\\right)^{2} + r^{2} - r v\\right)}^{2 \\, \\beta} K a^{4} r^{3} u \\cos\\left({\\theta}\\right)^{4} - {\\left(a^{2} \\cos\\left({\\theta}\\right)^{2} + r^{2} - r v\\right)}^{2 \\, \\beta} K a^{4} r^{3} v \\cos\\left({\\theta}\\right)^{4} + {\\left(a^{2} \\cos\\left({\\theta}\\right)^{2} + r^{2} - r v\\right)}^{2 \\, \\beta} K a^{4} r^{2} u v \\cos\\left({\\theta}\\right)^{4} - {\\left(a^{2} \\cos\\left({\\theta}\\right)^{2} + r^{2} - r v\\right)}^{2 \\, \\beta} K a^{6} v^{2} \\cos\\left({\\theta}\\right)^{4} - {\\left(a^{2} \\cos\\left({\\theta}\\right)^{2} + r^{2} - r v\\right)}^{2 \\, \\beta} K a^{4} r^{2} v^{2} \\cos\\left({\\theta}\\right)^{4} + {\\left(a^{2} \\cos\\left({\\theta}\\right)^{2} + r^{2} - r v\\right)}^{2 \\, \\beta} K a^{4} r u v^{2} \\cos\\left({\\theta}\\right)^{4} + {\\left(a^{2} \\cos\\left({\\theta}\\right)^{2} + r^{2} - r v\\right)}^{2 \\, \\beta} K a^{4} r v^{3} \\cos\\left({\\theta}\\right)^{4} - {\\left(a^{2} \\cos\\left({\\theta}\\right)^{2} + r^{2} - r v\\right)}^{2 \\, \\beta} K a^{4} u v^{3} \\cos\\left({\\theta}\\right)^{4} + {\\left(a^{2} \\cos\\left({\\theta}\\right)^{2} + r^{2} - 2 \\, r v + v^{2}\\right)}^{2 \\, \\beta} B Q a^{6} r \\cos\\left({\\theta}\\right)^{2} \\sin\\left({\\theta}\\right)^{2} - {\\left(a^{2} \\cos\\left({\\theta}\\right)^{2} + r^{2} - 2 \\, r v + v^{2}\\right)}^{2 \\, \\beta} B^{2} K a^{4} r^{2} \\cos\\left({\\theta}\\right)^{2} \\sin\\left({\\theta}\\right)^{2} + {\\left(a^{2} \\cos\\left({\\theta}\\right)^{2} + r^{2} - 2 \\, r v + v^{2}\\right)}^{2 \\, \\beta} B Q a^{4} r^{3} \\cos\\left({\\theta}\\right)^{2} \\sin\\left({\\theta}\\right)^{2} - {\\left(a^{2} \\cos\\left({\\theta}\\right)^{2} + r^{2} - 2 \\, r v + v^{2}\\right)}^{2 \\, \\beta} B Q a^{6} v \\cos\\left({\\theta}\\right)^{2} \\sin\\left({\\theta}\\right)^{2} + 2 \\, {\\left(a^{2} \\cos\\left({\\theta}\\right)^{2} + r^{2} - 2 \\, r v + v^{2}\\right)}^{2 \\, \\beta} B^{2} K a^{4} r v \\cos\\left({\\theta}\\right)^{2} \\sin\\left({\\theta}\\right)^{2} - 3 \\, {\\left(a^{2} \\cos\\left({\\theta}\\right)^{2} + r^{2} - 2 \\, r v + v^{2}\\right)}^{2 \\, \\beta} B Q a^{4} r^{2} v \\cos\\left({\\theta}\\right)^{2} \\sin\\left({\\theta}\\right)^{2} - {\\left(a^{2} \\cos\\left({\\theta}\\right)^{2} + r^{2} - 2 \\, r v + v^{2}\\right)}^{2 \\, \\beta} B^{2} K a^{4} v^{2} \\cos\\left({\\theta}\\right)^{2} \\sin\\left({\\theta}\\right)^{2} + 3 \\, {\\left(a^{2} \\cos\\left({\\theta}\\right)^{2} + r^{2} - 2 \\, r v + v^{2}\\right)}^{2 \\, \\beta} B Q a^{4} r v^{2} \\cos\\left({\\theta}\\right)^{2} \\sin\\left({\\theta}\\right)^{2} - {\\left(a^{2} \\cos\\left({\\theta}\\right)^{2} + r^{2} - 2 \\, r v + v^{2}\\right)}^{2 \\, \\beta} B Q a^{4} v^{3} \\cos\\left({\\theta}\\right)^{2} \\sin\\left({\\theta}\\right)^{2} - {\\left(a^{2} \\cos\\left({\\theta}\\right)^{2} + r^{2} - 2 \\, r v + v^{2}\\right)}^{2 \\, \\beta} B Q a^{6} r \\cos\\left({\\theta}\\right)^{2} - {\\left(a^{2} \\cos\\left({\\theta}\\right)^{2} + r^{2} - r v\\right)}^{2 \\, \\beta} K a^{4} r^{4} \\cos\\left({\\theta}\\right)^{2} + {\\left(a^{2} \\cos\\left({\\theta}\\right)^{2} + r^{2} - 2 \\, r v + v^{2}\\right)}^{2 \\, \\beta} B Q a^{2} r^{5} \\cos\\left({\\theta}\\right)^{2} - {\\left(a^{2} \\cos\\left({\\theta}\\right)^{2} + r^{2} - r v\\right)}^{2 \\, \\beta} K a^{2} r^{6} \\cos\\left({\\theta}\\right)^{2} + {\\left(a^{2} \\cos\\left({\\theta}\\right)^{2} + r^{2} - r v\\right)}^{2 \\, \\beta} K a^{2} r^{5} u \\cos\\left({\\theta}\\right)^{2} + {\\left(a^{2} \\cos\\left({\\theta}\\right)^{2} + r^{2} - 2 \\, r v + v^{2}\\right)}^{2 \\, \\beta} B Q a^{6} v \\cos\\left({\\theta}\\right)^{2} + 4 \\, {\\left(a^{2} \\cos\\left({\\theta}\\right)^{2} + r^{2} - r v\\right)}^{2 \\, \\beta} K a^{4} r^{3} v \\cos\\left({\\theta}\\right)^{2} - 5 \\, {\\left(a^{2} \\cos\\left({\\theta}\\right)^{2} + r^{2} - 2 \\, r v + v^{2}\\right)}^{2 \\, \\beta} B Q a^{2} r^{4} v \\cos\\left({\\theta}\\right)^{2} + 5 \\, {\\left(a^{2} \\cos\\left({\\theta}\\right)^{2} + r^{2} - r v\\right)}^{2 \\, \\beta} K a^{2} r^{5} v \\cos\\left({\\theta}\\right)^{2} - 5 \\, {\\left(a^{2} \\cos\\left({\\theta}\\right)^{2} + r^{2} - r v\\right)}^{2 \\, \\beta} K a^{2} r^{4} u v \\cos\\left({\\theta}\\right)^{2} - 5 \\, {\\left(a^{2} \\cos\\left({\\theta}\\right)^{2} + r^{2} - r v\\right)}^{2 \\, \\beta} K a^{4} r^{2} v^{2} \\cos\\left({\\theta}\\right)^{2} + 10 \\, {\\left(a^{2} \\cos\\left({\\theta}\\right)^{2} + r^{2} - 2 \\, r v + v^{2}\\right)}^{2 \\, \\beta} B Q a^{2} r^{3} v^{2} \\cos\\left({\\theta}\\right)^{2} - 9 \\, {\\left(a^{2} \\cos\\left({\\theta}\\right)^{2} + r^{2} - r v\\right)}^{2 \\, \\beta} K a^{2} r^{4} v^{2} \\cos\\left({\\theta}\\right)^{2} + 9 \\, {\\left(a^{2} \\cos\\left({\\theta}\\right)^{2} + r^{2} - r v\\right)}^{2 \\, \\beta} K a^{2} r^{3} u v^{2} \\cos\\left({\\theta}\\right)^{2} + 2 \\, {\\left(a^{2} \\cos\\left({\\theta}\\right)^{2} + r^{2} - r v\\right)}^{2 \\, \\beta} K a^{4} r v^{3} \\cos\\left({\\theta}\\right)^{2} - 10 \\, {\\left(a^{2} \\cos\\left({\\theta}\\right)^{2} + r^{2} - 2 \\, r v + v^{2}\\right)}^{2 \\, \\beta} B Q a^{2} r^{2} v^{3} \\cos\\left({\\theta}\\right)^{2} + 7 \\, {\\left(a^{2} \\cos\\left({\\theta}\\right)^{2} + r^{2} - r v\\right)}^{2 \\, \\beta} K a^{2} r^{3} v^{3} \\cos\\left({\\theta}\\right)^{2} - 7 \\, {\\left(a^{2} \\cos\\left({\\theta}\\right)^{2} + r^{2} - r v\\right)}^{2 \\, \\beta} K a^{2} r^{2} u v^{3} \\cos\\left({\\theta}\\right)^{2} + 5 \\, {\\left(a^{2} \\cos\\left({\\theta}\\right)^{2} + r^{2} - 2 \\, r v + v^{2}\\right)}^{2 \\, \\beta} B Q a^{2} r v^{4} \\cos\\left({\\theta}\\right)^{2} - 2 \\, {\\left(a^{2} \\cos\\left({\\theta}\\right)^{2} + r^{2} - r v\\right)}^{2 \\, \\beta} K a^{2} r^{2} v^{4} \\cos\\left({\\theta}\\right)^{2} + 2 \\, {\\left(a^{2} \\cos\\left({\\theta}\\right)^{2} + r^{2} - r v\\right)}^{2 \\, \\beta} K a^{2} r u v^{4} \\cos\\left({\\theta}\\right)^{2} - {\\left(a^{2} \\cos\\left({\\theta}\\right)^{2} + r^{2} - 2 \\, r v + v^{2}\\right)}^{2 \\, \\beta} B Q a^{2} v^{5} \\cos\\left({\\theta}\\right)^{2} + {\\left(a^{2} \\cos\\left({\\theta}\\right)^{2} + r^{2} - 2 \\, r v + v^{2}\\right)}^{2 \\, \\beta} B Q a^{4} r^{3} \\sin\\left({\\theta}\\right)^{2} + {\\left(a^{2} \\cos\\left({\\theta}\\right)^{2} + r^{2} - 2 \\, r v + v^{2}\\right)}^{2 \\, \\beta} B^{2} K a^{2} r^{4} \\sin\\left({\\theta}\\right)^{2} + {\\left(a^{2} \\cos\\left({\\theta}\\right)^{2} + r^{2} - 2 \\, r v + v^{2}\\right)}^{2 \\, \\beta} B Q a^{2} r^{5} \\sin\\left({\\theta}\\right)^{2} - {\\left(a^{2} \\cos\\left({\\theta}\\right)^{2} + r^{2} - 2 \\, r v + v^{2}\\right)}^{2 \\, \\beta} B Q a^{4} r^{2} u \\sin\\left({\\theta}\\right)^{2} - {\\left(a^{2} \\cos\\left({\\theta}\\right)^{2} + r^{2} - 2 \\, r v + v^{2}\\right)}^{2 \\, \\beta} B Q a^{2} r^{4} u \\sin\\left({\\theta}\\right)^{2} - 2 \\, {\\left(a^{2} \\cos\\left({\\theta}\\right)^{2} + r^{2} - 2 \\, r v + v^{2}\\right)}^{2 \\, \\beta} B Q a^{4} r^{2} v \\sin\\left({\\theta}\\right)^{2} - 4 \\, {\\left(a^{2} \\cos\\left({\\theta}\\right)^{2} + r^{2} - 2 \\, r v + v^{2}\\right)}^{2 \\, \\beta} B^{2} K a^{2} r^{3} v \\sin\\left({\\theta}\\right)^{2} - 4 \\, {\\left(a^{2} \\cos\\left({\\theta}\\right)^{2} + r^{2} - 2 \\, r v + v^{2}\\right)}^{2 \\, \\beta} B Q a^{2} r^{4} v \\sin\\left({\\theta}\\right)^{2} + 2 \\, {\\left(a^{2} \\cos\\left({\\theta}\\right)^{2} + r^{2} - 2 \\, r v + v^{2}\\right)}^{2 \\, \\beta} B Q a^{4} r u v \\sin\\left({\\theta}\\right)^{2} + 4 \\, {\\left(a^{2} \\cos\\left({\\theta}\\right)^{2} + r^{2} - 2 \\, r v + v^{2}\\right)}^{2 \\, \\beta} B Q a^{2} r^{3} u v \\sin\\left({\\theta}\\right)^{2} + {\\left(a^{2} \\cos\\left({\\theta}\\right)^{2} + r^{2} - 2 \\, r v + v^{2}\\right)}^{2 \\, \\beta} B Q a^{4} r v^{2} \\sin\\left({\\theta}\\right)^{2} + 6 \\, {\\left(a^{2} \\cos\\left({\\theta}\\right)^{2} + r^{2} - 2 \\, r v + v^{2}\\right)}^{2 \\, \\beta} B^{2} K a^{2} r^{2} v^{2} \\sin\\left({\\theta}\\right)^{2} + 6 \\, {\\left(a^{2} \\cos\\left({\\theta}\\right)^{2} + r^{2} - 2 \\, r v + v^{2}\\right)}^{2 \\, \\beta} B Q a^{2} r^{3} v^{2} \\sin\\left({\\theta}\\right)^{2} - {\\left(a^{2} \\cos\\left({\\theta}\\right)^{2} + r^{2} - 2 \\, r v + v^{2}\\right)}^{2 \\, \\beta} B Q a^{4} u v^{2} \\sin\\left({\\theta}\\right)^{2} - 6 \\, {\\left(a^{2} \\cos\\left({\\theta}\\right)^{2} + r^{2} - 2 \\, r v + v^{2}\\right)}^{2 \\, \\beta} B Q a^{2} r^{2} u v^{2} \\sin\\left({\\theta}\\right)^{2} - 4 \\, {\\left(a^{2} \\cos\\left({\\theta}\\right)^{2} + r^{2} - 2 \\, r v + v^{2}\\right)}^{2 \\, \\beta} B^{2} K a^{2} r v^{3} \\sin\\left({\\theta}\\right)^{2} - 4 \\, {\\left(a^{2} \\cos\\left({\\theta}\\right)^{2} + r^{2} - 2 \\, r v + v^{2}\\right)}^{2 \\, \\beta} B Q a^{2} r^{2} v^{3} \\sin\\left({\\theta}\\right)^{2} + 4 \\, {\\left(a^{2} \\cos\\left({\\theta}\\right)^{2} + r^{2} - 2 \\, r v + v^{2}\\right)}^{2 \\, \\beta} B Q a^{2} r u v^{3} \\sin\\left({\\theta}\\right)^{2} + {\\left(a^{2} \\cos\\left({\\theta}\\right)^{2} + r^{2} - 2 \\, r v + v^{2}\\right)}^{2 \\, \\beta} B^{2} K a^{2} v^{4} \\sin\\left({\\theta}\\right)^{2} + {\\left(a^{2} \\cos\\left({\\theta}\\right)^{2} + r^{2} - 2 \\, r v + v^{2}\\right)}^{2 \\, \\beta} B Q a^{2} r v^{4} \\sin\\left({\\theta}\\right)^{2} - {\\left(a^{2} \\cos\\left({\\theta}\\right)^{2} + r^{2} - 2 \\, r v + v^{2}\\right)}^{2 \\, \\beta} B Q a^{2} u v^{4} \\sin\\left({\\theta}\\right)^{2} - {\\left(a^{2} \\cos\\left({\\theta}\\right)^{2} + r^{2} - 2 \\, r v + v^{2}\\right)}^{2 \\, \\beta} B Q a^{4} r^{3} - {\\left(a^{2} \\cos\\left({\\theta}\\right)^{2} + r^{2} - r v\\right)}^{2 \\, \\beta} K a^{2} r^{6} + {\\left(a^{2} \\cos\\left({\\theta}\\right)^{2} + r^{2} - 2 \\, r v + v^{2}\\right)}^{2 \\, \\beta} B Q r^{7} - {\\left(a^{2} \\cos\\left({\\theta}\\right)^{2} + r^{2} - r v\\right)}^{2 \\, \\beta} K r^{8} + {\\left(a^{2} \\cos\\left({\\theta}\\right)^{2} + r^{2} - 2 \\, r v + v^{2}\\right)}^{2 \\, \\beta} B Q a^{4} r^{2} u - {\\left(a^{2} \\cos\\left({\\theta}\\right)^{2} + r^{2} - 2 \\, r v + v^{2}\\right)}^{2 \\, \\beta} B Q r^{6} u + {\\left(a^{2} \\cos\\left({\\theta}\\right)^{2} + r^{2} - r v\\right)}^{2 \\, \\beta} K r^{7} u + 2 \\, {\\left(a^{2} \\cos\\left({\\theta}\\right)^{2} + r^{2} - 2 \\, r v + v^{2}\\right)}^{2 \\, \\beta} B Q a^{4} r^{2} v + 4 \\, {\\left(a^{2} \\cos\\left({\\theta}\\right)^{2} + r^{2} - r v\\right)}^{2 \\, \\beta} K a^{2} r^{5} v - 6 \\, {\\left(a^{2} \\cos\\left({\\theta}\\right)^{2} + r^{2} - 2 \\, r v + v^{2}\\right)}^{2 \\, \\beta} B Q r^{6} v + 5 \\, {\\left(a^{2} \\cos\\left({\\theta}\\right)^{2} + r^{2} - r v\\right)}^{2 \\, \\beta} K r^{7} v - 2 \\, {\\left(a^{2} \\cos\\left({\\theta}\\right)^{2} + r^{2} - 2 \\, r v + v^{2}\\right)}^{2 \\, \\beta} B Q a^{4} r u v + 6 \\, {\\left(a^{2} \\cos\\left({\\theta}\\right)^{2} + r^{2} - 2 \\, r v + v^{2}\\right)}^{2 \\, \\beta} B Q r^{5} u v - 5 \\, {\\left(a^{2} \\cos\\left({\\theta}\\right)^{2} + r^{2} - r v\\right)}^{2 \\, \\beta} K r^{6} u v - {\\left(a^{2} \\cos\\left({\\theta}\\right)^{2} + r^{2} - 2 \\, r v + v^{2}\\right)}^{2 \\, \\beta} B Q a^{4} r v^{2} - 6 \\, {\\left(a^{2} \\cos\\left({\\theta}\\right)^{2} + r^{2} - r v\\right)}^{2 \\, \\beta} K a^{2} r^{4} v^{2} + 15 \\, {\\left(a^{2} \\cos\\left({\\theta}\\right)^{2} + r^{2} - 2 \\, r v + v^{2}\\right)}^{2 \\, \\beta} B Q r^{5} v^{2} - 10 \\, {\\left(a^{2} \\cos\\left({\\theta}\\right)^{2} + r^{2} - r v\\right)}^{2 \\, \\beta} K r^{6} v^{2} + {\\left(a^{2} \\cos\\left({\\theta}\\right)^{2} + r^{2} - 2 \\, r v + v^{2}\\right)}^{2 \\, \\beta} B Q a^{4} u v^{2} - 15 \\, {\\left(a^{2} \\cos\\left({\\theta}\\right)^{2} + r^{2} - 2 \\, r v + v^{2}\\right)}^{2 \\, \\beta} B Q r^{4} u v^{2} + 10 \\, {\\left(a^{2} \\cos\\left({\\theta}\\right)^{2} + r^{2} - r v\\right)}^{2 \\, \\beta} K r^{5} u v^{2} + 4 \\, {\\left(a^{2} \\cos\\left({\\theta}\\right)^{2} + r^{2} - r v\\right)}^{2 \\, \\beta} K a^{2} r^{3} v^{3} - 20 \\, {\\left(a^{2} \\cos\\left({\\theta}\\right)^{2} + r^{2} - 2 \\, r v + v^{2}\\right)}^{2 \\, \\beta} B Q r^{4} v^{3} + 10 \\, {\\left(a^{2} \\cos\\left({\\theta}\\right)^{2} + r^{2} - r v\\right)}^{2 \\, \\beta} K r^{5} v^{3} + 20 \\, {\\left(a^{2} \\cos\\left({\\theta}\\right)^{2} + r^{2} - 2 \\, r v + v^{2}\\right)}^{2 \\, \\beta} B Q r^{3} u v^{3} - 10 \\, {\\left(a^{2} \\cos\\left({\\theta}\\right)^{2} + r^{2} - r v\\right)}^{2 \\, \\beta} K r^{4} u v^{3} - {\\left(a^{2} \\cos\\left({\\theta}\\right)^{2} + r^{2} - r v\\right)}^{2 \\, \\beta} K a^{2} r^{2} v^{4} + 15 \\, {\\left(a^{2} \\cos\\left({\\theta}\\right)^{2} + r^{2} - 2 \\, r v + v^{2}\\right)}^{2 \\, \\beta} B Q r^{3} v^{4} - 5 \\, {\\left(a^{2} \\cos\\left({\\theta}\\right)^{2} + r^{2} - r v\\right)}^{2 \\, \\beta} K r^{4} v^{4} - 15 \\, {\\left(a^{2} \\cos\\left({\\theta}\\right)^{2} + r^{2} - 2 \\, r v + v^{2}\\right)}^{2 \\, \\beta} B Q r^{2} u v^{4} + 5 \\, {\\left(a^{2} \\cos\\left({\\theta}\\right)^{2} + r^{2} - r v\\right)}^{2 \\, \\beta} K r^{3} u v^{4} - 6 \\, {\\left(a^{2} \\cos\\left({\\theta}\\right)^{2} + r^{2} - 2 \\, r v + v^{2}\\right)}^{2 \\, \\beta} B Q r^{2} v^{5} + {\\left(a^{2} \\cos\\left({\\theta}\\right)^{2} + r^{2} - r v\\right)}^{2 \\, \\beta} K r^{3} v^{5} + 6 \\, {\\left(a^{2} \\cos\\left({\\theta}\\right)^{2} + r^{2} - 2 \\, r v + v^{2}\\right)}^{2 \\, \\beta} B Q r u v^{5} - {\\left(a^{2} \\cos\\left({\\theta}\\right)^{2} + r^{2} - r v\\right)}^{2 \\, \\beta} K r^{2} u v^{5} + {\\left(a^{2} \\cos\\left({\\theta}\\right)^{2} + r^{2} - 2 \\, r v + v^{2}\\right)}^{2 \\, \\beta} B Q r v^{6} - {\\left(a^{2} \\cos\\left({\\theta}\\right)^{2} + r^{2} - 2 \\, r v + v^{2}\\right)}^{2 \\, \\beta} B Q u v^{6}\\right)} {\\left(a^{2} \\cos\\left({\\theta}\\right)^{2} + r^{2} - 2 \\, r v + v^{2}\\right)}^{-2 \\, \\beta - 1} a \\sin\\left({\\theta}\\right)^{2}}{{\\left(a^{2} \\cos\\left({\\theta}\\right)^{2} + r^{2} - r u - r v + u v\\right)} {\\left(a^{2} \\cos\\left({\\theta}\\right)^{2} + r^{2} - r v\\right)}^{2} {\\left(a^{2} + r^{2} - r u - r v + u v\\right)}}$$"
      ],
      "text/plain": [
       "-((a^2*cos(th)^2 + r^2 - r*v)^(2*beta)*K*a^8*cos(th)^6 + (a^2*cos(th)^2 + r^2 - r*v)^(2*beta)*K*a^6*r^2*cos(th)^6 - (a^2*cos(th)^2 + r^2 - r*v)^(2*beta)*K*a^6*r*u*cos(th)^6 - (a^2*cos(th)^2 + r^2 - r*v)^(2*beta)*K*a^6*r*v*cos(th)^6 + (a^2*cos(th)^2 + r^2 - r*v)^(2*beta)*K*a^6*u*v*cos(th)^6 + (a^2*cos(th)^2 + r^2 - r*v)^(2*beta)*K*a^6*r^2*cos(th)^4 + (a^2*cos(th)^2 + r^2 - r*v)^(2*beta)*K*a^4*r^4*cos(th)^4 - (a^2*cos(th)^2 + r^2 - r*v)^(2*beta)*K*a^4*r^3*u*cos(th)^4 - (a^2*cos(th)^2 + r^2 - r*v)^(2*beta)*K*a^4*r^3*v*cos(th)^4 + (a^2*cos(th)^2 + r^2 - r*v)^(2*beta)*K*a^4*r^2*u*v*cos(th)^4 - (a^2*cos(th)^2 + r^2 - r*v)^(2*beta)*K*a^6*v^2*cos(th)^4 - (a^2*cos(th)^2 + r^2 - r*v)^(2*beta)*K*a^4*r^2*v^2*cos(th)^4 + (a^2*cos(th)^2 + r^2 - r*v)^(2*beta)*K*a^4*r*u*v^2*cos(th)^4 + (a^2*cos(th)^2 + r^2 - r*v)^(2*beta)*K*a^4*r*v^3*cos(th)^4 - (a^2*cos(th)^2 + r^2 - r*v)^(2*beta)*K*a^4*u*v^3*cos(th)^4 + (a^2*cos(th)^2 + r^2 - 2*r*v + v^2)^(2*beta)*B*Q*a^6*r*cos(th)^2*sin(th)^2 - (a^2*cos(th)^2 + r^2 - 2*r*v + v^2)^(2*beta)*B^2*K*a^4*r^2*cos(th)^2*sin(th)^2 + (a^2*cos(th)^2 + r^2 - 2*r*v + v^2)^(2*beta)*B*Q*a^4*r^3*cos(th)^2*sin(th)^2 - (a^2*cos(th)^2 + r^2 - 2*r*v + v^2)^(2*beta)*B*Q*a^6*v*cos(th)^2*sin(th)^2 + 2*(a^2*cos(th)^2 + r^2 - 2*r*v + v^2)^(2*beta)*B^2*K*a^4*r*v*cos(th)^2*sin(th)^2 - 3*(a^2*cos(th)^2 + r^2 - 2*r*v + v^2)^(2*beta)*B*Q*a^4*r^2*v*cos(th)^2*sin(th)^2 - (a^2*cos(th)^2 + r^2 - 2*r*v + v^2)^(2*beta)*B^2*K*a^4*v^2*cos(th)^2*sin(th)^2 + 3*(a^2*cos(th)^2 + r^2 - 2*r*v + v^2)^(2*beta)*B*Q*a^4*r*v^2*cos(th)^2*sin(th)^2 - (a^2*cos(th)^2 + r^2 - 2*r*v + v^2)^(2*beta)*B*Q*a^4*v^3*cos(th)^2*sin(th)^2 - (a^2*cos(th)^2 + r^2 - 2*r*v + v^2)^(2*beta)*B*Q*a^6*r*cos(th)^2 - (a^2*cos(th)^2 + r^2 - r*v)^(2*beta)*K*a^4*r^4*cos(th)^2 + (a^2*cos(th)^2 + r^2 - 2*r*v + v^2)^(2*beta)*B*Q*a^2*r^5*cos(th)^2 - (a^2*cos(th)^2 + r^2 - r*v)^(2*beta)*K*a^2*r^6*cos(th)^2 + (a^2*cos(th)^2 + r^2 - r*v)^(2*beta)*K*a^2*r^5*u*cos(th)^2 + (a^2*cos(th)^2 + r^2 - 2*r*v + v^2)^(2*beta)*B*Q*a^6*v*cos(th)^2 + 4*(a^2*cos(th)^2 + r^2 - r*v)^(2*beta)*K*a^4*r^3*v*cos(th)^2 - 5*(a^2*cos(th)^2 + r^2 - 2*r*v + v^2)^(2*beta)*B*Q*a^2*r^4*v*cos(th)^2 + 5*(a^2*cos(th)^2 + r^2 - r*v)^(2*beta)*K*a^2*r^5*v*cos(th)^2 - 5*(a^2*cos(th)^2 + r^2 - r*v)^(2*beta)*K*a^2*r^4*u*v*cos(th)^2 - 5*(a^2*cos(th)^2 + r^2 - r*v)^(2*beta)*K*a^4*r^2*v^2*cos(th)^2 + 10*(a^2*cos(th)^2 + r^2 - 2*r*v + v^2)^(2*beta)*B*Q*a^2*r^3*v^2*cos(th)^2 - 9*(a^2*cos(th)^2 + r^2 - r*v)^(2*beta)*K*a^2*r^4*v^2*cos(th)^2 + 9*(a^2*cos(th)^2 + r^2 - r*v)^(2*beta)*K*a^2*r^3*u*v^2*cos(th)^2 + 2*(a^2*cos(th)^2 + r^2 - r*v)^(2*beta)*K*a^4*r*v^3*cos(th)^2 - 10*(a^2*cos(th)^2 + r^2 - 2*r*v + v^2)^(2*beta)*B*Q*a^2*r^2*v^3*cos(th)^2 + 7*(a^2*cos(th)^2 + r^2 - r*v)^(2*beta)*K*a^2*r^3*v^3*cos(th)^2 - 7*(a^2*cos(th)^2 + r^2 - r*v)^(2*beta)*K*a^2*r^2*u*v^3*cos(th)^2 + 5*(a^2*cos(th)^2 + r^2 - 2*r*v + v^2)^(2*beta)*B*Q*a^2*r*v^4*cos(th)^2 - 2*(a^2*cos(th)^2 + r^2 - r*v)^(2*beta)*K*a^2*r^2*v^4*cos(th)^2 + 2*(a^2*cos(th)^2 + r^2 - r*v)^(2*beta)*K*a^2*r*u*v^4*cos(th)^2 - (a^2*cos(th)^2 + r^2 - 2*r*v + v^2)^(2*beta)*B*Q*a^2*v^5*cos(th)^2 + (a^2*cos(th)^2 + r^2 - 2*r*v + v^2)^(2*beta)*B*Q*a^4*r^3*sin(th)^2 + (a^2*cos(th)^2 + r^2 - 2*r*v + v^2)^(2*beta)*B^2*K*a^2*r^4*sin(th)^2 + (a^2*cos(th)^2 + r^2 - 2*r*v + v^2)^(2*beta)*B*Q*a^2*r^5*sin(th)^2 - (a^2*cos(th)^2 + r^2 - 2*r*v + v^2)^(2*beta)*B*Q*a^4*r^2*u*sin(th)^2 - (a^2*cos(th)^2 + r^2 - 2*r*v + v^2)^(2*beta)*B*Q*a^2*r^4*u*sin(th)^2 - 2*(a^2*cos(th)^2 + r^2 - 2*r*v + v^2)^(2*beta)*B*Q*a^4*r^2*v*sin(th)^2 - 4*(a^2*cos(th)^2 + r^2 - 2*r*v + v^2)^(2*beta)*B^2*K*a^2*r^3*v*sin(th)^2 - 4*(a^2*cos(th)^2 + r^2 - 2*r*v + v^2)^(2*beta)*B*Q*a^2*r^4*v*sin(th)^2 + 2*(a^2*cos(th)^2 + r^2 - 2*r*v + v^2)^(2*beta)*B*Q*a^4*r*u*v*sin(th)^2 + 4*(a^2*cos(th)^2 + r^2 - 2*r*v + v^2)^(2*beta)*B*Q*a^2*r^3*u*v*sin(th)^2 + (a^2*cos(th)^2 + r^2 - 2*r*v + v^2)^(2*beta)*B*Q*a^4*r*v^2*sin(th)^2 + 6*(a^2*cos(th)^2 + r^2 - 2*r*v + v^2)^(2*beta)*B^2*K*a^2*r^2*v^2*sin(th)^2 + 6*(a^2*cos(th)^2 + r^2 - 2*r*v + v^2)^(2*beta)*B*Q*a^2*r^3*v^2*sin(th)^2 - (a^2*cos(th)^2 + r^2 - 2*r*v + v^2)^(2*beta)*B*Q*a^4*u*v^2*sin(th)^2 - 6*(a^2*cos(th)^2 + r^2 - 2*r*v + v^2)^(2*beta)*B*Q*a^2*r^2*u*v^2*sin(th)^2 - 4*(a^2*cos(th)^2 + r^2 - 2*r*v + v^2)^(2*beta)*B^2*K*a^2*r*v^3*sin(th)^2 - 4*(a^2*cos(th)^2 + r^2 - 2*r*v + v^2)^(2*beta)*B*Q*a^2*r^2*v^3*sin(th)^2 + 4*(a^2*cos(th)^2 + r^2 - 2*r*v + v^2)^(2*beta)*B*Q*a^2*r*u*v^3*sin(th)^2 + (a^2*cos(th)^2 + r^2 - 2*r*v + v^2)^(2*beta)*B^2*K*a^2*v^4*sin(th)^2 + (a^2*cos(th)^2 + r^2 - 2*r*v + v^2)^(2*beta)*B*Q*a^2*r*v^4*sin(th)^2 - (a^2*cos(th)^2 + r^2 - 2*r*v + v^2)^(2*beta)*B*Q*a^2*u*v^4*sin(th)^2 - (a^2*cos(th)^2 + r^2 - 2*r*v + v^2)^(2*beta)*B*Q*a^4*r^3 - (a^2*cos(th)^2 + r^2 - r*v)^(2*beta)*K*a^2*r^6 + (a^2*cos(th)^2 + r^2 - 2*r*v + v^2)^(2*beta)*B*Q*r^7 - (a^2*cos(th)^2 + r^2 - r*v)^(2*beta)*K*r^8 + (a^2*cos(th)^2 + r^2 - 2*r*v + v^2)^(2*beta)*B*Q*a^4*r^2*u - (a^2*cos(th)^2 + r^2 - 2*r*v + v^2)^(2*beta)*B*Q*r^6*u + (a^2*cos(th)^2 + r^2 - r*v)^(2*beta)*K*r^7*u + 2*(a^2*cos(th)^2 + r^2 - 2*r*v + v^2)^(2*beta)*B*Q*a^4*r^2*v + 4*(a^2*cos(th)^2 + r^2 - r*v)^(2*beta)*K*a^2*r^5*v - 6*(a^2*cos(th)^2 + r^2 - 2*r*v + v^2)^(2*beta)*B*Q*r^6*v + 5*(a^2*cos(th)^2 + r^2 - r*v)^(2*beta)*K*r^7*v - 2*(a^2*cos(th)^2 + r^2 - 2*r*v + v^2)^(2*beta)*B*Q*a^4*r*u*v + 6*(a^2*cos(th)^2 + r^2 - 2*r*v + v^2)^(2*beta)*B*Q*r^5*u*v - 5*(a^2*cos(th)^2 + r^2 - r*v)^(2*beta)*K*r^6*u*v - (a^2*cos(th)^2 + r^2 - 2*r*v + v^2)^(2*beta)*B*Q*a^4*r*v^2 - 6*(a^2*cos(th)^2 + r^2 - r*v)^(2*beta)*K*a^2*r^4*v^2 + 15*(a^2*cos(th)^2 + r^2 - 2*r*v + v^2)^(2*beta)*B*Q*r^5*v^2 - 10*(a^2*cos(th)^2 + r^2 - r*v)^(2*beta)*K*r^6*v^2 + (a^2*cos(th)^2 + r^2 - 2*r*v + v^2)^(2*beta)*B*Q*a^4*u*v^2 - 15*(a^2*cos(th)^2 + r^2 - 2*r*v + v^2)^(2*beta)*B*Q*r^4*u*v^2 + 10*(a^2*cos(th)^2 + r^2 - r*v)^(2*beta)*K*r^5*u*v^2 + 4*(a^2*cos(th)^2 + r^2 - r*v)^(2*beta)*K*a^2*r^3*v^3 - 20*(a^2*cos(th)^2 + r^2 - 2*r*v + v^2)^(2*beta)*B*Q*r^4*v^3 + 10*(a^2*cos(th)^2 + r^2 - r*v)^(2*beta)*K*r^5*v^3 + 20*(a^2*cos(th)^2 + r^2 - 2*r*v + v^2)^(2*beta)*B*Q*r^3*u*v^3 - 10*(a^2*cos(th)^2 + r^2 - r*v)^(2*beta)*K*r^4*u*v^3 - (a^2*cos(th)^2 + r^2 - r*v)^(2*beta)*K*a^2*r^2*v^4 + 15*(a^2*cos(th)^2 + r^2 - 2*r*v + v^2)^(2*beta)*B*Q*r^3*v^4 - 5*(a^2*cos(th)^2 + r^2 - r*v)^(2*beta)*K*r^4*v^4 - 15*(a^2*cos(th)^2 + r^2 - 2*r*v + v^2)^(2*beta)*B*Q*r^2*u*v^4 + 5*(a^2*cos(th)^2 + r^2 - r*v)^(2*beta)*K*r^3*u*v^4 - 6*(a^2*cos(th)^2 + r^2 - 2*r*v + v^2)^(2*beta)*B*Q*r^2*v^5 + (a^2*cos(th)^2 + r^2 - r*v)^(2*beta)*K*r^3*v^5 + 6*(a^2*cos(th)^2 + r^2 - 2*r*v + v^2)^(2*beta)*B*Q*r*u*v^5 - (a^2*cos(th)^2 + r^2 - r*v)^(2*beta)*K*r^2*u*v^5 + (a^2*cos(th)^2 + r^2 - 2*r*v + v^2)^(2*beta)*B*Q*r*v^6 - (a^2*cos(th)^2 + r^2 - 2*r*v + v^2)^(2*beta)*B*Q*u*v^6)*(a^2*cos(th)^2 + r^2 - 2*r*v + v^2)^(-2*beta - 1)*a*sin(th)^2/((a^2*cos(th)^2 + r^2 - r*u - r*v + u*v)*(a^2*cos(th)^2 + r^2 - r*v)^2*(a^2 + r^2 - r*u - r*v + u*v))"
      ]
     },
     "execution_count": 24,
     "metadata": {},
     "output_type": "execute_result"
    }
   ],
   "source": [
    "(F2_down[1,3]).expr().factor()"
   ]
  },
  {
   "cell_type": "markdown",
   "metadata": {},
   "source": [
    "Pour la composante $F_{r\\varphi}$, on remarque la présence de termes en $\\left(H_2/H_1\\right)^{2\\beta}$ ce qui pourrait provenir d'un terme en $\\left(H_2/H_1\\right)^{2\\beta+1}$ dans la composante $A_\\varphi$."
   ]
  }
 ],
 "metadata": {
  "kernelspec": {
   "display_name": "SageMath 9.3",
   "language": "sage",
   "name": "sagemath"
  },
  "language_info": {
   "codemirror_mode": {
    "name": "ipython",
    "version": 3
   },
   "file_extension": ".py",
   "mimetype": "text/x-python",
   "name": "python",
   "nbconvert_exporter": "python",
   "pygments_lexer": "ipython3",
   "version": "3.7.10"
  }
 },
 "nbformat": 4,
 "nbformat_minor": 4
}
