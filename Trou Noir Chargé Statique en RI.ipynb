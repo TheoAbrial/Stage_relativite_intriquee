{
 "cells": [
  {
   "cell_type": "markdown",
   "metadata": {},
   "source": [
    "Version de SageMath utilisée : 9.3"
   ]
  },
  {
   "cell_type": "markdown",
   "metadata": {},
   "source": [
    "# Trou Noir Chargé Statique en Relativité Intriquée "
   ]
  },
  {
   "cell_type": "markdown",
   "metadata": {},
   "source": [
    "L'action de la relativité intriquée est donnée par (sous sa forme tenseur-scalaire) :"
   ]
  },
  {
   "cell_type": "markdown",
   "metadata": {},
   "source": [
    "$S = \\int \\mathrm{d}^4 x\\sqrt{-g} \\left( \\frac{\\varphi^2 R}{2\\kappa} + \\varphi \\mathcal{L}_m \\right)$"
   ]
  },
  {
   "cell_type": "markdown",
   "metadata": {},
   "source": [
    "avec $g$ le determinant de la métrique, $R$ la courbure scalaire de la variété, $\\kappa$ la constante d'Einstein et $\\mathcal{L}_m$ le lagrangien de la matière. "
   ]
  },
  {
   "cell_type": "markdown",
   "metadata": {},
   "source": [
    "Les équations de champs sont les suivantes :"
   ]
  },
  {
   "cell_type": "markdown",
   "metadata": {},
   "source": [
    "$G_{\\mu\\nu} = \\frac{\\kappa}{\\varphi}T_{\\mu\\nu} + \\frac{1}{\\varphi^2} \\left( \\nabla_\\mu \\nabla_\\nu - g_{\\mu\\nu} \\Box \\right) \\varphi^2$"
   ]
  },
  {
   "cell_type": "markdown",
   "metadata": {},
   "source": [
    "$\\varphi = - \\kappa \\frac{\\mathcal{L}_m}{R}$"
   ]
  },
  {
   "cell_type": "markdown",
   "metadata": {},
   "source": [
    "En prenant la trace de la première équation, on trouve : $\\frac{3}{\\varphi^2}\\Box \\varphi^2 = R + \\frac{\\kappa}{\\varphi} T = \\frac{\\kappa}{\\varphi} \\left(T - \\mathcal{L}_m \\right)$."
   ]
  },
  {
   "cell_type": "markdown",
   "metadata": {},
   "source": [
    "Dans le cas du trou noir chargé : $\\mathcal{L}_m = -\\frac{1}{2} F_{\\mu\\nu}F^{\\mu\\nu}$"
   ]
  },
  {
   "cell_type": "markdown",
   "metadata": {},
   "source": [
    "### Définition de la variété, des paramètres et des coordonées"
   ]
  },
  {
   "cell_type": "code",
   "execution_count": 1,
   "metadata": {},
   "outputs": [],
   "source": [
    "%display latex"
   ]
  },
  {
   "cell_type": "code",
   "execution_count": 2,
   "metadata": {},
   "outputs": [],
   "source": [
    "M = Manifold(4, 'M', structure='Lorentzian')"
   ]
  },
  {
   "cell_type": "code",
   "execution_count": 3,
   "metadata": {},
   "outputs": [],
   "source": [
    "m = var('m')\n",
    "assume(m>=0)\n",
    "q = var('q')"
   ]
  },
  {
   "cell_type": "markdown",
   "metadata": {},
   "source": [
    "Le paramètre $m$ représente la masse du trou noir, $q$ sa charge."
   ]
  },
  {
   "cell_type": "code",
   "execution_count": 4,
   "metadata": {},
   "outputs": [],
   "source": [
    "u, v = var('u, v')"
   ]
  },
  {
   "cell_type": "markdown",
   "metadata": {},
   "source": [
    "Les paramètres $u$ et $v$ sont reliés à $m$ et $q$ par les relations suivantes : $2m = u+\\frac{11}{13}v$ et $q^2 = \\frac{12}{13}uv$."
   ]
  },
  {
   "cell_type": "code",
   "execution_count": 5,
   "metadata": {},
   "outputs": [],
   "source": [
    "X.<t,r,th,ph> = M.chart(r\"t r:(0,+oo) th:(0,pi):\\theta ph:\\varphi\")"
   ]
  },
  {
   "cell_type": "markdown",
   "metadata": {},
   "source": [
    "### La solution"
   ]
  },
  {
   "cell_type": "code",
   "execution_count": 6,
   "metadata": {},
   "outputs": [
    {
     "data": {
      "text/html": [
       "<html><script type=\"math/tex; mode=display\">\\newcommand{\\Bold}[1]{\\mathbf{#1}}g = {\\left(\\frac{u}{r} - 1\\right)} {\\left(-\\frac{v}{r} + 1\\right)}^{\\frac{15}{13}} \\mathrm{d} t\\otimes \\mathrm{d} t -\\frac{1}{{\\left(\\frac{u}{r} - 1\\right)} {\\left(-\\frac{v}{r} + 1\\right)}^{\\frac{7}{13}}} \\mathrm{d} r\\otimes \\mathrm{d} r + r^{2} {\\left(-\\frac{v}{r} + 1\\right)}^{\\frac{6}{13}} \\mathrm{d} {\\theta}\\otimes \\mathrm{d} {\\theta} + r^{2} {\\left(-\\frac{v}{r} + 1\\right)}^{\\frac{6}{13}} \\sin\\left({\\theta}\\right)^{2} \\mathrm{d} {\\varphi}\\otimes \\mathrm{d} {\\varphi}</script></html>"
      ],
      "text/latex": [
       "$$\\newcommand{\\Bold}[1]{\\mathbf{#1}}g = {\\left(\\frac{u}{r} - 1\\right)} {\\left(-\\frac{v}{r} + 1\\right)}^{\\frac{15}{13}} \\mathrm{d} t\\otimes \\mathrm{d} t -\\frac{1}{{\\left(\\frac{u}{r} - 1\\right)} {\\left(-\\frac{v}{r} + 1\\right)}^{\\frac{7}{13}}} \\mathrm{d} r\\otimes \\mathrm{d} r + r^{2} {\\left(-\\frac{v}{r} + 1\\right)}^{\\frac{6}{13}} \\mathrm{d} {\\theta}\\otimes \\mathrm{d} {\\theta} + r^{2} {\\left(-\\frac{v}{r} + 1\\right)}^{\\frac{6}{13}} \\sin\\left({\\theta}\\right)^{2} \\mathrm{d} {\\varphi}\\otimes \\mathrm{d} {\\varphi}$$"
      ],
      "text/plain": [
       "g = (u/r - 1)*(-v/r + 1)^(15/13) dt*dt - 1/((u/r - 1)*(-v/r + 1)^(7/13)) dr*dr + r^2*(-v/r + 1)^(6/13) dth*dth + r^2*(-v/r + 1)^(6/13)*sin(th)^2 dph*dph"
      ]
     },
     "execution_count": 6,
     "metadata": {},
     "output_type": "execute_result"
    }
   ],
   "source": [
    "\"\"\"La métrique\"\"\"\n",
    "\n",
    "g = M.metric(name='g')\n",
    "g[0,0] = -(1-u/r)*(1-v/r)**(15/13)\n",
    "g[1,1] = 1/((1-u/r)*(1-v/r)**(7/13))\n",
    "g[2,2] = r**2*(1-v/r)**(6/13)\n",
    "g[3,3] = (r*sin(th))**2*(1-v/r)**(6/13)\n",
    "g.display()"
   ]
  },
  {
   "cell_type": "markdown",
   "metadata": {},
   "source": [
    "On calcule le determinant, l'inverse et la connexion de Levi-Civita $\\nabla$ de la métrique $g$ :"
   ]
  },
  {
   "cell_type": "code",
   "execution_count": 7,
   "metadata": {},
   "outputs": [
    {
     "data": {
      "text/html": [
       "<html><script type=\"math/tex; mode=display\">\\newcommand{\\Bold}[1]{\\mathbf{#1}}\\begin{array}{llcl} & M & \\longrightarrow & \\mathbb{R} \\\\ & \\left(t, r, {\\theta}, {\\varphi}\\right) & \\longmapsto & -{\\left(r^{3} \\sin\\left({\\theta}\\right)^{2} - r^{2} v \\sin\\left({\\theta}\\right)^{2}\\right)} {\\left(r - v\\right)}^{\\frac{7}{13}} r^{\\frac{6}{13}} \\end{array}</script></html>"
      ],
      "text/latex": [
       "$$\\newcommand{\\Bold}[1]{\\mathbf{#1}}\\begin{array}{llcl} & M & \\longrightarrow & \\mathbb{R} \\\\ & \\left(t, r, {\\theta}, {\\varphi}\\right) & \\longmapsto & -{\\left(r^{3} \\sin\\left({\\theta}\\right)^{2} - r^{2} v \\sin\\left({\\theta}\\right)^{2}\\right)} {\\left(r - v\\right)}^{\\frac{7}{13}} r^{\\frac{6}{13}} \\end{array}$$"
      ],
      "text/plain": [
       "M --> R\n",
       "(t, r, th, ph) |--> -(r^3*sin(th)^2 - r^2*v*sin(th)^2)*(r - v)^(7/13)*r^(6/13)"
      ]
     },
     "execution_count": 7,
     "metadata": {},
     "output_type": "execute_result"
    }
   ],
   "source": [
    "detg = g.determinant()\n",
    "detg.display()"
   ]
  },
  {
   "cell_type": "code",
   "execution_count": 8,
   "metadata": {},
   "outputs": [
    {
     "data": {
      "text/html": [
       "<html><script type=\"math/tex; mode=display\">\\newcommand{\\Bold}[1]{\\mathbf{#1}}g^{-1} = -\\frac{r^{\\frac{28}{13}}}{{\\left(r^{2} - r u - {\\left(r - u\\right)} v\\right)} {\\left(r - v\\right)}^{\\frac{2}{13}}} \\frac{\\partial}{\\partial t }\\otimes \\frac{\\partial}{\\partial t } + \\frac{{\\left(r - u\\right)} {\\left(r - v\\right)}^{\\frac{7}{13}}}{r^{\\frac{20}{13}}} \\frac{\\partial}{\\partial r }\\otimes \\frac{\\partial}{\\partial r } + \\frac{1}{{\\left(r - v\\right)}^{\\frac{6}{13}} r^{\\frac{20}{13}}} \\frac{\\partial}{\\partial {\\theta} }\\otimes \\frac{\\partial}{\\partial {\\theta} } + \\frac{1}{{\\left(r - v\\right)}^{\\frac{6}{13}} r^{\\frac{20}{13}} \\sin\\left({\\theta}\\right)^{2}} \\frac{\\partial}{\\partial {\\varphi} }\\otimes \\frac{\\partial}{\\partial {\\varphi} }</script></html>"
      ],
      "text/latex": [
       "$$\\newcommand{\\Bold}[1]{\\mathbf{#1}}g^{-1} = -\\frac{r^{\\frac{28}{13}}}{{\\left(r^{2} - r u - {\\left(r - u\\right)} v\\right)} {\\left(r - v\\right)}^{\\frac{2}{13}}} \\frac{\\partial}{\\partial t }\\otimes \\frac{\\partial}{\\partial t } + \\frac{{\\left(r - u\\right)} {\\left(r - v\\right)}^{\\frac{7}{13}}}{r^{\\frac{20}{13}}} \\frac{\\partial}{\\partial r }\\otimes \\frac{\\partial}{\\partial r } + \\frac{1}{{\\left(r - v\\right)}^{\\frac{6}{13}} r^{\\frac{20}{13}}} \\frac{\\partial}{\\partial {\\theta} }\\otimes \\frac{\\partial}{\\partial {\\theta} } + \\frac{1}{{\\left(r - v\\right)}^{\\frac{6}{13}} r^{\\frac{20}{13}} \\sin\\left({\\theta}\\right)^{2}} \\frac{\\partial}{\\partial {\\varphi} }\\otimes \\frac{\\partial}{\\partial {\\varphi} }$$"
      ],
      "text/plain": [
       "inv_g = -r^(28/13)/((r^2 - r*u - (r - u)*v)*(r - v)^(2/13)) d/dt*d/dt + (r - u)*(r - v)^(7/13)/r^(20/13) d/dr*d/dr + 1/((r - v)^(6/13)*r^(20/13)) d/dth*d/dth + 1/((r - v)^(6/13)*r^(20/13)*sin(th)^2) d/dph*d/dph"
      ]
     },
     "execution_count": 8,
     "metadata": {},
     "output_type": "execute_result"
    }
   ],
   "source": [
    "invg = g.inverse()\n",
    "invg.display()"
   ]
  },
  {
   "cell_type": "code",
   "execution_count": 9,
   "metadata": {},
   "outputs": [],
   "source": [
    "nab = g.connection(name=r'\\nabla')"
   ]
  },
  {
   "cell_type": "code",
   "execution_count": 10,
   "metadata": {},
   "outputs": [
    {
     "data": {
      "text/html": [
       "<html><script type=\"math/tex; mode=display\">\\newcommand{\\Bold}[1]{\\mathbf{#1}}-\\frac{2 \\, \\sqrt{13} \\sqrt{3} \\sqrt{u} \\sqrt{v}}{13 \\, r^{2}} \\mathrm{d} t\\wedge \\mathrm{d} r</script></html>"
      ],
      "text/latex": [
       "$$\\newcommand{\\Bold}[1]{\\mathbf{#1}}-\\frac{2 \\, \\sqrt{13} \\sqrt{3} \\sqrt{u} \\sqrt{v}}{13 \\, r^{2}} \\mathrm{d} t\\wedge \\mathrm{d} r$$"
      ],
      "text/plain": [
       "-2/13*sqrt(13)*sqrt(3)*sqrt(u)*sqrt(v)/r^2 dt/\\dr"
      ]
     },
     "execution_count": 10,
     "metadata": {},
     "output_type": "execute_result"
    }
   ],
   "source": [
    "\"\"\"Le champ électromagnétique\"\"\"\n",
    "\n",
    "A = M.one_form({X.frame(): [-sqrt(12*u*v/13)/r, 0, 0, 0]})\n",
    "\n",
    "F = A.exterior_derivative()\n",
    "F.display()"
   ]
  },
  {
   "cell_type": "markdown",
   "metadata": {},
   "source": [
    "On calcule le Lagrangien $\\mathcal{L}_m$ \"on-shell\" :"
   ]
  },
  {
   "cell_type": "code",
   "execution_count": 11,
   "metadata": {},
   "outputs": [
    {
     "data": {
      "text/html": [
       "<html><script type=\"math/tex; mode=display\">\\newcommand{\\Bold}[1]{\\mathbf{#1}}\\begin{array}{llcl} & M & \\longrightarrow & \\mathbb{R} \\\\ & \\left(t, r, {\\theta}, {\\varphi}\\right) & \\longmapsto & \\frac{12 \\, {\\left(r - v\\right)}^{\\frac{5}{13}} u v}{13 \\, {\\left(r^{4} - r^{3} v\\right)} r^{\\frac{5}{13}}} \\end{array}</script></html>"
      ],
      "text/latex": [
       "$$\\newcommand{\\Bold}[1]{\\mathbf{#1}}\\begin{array}{llcl} & M & \\longrightarrow & \\mathbb{R} \\\\ & \\left(t, r, {\\theta}, {\\varphi}\\right) & \\longmapsto & \\frac{12 \\, {\\left(r - v\\right)}^{\\frac{5}{13}} u v}{13 \\, {\\left(r^{4} - r^{3} v\\right)} r^{\\frac{5}{13}}} \\end{array}$$"
      ],
      "text/plain": [
       "M --> R\n",
       "(t, r, th, ph) |--> 12/13*(r - v)^(5/13)*u*v/((r^4 - r^3*v)*r^(5/13))"
      ]
     },
     "execution_count": 11,
     "metadata": {},
     "output_type": "execute_result"
    }
   ],
   "source": [
    "Lm = -F['_ij']*F.up(g)['^ij']/2\n",
    "Lm.display()"
   ]
  },
  {
   "cell_type": "code",
   "execution_count": 12,
   "metadata": {},
   "outputs": [
    {
     "data": {
      "text/html": [
       "<html><script type=\"math/tex; mode=display\">\\newcommand{\\Bold}[1]{\\mathbf{#1}}\\begin{array}{llcl} \\varphi:& M & \\longrightarrow & \\mathbb{R} \\\\ & \\left(t, r, {\\theta}, {\\varphi}\\right) & \\longmapsto & \\frac{1}{{\\left(-\\frac{v}{r} + 1\\right)}^{\\frac{2}{13}}} \\end{array}</script></html>"
      ],
      "text/latex": [
       "$$\\newcommand{\\Bold}[1]{\\mathbf{#1}}\\begin{array}{llcl} \\varphi:& M & \\longrightarrow & \\mathbb{R} \\\\ & \\left(t, r, {\\theta}, {\\varphi}\\right) & \\longmapsto & \\frac{1}{{\\left(-\\frac{v}{r} + 1\\right)}^{\\frac{2}{13}}} \\end{array}$$"
      ],
      "text/plain": [
       "\\varphi: M --> R\n",
       "   (t, r, th, ph) |--> (-v/r + 1)^(-2/13)"
      ]
     },
     "execution_count": 12,
     "metadata": {},
     "output_type": "execute_result"
    }
   ],
   "source": [
    "\"\"\"Le champ phi\"\"\"\n",
    "\n",
    "phi = M.scalar_field({X:(1-v/r)**(-2/13)}, name=r'\\varphi')\n",
    "phi.display()"
   ]
  },
  {
   "cell_type": "markdown",
   "metadata": {},
   "source": [
    "### Vérification de la solution"
   ]
  },
  {
   "cell_type": "code",
   "execution_count": 13,
   "metadata": {},
   "outputs": [
    {
     "data": {
      "text/html": [
       "<html><script type=\"math/tex; mode=display\">\\newcommand{\\Bold}[1]{\\mathbf{#1}}0</script></html>"
      ],
      "text/latex": [
       "$$\\newcommand{\\Bold}[1]{\\mathbf{#1}}0$$"
      ],
      "text/plain": [
       "0"
      ]
     },
     "execution_count": 13,
     "metadata": {},
     "output_type": "execute_result"
    }
   ],
   "source": [
    "\"\"\"Equation de Maxwell\"\"\"\n",
    "\n",
    "N = nab(phi*F.up(g))['_i^ij']\n",
    "N.display()"
   ]
  },
  {
   "cell_type": "markdown",
   "metadata": {},
   "source": [
    "On a bien l'équation de Maxwell qui est vérifiée : $\\nabla_{\\mu}\\left(\\varphi F^{\\mu\\nu}\\right) = 0$."
   ]
  },
  {
   "cell_type": "code",
   "execution_count": 14,
   "metadata": {},
   "outputs": [
    {
     "data": {
      "text/html": [
       "<html><script type=\"math/tex; mode=display\">\\newcommand{\\Bold}[1]{\\mathbf{#1}}\\mathrm{True}</script></html>"
      ],
      "text/latex": [
       "$$\\newcommand{\\Bold}[1]{\\mathbf{#1}}\\mathrm{True}$$"
      ],
      "text/plain": [
       "True"
      ]
     },
     "execution_count": 14,
     "metadata": {},
     "output_type": "execute_result"
    }
   ],
   "source": [
    "\"\"\"Equation d'Einstein\"\"\"\n",
    "\n",
    "Ric = g.ricci() #Le tenseur de Ricci\n",
    "R = g.ricci_scalar() #La courbure scalaire\n",
    "G = Ric-R*g/2 #Le tenseur d'Einstein\n",
    "\n",
    "T = 2*(F.up(g,1)['_i^j']*F['_kj'] + g*Lm/2) #Le tenseur énergie impuslion\n",
    "\n",
    "S = (nab(nab(phi**2)) - g*(phi**2).dalembertian())/(phi**2) #Le tenseur en plus dans l'équation\n",
    "\n",
    "G == T/phi + S"
   ]
  },
  {
   "cell_type": "markdown",
   "metadata": {},
   "source": [
    "On retrouve bien $G_{\\mu\\nu} = \\frac{\\kappa}{\\varphi}T_{\\mu\\nu} + \\frac{1}{\\varphi^2} \\left( \\nabla_\\mu \\nabla_\\nu - g_{\\mu\\nu} \\Box \\right) \\varphi^2$. La constante $\\kappa$ a été prise égale à $1$."
   ]
  },
  {
   "cell_type": "code",
   "execution_count": 15,
   "metadata": {},
   "outputs": [
    {
     "data": {
      "text/html": [
       "<html><script type=\"math/tex; mode=display\">\\newcommand{\\Bold}[1]{\\mathbf{#1}}\\begin{array}{llcl} & M & \\longrightarrow & \\mathbb{R} \\\\ & \\left(t, r, {\\theta}, {\\varphi}\\right) & \\longmapsto & \\frac{r^{\\frac{2}{13}}}{{\\left(r - v\\right)}^{\\frac{2}{13}}} \\end{array}</script></html>"
      ],
      "text/latex": [
       "$$\\newcommand{\\Bold}[1]{\\mathbf{#1}}\\begin{array}{llcl} & M & \\longrightarrow & \\mathbb{R} \\\\ & \\left(t, r, {\\theta}, {\\varphi}\\right) & \\longmapsto & \\frac{r^{\\frac{2}{13}}}{{\\left(r - v\\right)}^{\\frac{2}{13}}} \\end{array}$$"
      ],
      "text/plain": [
       "M --> R\n",
       "(t, r, th, ph) |--> r^(2/13)/(r - v)^(2/13)"
      ]
     },
     "execution_count": 15,
     "metadata": {},
     "output_type": "execute_result"
    }
   ],
   "source": [
    "\"\"\"Equation du champ phi\"\"\"\n",
    "(-Lm/R).display()"
   ]
  },
  {
   "cell_type": "markdown",
   "metadata": {},
   "source": [
    "On retrouve la valeur du champ $\\varphi$. On a bien l'équation : $\\varphi = - \\kappa \\frac{\\mathcal{L}_m}{R}$."
   ]
  },
  {
   "cell_type": "markdown",
   "metadata": {},
   "source": [
    "### Transformation conforme"
   ]
  },
  {
   "cell_type": "markdown",
   "metadata": {},
   "source": [
    "En effectuant la transformation conforme $g_{\\mu\\nu} \\longrightarrow h_{\\mu\\nu} = \\varphi^2 g_{\\mu\\nu}$, l'action est changée : "
   ]
  },
  {
   "cell_type": "markdown",
   "metadata": {},
   "source": [
    "$S =\\int \\mathrm{d}^4 x  \\sqrt{-h} \\left( \\frac{R_h}{2 \\kappa} - \\frac{3}{\\kappa\\varphi^2} h^{\\mu\\nu} \\partial_{\\mu}\\varphi \\partial_{\\nu}\\varphi  + \\varphi \\mathcal{L}_{mh} \\right)$"
   ]
  },
  {
   "cell_type": "markdown",
   "metadata": {},
   "source": [
    "où toutes les grandeurs avec $h$ en indice ont été calculées à partir de la nouvelle métrique."
   ]
  },
  {
   "cell_type": "markdown",
   "metadata": {},
   "source": [
    "La métrique solution des équations de champs est :"
   ]
  },
  {
   "cell_type": "code",
   "execution_count": 16,
   "metadata": {},
   "outputs": [
    {
     "data": {
      "text/html": [
       "<html><script type=\"math/tex; mode=display\">\\newcommand{\\Bold}[1]{\\mathbf{#1}}h = {\\left(\\frac{u}{r} - 1\\right)} {\\left(-\\frac{v}{r} + 1\\right)}^{\\frac{11}{13}} \\mathrm{d} t\\otimes \\mathrm{d} t -\\frac{1}{{\\left(\\frac{u}{r} - 1\\right)} {\\left(-\\frac{v}{r} + 1\\right)}^{\\frac{11}{13}}} \\mathrm{d} r\\otimes \\mathrm{d} r + r^{2} {\\left(-\\frac{v}{r} + 1\\right)}^{\\frac{2}{13}} \\mathrm{d} {\\theta}\\otimes \\mathrm{d} {\\theta} + r^{2} {\\left(-\\frac{v}{r} + 1\\right)}^{\\frac{2}{13}} \\sin\\left({\\theta}\\right)^{2} \\mathrm{d} {\\varphi}\\otimes \\mathrm{d} {\\varphi}</script></html>"
      ],
      "text/latex": [
       "$$\\newcommand{\\Bold}[1]{\\mathbf{#1}}h = {\\left(\\frac{u}{r} - 1\\right)} {\\left(-\\frac{v}{r} + 1\\right)}^{\\frac{11}{13}} \\mathrm{d} t\\otimes \\mathrm{d} t -\\frac{1}{{\\left(\\frac{u}{r} - 1\\right)} {\\left(-\\frac{v}{r} + 1\\right)}^{\\frac{11}{13}}} \\mathrm{d} r\\otimes \\mathrm{d} r + r^{2} {\\left(-\\frac{v}{r} + 1\\right)}^{\\frac{2}{13}} \\mathrm{d} {\\theta}\\otimes \\mathrm{d} {\\theta} + r^{2} {\\left(-\\frac{v}{r} + 1\\right)}^{\\frac{2}{13}} \\sin\\left({\\theta}\\right)^{2} \\mathrm{d} {\\varphi}\\otimes \\mathrm{d} {\\varphi}$$"
      ],
      "text/plain": [
       "h = (u/r - 1)*(-v/r + 1)^(11/13) dt*dt - 1/((u/r - 1)*(-v/r + 1)^(11/13)) dr*dr + r^2*(-v/r + 1)^(2/13) dth*dth + r^2*(-v/r + 1)^(2/13)*sin(th)^2 dph*dph"
      ]
     },
     "execution_count": 16,
     "metadata": {},
     "output_type": "execute_result"
    }
   ],
   "source": [
    "h = M.metric('h')\n",
    "h[0,0] = -(1-u/r)*(1-v/r)**(11/13)\n",
    "h[1,1] = 1/((1-u/r)*(1-v/r)**(11/13))\n",
    "h[2,2] = r**2*(1-v/r)**(2/13)\n",
    "h[3,3] = (r*sin(th))**2*(1-v/r)**(2/13)\n",
    "h.display()"
   ]
  },
  {
   "cell_type": "code",
   "execution_count": 17,
   "metadata": {},
   "outputs": [
    {
     "data": {
      "text/html": [
       "<html><script type=\"math/tex; mode=display\">\\newcommand{\\Bold}[1]{\\mathbf{#1}}\\begin{array}{llcl} & M & \\longrightarrow & \\mathbb{R} \\\\ & \\left(t, r, {\\theta}, {\\varphi}\\right) & \\longmapsto & -{\\left(r - v\\right)}^{\\frac{4}{13}} r^{\\frac{48}{13}} \\sin\\left({\\theta}\\right)^{2} \\end{array}</script></html>"
      ],
      "text/latex": [
       "$$\\newcommand{\\Bold}[1]{\\mathbf{#1}}\\begin{array}{llcl} & M & \\longrightarrow & \\mathbb{R} \\\\ & \\left(t, r, {\\theta}, {\\varphi}\\right) & \\longmapsto & -{\\left(r - v\\right)}^{\\frac{4}{13}} r^{\\frac{48}{13}} \\sin\\left({\\theta}\\right)^{2} \\end{array}$$"
      ],
      "text/plain": [
       "M --> R\n",
       "(t, r, th, ph) |--> -(r - v)^(4/13)*r^(48/13)*sin(th)^2"
      ]
     },
     "execution_count": 17,
     "metadata": {},
     "output_type": "execute_result"
    }
   ],
   "source": [
    "deth = h.determinant()\n",
    "deth.display()"
   ]
  },
  {
   "cell_type": "code",
   "execution_count": 18,
   "metadata": {},
   "outputs": [],
   "source": [
    "nabh = h.connection()"
   ]
  },
  {
   "cell_type": "code",
   "execution_count": 19,
   "metadata": {},
   "outputs": [
    {
     "data": {
      "text/html": [
       "<html><script type=\"math/tex; mode=display\">\\newcommand{\\Bold}[1]{\\mathbf{#1}}0</script></html>"
      ],
      "text/latex": [
       "$$\\newcommand{\\Bold}[1]{\\mathbf{#1}}0$$"
      ],
      "text/plain": [
       "0"
      ]
     },
     "execution_count": 19,
     "metadata": {},
     "output_type": "execute_result"
    }
   ],
   "source": [
    "\"\"\"Equation de Maxwell\"\"\"\n",
    "\n",
    "nabh(phi*F.up(h))['_i^{ji}'].display()"
   ]
  },
  {
   "cell_type": "code",
   "execution_count": 20,
   "metadata": {},
   "outputs": [
    {
     "data": {
      "text/html": [
       "<html><script type=\"math/tex; mode=display\">\\newcommand{\\Bold}[1]{\\mathbf{#1}}\\begin{array}{llcl} & M & \\longrightarrow & \\mathbb{R} \\\\ & \\left(t, r, {\\theta}, {\\varphi}\\right) & \\longmapsto & 0 \\end{array}</script></html>"
      ],
      "text/latex": [
       "$$\\newcommand{\\Bold}[1]{\\mathbf{#1}}\\begin{array}{llcl} & M & \\longrightarrow & \\mathbb{R} \\\\ & \\left(t, r, {\\theta}, {\\varphi}\\right) & \\longmapsto & 0 \\end{array}$$"
      ],
      "text/plain": [
       "M --> R\n",
       "(t, r, th, ph) |--> 0"
      ]
     },
     "execution_count": 20,
     "metadata": {},
     "output_type": "execute_result"
    }
   ],
   "source": [
    "\"\"\"Equation du dilaton\"\"\"\n",
    "\n",
    "(nabh((ln(phi)).derivative().up(h))['_i^i']-1/12*phi*F['_{ij}']*F.up(h)['^{ij}']).display()"
   ]
  },
  {
   "cell_type": "code",
   "execution_count": 22,
   "metadata": {},
   "outputs": [
    {
     "data": {
      "text/html": [
       "<html><script type=\"math/tex; mode=display\">\\newcommand{\\Bold}[1]{\\mathbf{#1}}\\mathrm{True}</script></html>"
      ],
      "text/latex": [
       "$$\\newcommand{\\Bold}[1]{\\mathbf{#1}}\\mathrm{True}$$"
      ],
      "text/plain": [
       "True"
      ]
     },
     "execution_count": 22,
     "metadata": {},
     "output_type": "execute_result"
    }
   ],
   "source": [
    "\"\"\"Invariance conforme de l'action de l'électromagnétisme\"\"\"\n",
    "\n",
    "Lmh = -F['_ij']*F.up(h)['^ij']/2\n",
    "\n",
    "sqrt(-detg)*Lm == sqrt(-deth)*Lmh"
   ]
  },
  {
   "cell_type": "code",
   "execution_count": 23,
   "metadata": {},
   "outputs": [
    {
     "data": {
      "text/html": [
       "<html><script type=\"math/tex; mode=display\">\\newcommand{\\Bold}[1]{\\mathbf{#1}}\\frac{12 \\, {\\left(r u - u^{2}\\right)} {\\left(r - v\\right)}^{\\frac{11}{13}} v}{13 \\, r^{\\frac{76}{13}}} \\mathrm{d} t\\otimes \\mathrm{d} t -\\frac{12 \\, u v}{13 \\, {\\left(r^{3} - r^{2} u\\right)} {\\left(r - v\\right)}^{\\frac{11}{13}} r^{\\frac{2}{13}}} \\mathrm{d} r\\otimes \\mathrm{d} r + \\frac{12 \\, {\\left(r - v\\right)}^{\\frac{2}{13}} u v}{13 \\, r^{\\frac{28}{13}}} \\mathrm{d} {\\theta}\\otimes \\mathrm{d} {\\theta} + \\frac{12 \\, {\\left(r - v\\right)}^{\\frac{2}{13}} u v \\sin\\left({\\theta}\\right)^{2}}{13 \\, r^{\\frac{28}{13}}} \\mathrm{d} {\\varphi}\\otimes \\mathrm{d} {\\varphi}</script></html>"
      ],
      "text/latex": [
       "$$\\newcommand{\\Bold}[1]{\\mathbf{#1}}\\frac{12 \\, {\\left(r u - u^{2}\\right)} {\\left(r - v\\right)}^{\\frac{11}{13}} v}{13 \\, r^{\\frac{76}{13}}} \\mathrm{d} t\\otimes \\mathrm{d} t -\\frac{12 \\, u v}{13 \\, {\\left(r^{3} - r^{2} u\\right)} {\\left(r - v\\right)}^{\\frac{11}{13}} r^{\\frac{2}{13}}} \\mathrm{d} r\\otimes \\mathrm{d} r + \\frac{12 \\, {\\left(r - v\\right)}^{\\frac{2}{13}} u v}{13 \\, r^{\\frac{28}{13}}} \\mathrm{d} {\\theta}\\otimes \\mathrm{d} {\\theta} + \\frac{12 \\, {\\left(r - v\\right)}^{\\frac{2}{13}} u v \\sin\\left({\\theta}\\right)^{2}}{13 \\, r^{\\frac{28}{13}}} \\mathrm{d} {\\varphi}\\otimes \\mathrm{d} {\\varphi}$$"
      ],
      "text/plain": [
       "12/13*(r*u - u^2)*(r - v)^(11/13)*v/r^(76/13) dt*dt - 12/13*u*v/((r^3 - r^2*u)*(r - v)^(11/13)*r^(2/13)) dr*dr + 12/13*(r - v)^(2/13)*u*v/r^(28/13) dth*dth + 12/13*(r - v)^(2/13)*u*v*sin(th)^2/r^(28/13) dph*dph"
      ]
     },
     "execution_count": 23,
     "metadata": {},
     "output_type": "execute_result"
    }
   ],
   "source": [
    "Th = 2*(F.up(h,1)['_i^j']*F['_kj'] + h*Lmh/2)\n",
    "Th.display()"
   ]
  },
  {
   "cell_type": "code",
   "execution_count": 24,
   "metadata": {},
   "outputs": [
    {
     "data": {
      "text/html": [
       "<html><script type=\"math/tex; mode=display\">\\newcommand{\\Bold}[1]{\\mathbf{#1}}0</script></html>"
      ],
      "text/latex": [
       "$$\\newcommand{\\Bold}[1]{\\mathbf{#1}}0$$"
      ],
      "text/plain": [
       "0"
      ]
     },
     "execution_count": 24,
     "metadata": {},
     "output_type": "execute_result"
    }
   ],
   "source": [
    "\"\"\"Equation d'Einstein\"\"\"\n",
    "\n",
    "Rich = h.ricci()\n",
    "a = 1/sqrt(12)\n",
    "P = -1/(2*a)*ln(phi)\n",
    "Sh = 2*P.derivative()*P.derivative()\n",
    "\n",
    "(Rich - phi*Th - Sh).display()"
   ]
  },
  {
   "cell_type": "markdown",
   "metadata": {},
   "source": [
    "On retrouve bien $\\sqrt{-g} \\mathcal{L}_m = \\sqrt{-h} \\mathcal{L}_{mh}$."
   ]
  },
  {
   "cell_type": "code",
   "execution_count": 25,
   "metadata": {},
   "outputs": [
    {
     "data": {
      "text/html": [
       "<html><script type=\"math/tex; mode=display\">\\newcommand{\\Bold}[1]{\\mathbf{#1}}\\begin{array}{llcl} \\mathrm{r}\\left(h\\right):& M & \\longrightarrow & \\mathbb{R} \\\\ & \\left(t, r, {\\theta}, {\\varphi}\\right) & \\longmapsto & \\frac{24 \\, {\\left(r - u\\right)} v^{2}}{169 \\, {\\left(r^{4} - r^{3} v\\right)} {\\left(r - v\\right)}^{\\frac{2}{13}} r^{\\frac{11}{13}}} \\end{array}</script></html>"
      ],
      "text/latex": [
       "$$\\newcommand{\\Bold}[1]{\\mathbf{#1}}\\begin{array}{llcl} \\mathrm{r}\\left(h\\right):& M & \\longrightarrow & \\mathbb{R} \\\\ & \\left(t, r, {\\theta}, {\\varphi}\\right) & \\longmapsto & \\frac{24 \\, {\\left(r - u\\right)} v^{2}}{169 \\, {\\left(r^{4} - r^{3} v\\right)} {\\left(r - v\\right)}^{\\frac{2}{13}} r^{\\frac{11}{13}}} \\end{array}$$"
      ],
      "text/plain": [
       "r(h): M --> R\n",
       "   (t, r, th, ph) |--> 24/169*(r - u)*v^2/((r^4 - r^3*v)*(r - v)^(2/13)*r^(11/13))"
      ]
     },
     "execution_count": 25,
     "metadata": {},
     "output_type": "execute_result"
    }
   ],
   "source": [
    "\"\"\"La nouvelle courbure scalaire\"\"\"\n",
    "\n",
    "Rh = h.ricci_scalar()\n",
    "Rh.display()"
   ]
  },
  {
   "cell_type": "code",
   "execution_count": 26,
   "metadata": {},
   "outputs": [
    {
     "data": {
      "text/html": [
       "<html><script type=\"math/tex; mode=display\">\\newcommand{\\Bold}[1]{\\mathbf{#1}}\\begin{array}{llcl} & M & \\longrightarrow & \\mathbb{R} \\\\ & \\left(t, r, {\\theta}, {\\varphi}\\right) & \\longmapsto & \\frac{24 \\, {\\left(r - u\\right)} v^{2}}{169 \\, {\\left(r^{4} - r^{3} v\\right)} {\\left(r - v\\right)}^{\\frac{6}{13}} r^{\\frac{7}{13}}} \\end{array}</script></html>"
      ],
      "text/latex": [
       "$$\\newcommand{\\Bold}[1]{\\mathbf{#1}}\\begin{array}{llcl} & M & \\longrightarrow & \\mathbb{R} \\\\ & \\left(t, r, {\\theta}, {\\varphi}\\right) & \\longmapsto & \\frac{24 \\, {\\left(r - u\\right)} v^{2}}{169 \\, {\\left(r^{4} - r^{3} v\\right)} {\\left(r - v\\right)}^{\\frac{6}{13}} r^{\\frac{7}{13}}} \\end{array}$$"
      ],
      "text/plain": [
       "M --> R\n",
       "(t, r, th, ph) |--> 24/169*(r - u)*v^2/((r^4 - r^3*v)*(r - v)^(6/13)*r^(7/13))"
      ]
     },
     "execution_count": 26,
     "metadata": {},
     "output_type": "execute_result"
    }
   ],
   "source": [
    "\"\"\"Transformation de la courbure scalaire\"\"\"\n",
    "\n",
    "f = ln(phi)\n",
    "\n",
    "df = f.derivative()\n",
    "\n",
    "(R-6*f.dalembertian() - 6*invg(df,df)).display()"
   ]
  },
  {
   "cell_type": "code",
   "execution_count": 27,
   "metadata": {},
   "outputs": [
    {
     "data": {
      "text/html": [
       "<html><script type=\"math/tex; mode=display\">\\newcommand{\\Bold}[1]{\\mathbf{#1}}\\begin{array}{llcl} {\\varphi}^{ 2 } \\cdot \\mathrm{r}\\left(h\\right) : & M & \\longrightarrow & \\mathbb{R} \\\\ & \\left(t, r, {\\theta}, {\\varphi}\\right) & \\longmapsto & \\frac{24 \\, {\\left(r - u\\right)} v^{2}}{169 \\, {\\left(r^{4} - r^{3} v\\right)} {\\left(r - v\\right)}^{\\frac{6}{13}} r^{\\frac{7}{13}}} \\end{array}</script></html>"
      ],
      "text/latex": [
       "$$\\newcommand{\\Bold}[1]{\\mathbf{#1}}\\begin{array}{llcl} {\\varphi}^{ 2 } \\cdot \\mathrm{r}\\left(h\\right) : & M & \\longrightarrow & \\mathbb{R} \\\\ & \\left(t, r, {\\theta}, {\\varphi}\\right) & \\longmapsto & \\frac{24 \\, {\\left(r - u\\right)} v^{2}}{169 \\, {\\left(r^{4} - r^{3} v\\right)} {\\left(r - v\\right)}^{\\frac{6}{13}} r^{\\frac{7}{13}}} \\end{array}$$"
      ],
      "text/plain": [
       "\\varphi^2*r(h): M --> R\n",
       "   (t, r, th, ph) |--> 24/169*(r - u)*v^2/((r^4 - r^3*v)*(r - v)^(6/13)*r^(7/13))"
      ]
     },
     "execution_count": 27,
     "metadata": {},
     "output_type": "execute_result"
    }
   ],
   "source": [
    "(phi**2*Rh).display()"
   ]
  },
  {
   "cell_type": "markdown",
   "metadata": {},
   "source": [
    "On retrouve la transformation de la courbure scalaire : $R - 6\\Box f - 6 g^{\\mu\\nu}f_{\\mu}f_{\\nu} = \\varphi^2 R_h$. (On a défini $f = \\mathrm{ln}\\varphi$ et $f_{\\mu} = \\partial_{\\mu}f$)"
   ]
  },
  {
   "cell_type": "markdown",
   "metadata": {},
   "source": [
    "### Tenseur de Weyl"
   ]
  },
  {
   "cell_type": "code",
   "execution_count": 28,
   "metadata": {},
   "outputs": [
    {
     "data": {
      "text/html": [
       "<html><script type=\"math/tex; mode=display\">\\newcommand{\\Bold}[1]{\\mathbf{#1}}\\left[\\left[\\left[\\left[0, 0, 0, 0\\right], \\left[0, 0, 0, 0\\right], \\left[0, 0, 0, 0\\right], \\left[0, 0, 0, 0\\right]\\right], \\left[\\left[0, -\\frac{{\\left(169 \\, r^{2} u - 4 \\, {\\left(35 \\, r - 74 \\, u\\right)} v^{2} + 13 \\, {\\left(11 \\, r^{2} - 36 \\, r u\\right)} v\\right)} {\\left(r - v\\right)}^{\\frac{2}{13}}}{169 \\, {\\left(r^{5} - r^{4} v\\right)} r^{\\frac{2}{13}}}, 0, 0\\right], \\left[\\frac{{\\left(169 \\, r^{2} u - 4 \\, {\\left(35 \\, r - 74 \\, u\\right)} v^{2} + 13 \\, {\\left(11 \\, r^{2} - 36 \\, r u\\right)} v\\right)} {\\left(r - v\\right)}^{\\frac{2}{13}}}{169 \\, {\\left(r^{5} - r^{4} v\\right)} r^{\\frac{2}{13}}}, 0, 0, 0\\right], \\left[0, 0, 0, 0\\right], \\left[0, 0, 0, 0\\right]\\right], \\left[\\left[0, 0, \\frac{{\\left(169 \\, r^{3} u - 169 \\, r^{2} u^{2} - 4 \\, {\\left(35 \\, r^{2} - 109 \\, r u + 74 \\, u^{2}\\right)} v^{2} + 13 \\, {\\left(11 \\, r^{3} - 47 \\, r^{2} u + 36 \\, r u^{2}\\right)} v\\right)} {\\left(r - v\\right)}^{\\frac{2}{13}}}{338 \\, r^{\\frac{54}{13}}}, 0\\right], \\left[0, 0, 0, 0\\right], \\left[-\\frac{{\\left(169 \\, r^{3} u - 169 \\, r^{2} u^{2} - 4 \\, {\\left(35 \\, r^{2} - 109 \\, r u + 74 \\, u^{2}\\right)} v^{2} + 13 \\, {\\left(11 \\, r^{3} - 47 \\, r^{2} u + 36 \\, r u^{2}\\right)} v\\right)} {\\left(r - v\\right)}^{\\frac{2}{13}}}{338 \\, r^{\\frac{54}{13}}}, 0, 0, 0\\right], \\left[0, 0, 0, 0\\right]\\right], \\left[\\left[0, 0, 0, \\frac{{\\left(169 \\, r^{3} u \\sin\\left({\\theta}\\right)^{2} - 169 \\, r^{2} u^{2} \\sin\\left({\\theta}\\right)^{2} - 4 \\, {\\left(35 \\, r^{2} \\sin\\left({\\theta}\\right)^{2} - 109 \\, r u \\sin\\left({\\theta}\\right)^{2} + 74 \\, u^{2} \\sin\\left({\\theta}\\right)^{2}\\right)} v^{2} + 13 \\, {\\left(11 \\, r^{3} \\sin\\left({\\theta}\\right)^{2} - 47 \\, r^{2} u \\sin\\left({\\theta}\\right)^{2} + 36 \\, r u^{2} \\sin\\left({\\theta}\\right)^{2}\\right)} v\\right)} {\\left(r - v\\right)}^{\\frac{2}{13}}}{338 \\, r^{\\frac{54}{13}}}\\right], \\left[0, 0, 0, 0\\right], \\left[0, 0, 0, 0\\right], \\left[-\\frac{{\\left(169 \\, r^{3} u \\sin\\left({\\theta}\\right)^{2} - 169 \\, r^{2} u^{2} \\sin\\left({\\theta}\\right)^{2} - 4 \\, {\\left(35 \\, r^{2} \\sin\\left({\\theta}\\right)^{2} - 109 \\, r u \\sin\\left({\\theta}\\right)^{2} + 74 \\, u^{2} \\sin\\left({\\theta}\\right)^{2}\\right)} v^{2} + 13 \\, {\\left(11 \\, r^{3} \\sin\\left({\\theta}\\right)^{2} - 47 \\, r^{2} u \\sin\\left({\\theta}\\right)^{2} + 36 \\, r u^{2} \\sin\\left({\\theta}\\right)^{2}\\right)} v\\right)} {\\left(r - v\\right)}^{\\frac{2}{13}}}{338 \\, r^{\\frac{54}{13}}}, 0, 0, 0\\right]\\right]\\right], \\left[\\left[\\left[0, \\frac{169 \\, r^{2} u - 4 \\, {\\left(35 \\, r - 74 \\, u\\right)} v^{2} + 13 \\, {\\left(11 \\, r^{2} - 36 \\, r u\\right)} v}{169 \\, {\\left(r - v\\right)}^{\\frac{11}{13}} r^{\\frac{54}{13}}}, 0, 0\\right], \\left[-\\frac{169 \\, r^{2} u - 4 \\, {\\left(35 \\, r - 74 \\, u\\right)} v^{2} + 13 \\, {\\left(11 \\, r^{2} - 36 \\, r u\\right)} v}{169 \\, {\\left(r - v\\right)}^{\\frac{11}{13}} r^{\\frac{54}{13}}}, 0, 0, 0\\right], \\left[0, 0, 0, 0\\right], \\left[0, 0, 0, 0\\right]\\right], \\left[\\left[0, 0, 0, 0\\right], \\left[0, 0, 0, 0\\right], \\left[0, 0, 0, 0\\right], \\left[0, 0, 0, 0\\right]\\right], \\left[\\left[0, 0, 0, 0\\right], \\left[0, 0, -\\frac{169 \\, r^{2} u - 4 \\, {\\left(35 \\, r - 74 \\, u\\right)} v^{2} + 13 \\, {\\left(11 \\, r^{2} - 36 \\, r u\\right)} v}{338 \\, {\\left(r^{2} - r u - {\\left(r - u\\right)} v\\right)} {\\left(r - v\\right)}^{\\frac{7}{13}} r^{\\frac{6}{13}}}, 0\\right], \\left[0, \\frac{169 \\, r^{2} u - 4 \\, {\\left(35 \\, r - 74 \\, u\\right)} v^{2} + 13 \\, {\\left(11 \\, r^{2} - 36 \\, r u\\right)} v}{338 \\, {\\left(r^{2} - r u - {\\left(r - u\\right)} v\\right)} {\\left(r - v\\right)}^{\\frac{7}{13}} r^{\\frac{6}{13}}}, 0, 0\\right], \\left[0, 0, 0, 0\\right]\\right], \\left[\\left[0, 0, 0, 0\\right], \\left[0, 0, 0, -\\frac{169 \\, r^{2} u \\sin\\left({\\theta}\\right)^{2} - 4 \\, {\\left(35 \\, r \\sin\\left({\\theta}\\right)^{2} - 74 \\, u \\sin\\left({\\theta}\\right)^{2}\\right)} v^{2} + 13 \\, {\\left(11 \\, r^{2} \\sin\\left({\\theta}\\right)^{2} - 36 \\, r u \\sin\\left({\\theta}\\right)^{2}\\right)} v}{338 \\, {\\left(r^{2} - r u - {\\left(r - u\\right)} v\\right)} {\\left(r - v\\right)}^{\\frac{7}{13}} r^{\\frac{6}{13}}}\\right], \\left[0, 0, 0, 0\\right], \\left[0, \\frac{169 \\, r^{2} u \\sin\\left({\\theta}\\right)^{2} - 4 \\, {\\left(35 \\, r \\sin\\left({\\theta}\\right)^{2} - 74 \\, u \\sin\\left({\\theta}\\right)^{2}\\right)} v^{2} + 13 \\, {\\left(11 \\, r^{2} \\sin\\left({\\theta}\\right)^{2} - 36 \\, r u \\sin\\left({\\theta}\\right)^{2}\\right)} v}{338 \\, {\\left(r^{2} - r u - {\\left(r - u\\right)} v\\right)} {\\left(r - v\\right)}^{\\frac{7}{13}} r^{\\frac{6}{13}}}, 0, 0\\right]\\right]\\right], \\left[\\left[\\left[0, 0, -\\frac{{\\left(169 \\, r^{3} u - 169 \\, r^{2} u^{2} - 4 \\, {\\left(35 \\, r^{2} - 109 \\, r u + 74 \\, u^{2}\\right)} v^{2} + 13 \\, {\\left(11 \\, r^{3} - 47 \\, r^{2} u + 36 \\, r u^{2}\\right)} v\\right)} {\\left(r - v\\right)}^{\\frac{2}{13}}}{338 \\, r^{\\frac{54}{13}}}, 0\\right], \\left[0, 0, 0, 0\\right], \\left[\\frac{{\\left(169 \\, r^{3} u - 169 \\, r^{2} u^{2} - 4 \\, {\\left(35 \\, r^{2} - 109 \\, r u + 74 \\, u^{2}\\right)} v^{2} + 13 \\, {\\left(11 \\, r^{3} - 47 \\, r^{2} u + 36 \\, r u^{2}\\right)} v\\right)} {\\left(r - v\\right)}^{\\frac{2}{13}}}{338 \\, r^{\\frac{54}{13}}}, 0, 0, 0\\right], \\left[0, 0, 0, 0\\right]\\right], \\left[\\left[0, 0, 0, 0\\right], \\left[0, 0, \\frac{{\\left(169 \\, r^{2} u - 4 \\, {\\left(35 \\, r - 74 \\, u\\right)} v^{2} + 13 \\, {\\left(11 \\, r^{2} - 36 \\, r u\\right)} v\\right)} {\\left(r - v\\right)}^{\\frac{6}{13}}}{338 \\, {\\left(r^{3} - r^{2} u + {\\left(r - u\\right)} v^{2} - 2 \\, {\\left(r^{2} - r u\\right)} v\\right)} r^{\\frac{6}{13}}}, 0\\right], \\left[0, -\\frac{{\\left(169 \\, r^{2} u - 4 \\, {\\left(35 \\, r - 74 \\, u\\right)} v^{2} + 13 \\, {\\left(11 \\, r^{2} - 36 \\, r u\\right)} v\\right)} {\\left(r - v\\right)}^{\\frac{6}{13}}}{338 \\, {\\left(r^{3} - r^{2} u + {\\left(r - u\\right)} v^{2} - 2 \\, {\\left(r^{2} - r u\\right)} v\\right)} r^{\\frac{6}{13}}}, 0, 0\\right], \\left[0, 0, 0, 0\\right]\\right], \\left[\\left[0, 0, 0, 0\\right], \\left[0, 0, 0, 0\\right], \\left[0, 0, 0, 0\\right], \\left[0, 0, 0, 0\\right]\\right], \\left[\\left[0, 0, 0, 0\\right], \\left[0, 0, 0, 0\\right], \\left[0, 0, 0, \\frac{169 \\, r^{2} u \\sin\\left({\\theta}\\right)^{2} - 4 \\, {\\left(35 \\, r \\sin\\left({\\theta}\\right)^{2} - 74 \\, u \\sin\\left({\\theta}\\right)^{2}\\right)} v^{2} + 13 \\, {\\left(11 \\, r^{2} \\sin\\left({\\theta}\\right)^{2} - 36 \\, r u \\sin\\left({\\theta}\\right)^{2}\\right)} v}{169 \\, {\\left(r - v\\right)}^{\\frac{7}{13}} r^{\\frac{6}{13}}}\\right], \\left[0, 0, -\\frac{169 \\, r^{2} u \\sin\\left({\\theta}\\right)^{2} - 4 \\, {\\left(35 \\, r \\sin\\left({\\theta}\\right)^{2} - 74 \\, u \\sin\\left({\\theta}\\right)^{2}\\right)} v^{2} + 13 \\, {\\left(11 \\, r^{2} \\sin\\left({\\theta}\\right)^{2} - 36 \\, r u \\sin\\left({\\theta}\\right)^{2}\\right)} v}{169 \\, {\\left(r - v\\right)}^{\\frac{7}{13}} r^{\\frac{6}{13}}}, 0\\right]\\right]\\right], \\left[\\left[\\left[0, 0, 0, -\\frac{{\\left(169 \\, r^{3} u \\sin\\left({\\theta}\\right)^{2} - 169 \\, r^{2} u^{2} \\sin\\left({\\theta}\\right)^{2} - 4 \\, {\\left(35 \\, r^{2} \\sin\\left({\\theta}\\right)^{2} - 109 \\, r u \\sin\\left({\\theta}\\right)^{2} + 74 \\, u^{2} \\sin\\left({\\theta}\\right)^{2}\\right)} v^{2} + 13 \\, {\\left(11 \\, r^{3} \\sin\\left({\\theta}\\right)^{2} - 47 \\, r^{2} u \\sin\\left({\\theta}\\right)^{2} + 36 \\, r u^{2} \\sin\\left({\\theta}\\right)^{2}\\right)} v\\right)} {\\left(r - v\\right)}^{\\frac{2}{13}}}{338 \\, r^{\\frac{54}{13}}}\\right], \\left[0, 0, 0, 0\\right], \\left[0, 0, 0, 0\\right], \\left[\\frac{{\\left(169 \\, r^{3} u \\sin\\left({\\theta}\\right)^{2} - 169 \\, r^{2} u^{2} \\sin\\left({\\theta}\\right)^{2} - 4 \\, {\\left(35 \\, r^{2} \\sin\\left({\\theta}\\right)^{2} - 109 \\, r u \\sin\\left({\\theta}\\right)^{2} + 74 \\, u^{2} \\sin\\left({\\theta}\\right)^{2}\\right)} v^{2} + 13 \\, {\\left(11 \\, r^{3} \\sin\\left({\\theta}\\right)^{2} - 47 \\, r^{2} u \\sin\\left({\\theta}\\right)^{2} + 36 \\, r u^{2} \\sin\\left({\\theta}\\right)^{2}\\right)} v\\right)} {\\left(r - v\\right)}^{\\frac{2}{13}}}{338 \\, r^{\\frac{54}{13}}}, 0, 0, 0\\right]\\right], \\left[\\left[0, 0, 0, 0\\right], \\left[0, 0, 0, \\frac{{\\left(169 \\, r^{2} u \\sin\\left({\\theta}\\right)^{2} - 4 \\, {\\left(35 \\, r \\sin\\left({\\theta}\\right)^{2} - 74 \\, u \\sin\\left({\\theta}\\right)^{2}\\right)} v^{2} + 13 \\, {\\left(11 \\, r^{2} \\sin\\left({\\theta}\\right)^{2} - 36 \\, r u \\sin\\left({\\theta}\\right)^{2}\\right)} v\\right)} {\\left(r - v\\right)}^{\\frac{6}{13}}}{338 \\, {\\left(r^{3} - r^{2} u + {\\left(r - u\\right)} v^{2} - 2 \\, {\\left(r^{2} - r u\\right)} v\\right)} r^{\\frac{6}{13}}}\\right], \\left[0, 0, 0, 0\\right], \\left[0, -\\frac{{\\left(169 \\, r^{2} u \\sin\\left({\\theta}\\right)^{2} - 4 \\, {\\left(35 \\, r \\sin\\left({\\theta}\\right)^{2} - 74 \\, u \\sin\\left({\\theta}\\right)^{2}\\right)} v^{2} + 13 \\, {\\left(11 \\, r^{2} \\sin\\left({\\theta}\\right)^{2} - 36 \\, r u \\sin\\left({\\theta}\\right)^{2}\\right)} v\\right)} {\\left(r - v\\right)}^{\\frac{6}{13}}}{338 \\, {\\left(r^{3} - r^{2} u + {\\left(r - u\\right)} v^{2} - 2 \\, {\\left(r^{2} - r u\\right)} v\\right)} r^{\\frac{6}{13}}}, 0, 0\\right]\\right], \\left[\\left[0, 0, 0, 0\\right], \\left[0, 0, 0, 0\\right], \\left[0, 0, 0, -\\frac{169 \\, r^{2} u \\sin\\left({\\theta}\\right)^{2} - 4 \\, {\\left(35 \\, r \\sin\\left({\\theta}\\right)^{2} - 74 \\, u \\sin\\left({\\theta}\\right)^{2}\\right)} v^{2} + 13 \\, {\\left(11 \\, r^{2} \\sin\\left({\\theta}\\right)^{2} - 36 \\, r u \\sin\\left({\\theta}\\right)^{2}\\right)} v}{169 \\, {\\left(r - v\\right)}^{\\frac{7}{13}} r^{\\frac{6}{13}}}\\right], \\left[0, 0, \\frac{169 \\, r^{2} u \\sin\\left({\\theta}\\right)^{2} - 4 \\, {\\left(35 \\, r \\sin\\left({\\theta}\\right)^{2} - 74 \\, u \\sin\\left({\\theta}\\right)^{2}\\right)} v^{2} + 13 \\, {\\left(11 \\, r^{2} \\sin\\left({\\theta}\\right)^{2} - 36 \\, r u \\sin\\left({\\theta}\\right)^{2}\\right)} v}{169 \\, {\\left(r - v\\right)}^{\\frac{7}{13}} r^{\\frac{6}{13}}}, 0\\right]\\right], \\left[\\left[0, 0, 0, 0\\right], \\left[0, 0, 0, 0\\right], \\left[0, 0, 0, 0\\right], \\left[0, 0, 0, 0\\right]\\right]\\right]\\right]</script></html>"
      ],
      "text/latex": [
       "$$\\newcommand{\\Bold}[1]{\\mathbf{#1}}\\left[\\left[\\left[\\left[0, 0, 0, 0\\right], \\left[0, 0, 0, 0\\right], \\left[0, 0, 0, 0\\right], \\left[0, 0, 0, 0\\right]\\right], \\left[\\left[0, -\\frac{{\\left(169 \\, r^{2} u - 4 \\, {\\left(35 \\, r - 74 \\, u\\right)} v^{2} + 13 \\, {\\left(11 \\, r^{2} - 36 \\, r u\\right)} v\\right)} {\\left(r - v\\right)}^{\\frac{2}{13}}}{169 \\, {\\left(r^{5} - r^{4} v\\right)} r^{\\frac{2}{13}}}, 0, 0\\right], \\left[\\frac{{\\left(169 \\, r^{2} u - 4 \\, {\\left(35 \\, r - 74 \\, u\\right)} v^{2} + 13 \\, {\\left(11 \\, r^{2} - 36 \\, r u\\right)} v\\right)} {\\left(r - v\\right)}^{\\frac{2}{13}}}{169 \\, {\\left(r^{5} - r^{4} v\\right)} r^{\\frac{2}{13}}}, 0, 0, 0\\right], \\left[0, 0, 0, 0\\right], \\left[0, 0, 0, 0\\right]\\right], \\left[\\left[0, 0, \\frac{{\\left(169 \\, r^{3} u - 169 \\, r^{2} u^{2} - 4 \\, {\\left(35 \\, r^{2} - 109 \\, r u + 74 \\, u^{2}\\right)} v^{2} + 13 \\, {\\left(11 \\, r^{3} - 47 \\, r^{2} u + 36 \\, r u^{2}\\right)} v\\right)} {\\left(r - v\\right)}^{\\frac{2}{13}}}{338 \\, r^{\\frac{54}{13}}}, 0\\right], \\left[0, 0, 0, 0\\right], \\left[-\\frac{{\\left(169 \\, r^{3} u - 169 \\, r^{2} u^{2} - 4 \\, {\\left(35 \\, r^{2} - 109 \\, r u + 74 \\, u^{2}\\right)} v^{2} + 13 \\, {\\left(11 \\, r^{3} - 47 \\, r^{2} u + 36 \\, r u^{2}\\right)} v\\right)} {\\left(r - v\\right)}^{\\frac{2}{13}}}{338 \\, r^{\\frac{54}{13}}}, 0, 0, 0\\right], \\left[0, 0, 0, 0\\right]\\right], \\left[\\left[0, 0, 0, \\frac{{\\left(169 \\, r^{3} u \\sin\\left({\\theta}\\right)^{2} - 169 \\, r^{2} u^{2} \\sin\\left({\\theta}\\right)^{2} - 4 \\, {\\left(35 \\, r^{2} \\sin\\left({\\theta}\\right)^{2} - 109 \\, r u \\sin\\left({\\theta}\\right)^{2} + 74 \\, u^{2} \\sin\\left({\\theta}\\right)^{2}\\right)} v^{2} + 13 \\, {\\left(11 \\, r^{3} \\sin\\left({\\theta}\\right)^{2} - 47 \\, r^{2} u \\sin\\left({\\theta}\\right)^{2} + 36 \\, r u^{2} \\sin\\left({\\theta}\\right)^{2}\\right)} v\\right)} {\\left(r - v\\right)}^{\\frac{2}{13}}}{338 \\, r^{\\frac{54}{13}}}\\right], \\left[0, 0, 0, 0\\right], \\left[0, 0, 0, 0\\right], \\left[-\\frac{{\\left(169 \\, r^{3} u \\sin\\left({\\theta}\\right)^{2} - 169 \\, r^{2} u^{2} \\sin\\left({\\theta}\\right)^{2} - 4 \\, {\\left(35 \\, r^{2} \\sin\\left({\\theta}\\right)^{2} - 109 \\, r u \\sin\\left({\\theta}\\right)^{2} + 74 \\, u^{2} \\sin\\left({\\theta}\\right)^{2}\\right)} v^{2} + 13 \\, {\\left(11 \\, r^{3} \\sin\\left({\\theta}\\right)^{2} - 47 \\, r^{2} u \\sin\\left({\\theta}\\right)^{2} + 36 \\, r u^{2} \\sin\\left({\\theta}\\right)^{2}\\right)} v\\right)} {\\left(r - v\\right)}^{\\frac{2}{13}}}{338 \\, r^{\\frac{54}{13}}}, 0, 0, 0\\right]\\right]\\right], \\left[\\left[\\left[0, \\frac{169 \\, r^{2} u - 4 \\, {\\left(35 \\, r - 74 \\, u\\right)} v^{2} + 13 \\, {\\left(11 \\, r^{2} - 36 \\, r u\\right)} v}{169 \\, {\\left(r - v\\right)}^{\\frac{11}{13}} r^{\\frac{54}{13}}}, 0, 0\\right], \\left[-\\frac{169 \\, r^{2} u - 4 \\, {\\left(35 \\, r - 74 \\, u\\right)} v^{2} + 13 \\, {\\left(11 \\, r^{2} - 36 \\, r u\\right)} v}{169 \\, {\\left(r - v\\right)}^{\\frac{11}{13}} r^{\\frac{54}{13}}}, 0, 0, 0\\right], \\left[0, 0, 0, 0\\right], \\left[0, 0, 0, 0\\right]\\right], \\left[\\left[0, 0, 0, 0\\right], \\left[0, 0, 0, 0\\right], \\left[0, 0, 0, 0\\right], \\left[0, 0, 0, 0\\right]\\right], \\left[\\left[0, 0, 0, 0\\right], \\left[0, 0, -\\frac{169 \\, r^{2} u - 4 \\, {\\left(35 \\, r - 74 \\, u\\right)} v^{2} + 13 \\, {\\left(11 \\, r^{2} - 36 \\, r u\\right)} v}{338 \\, {\\left(r^{2} - r u - {\\left(r - u\\right)} v\\right)} {\\left(r - v\\right)}^{\\frac{7}{13}} r^{\\frac{6}{13}}}, 0\\right], \\left[0, \\frac{169 \\, r^{2} u - 4 \\, {\\left(35 \\, r - 74 \\, u\\right)} v^{2} + 13 \\, {\\left(11 \\, r^{2} - 36 \\, r u\\right)} v}{338 \\, {\\left(r^{2} - r u - {\\left(r - u\\right)} v\\right)} {\\left(r - v\\right)}^{\\frac{7}{13}} r^{\\frac{6}{13}}}, 0, 0\\right], \\left[0, 0, 0, 0\\right]\\right], \\left[\\left[0, 0, 0, 0\\right], \\left[0, 0, 0, -\\frac{169 \\, r^{2} u \\sin\\left({\\theta}\\right)^{2} - 4 \\, {\\left(35 \\, r \\sin\\left({\\theta}\\right)^{2} - 74 \\, u \\sin\\left({\\theta}\\right)^{2}\\right)} v^{2} + 13 \\, {\\left(11 \\, r^{2} \\sin\\left({\\theta}\\right)^{2} - 36 \\, r u \\sin\\left({\\theta}\\right)^{2}\\right)} v}{338 \\, {\\left(r^{2} - r u - {\\left(r - u\\right)} v\\right)} {\\left(r - v\\right)}^{\\frac{7}{13}} r^{\\frac{6}{13}}}\\right], \\left[0, 0, 0, 0\\right], \\left[0, \\frac{169 \\, r^{2} u \\sin\\left({\\theta}\\right)^{2} - 4 \\, {\\left(35 \\, r \\sin\\left({\\theta}\\right)^{2} - 74 \\, u \\sin\\left({\\theta}\\right)^{2}\\right)} v^{2} + 13 \\, {\\left(11 \\, r^{2} \\sin\\left({\\theta}\\right)^{2} - 36 \\, r u \\sin\\left({\\theta}\\right)^{2}\\right)} v}{338 \\, {\\left(r^{2} - r u - {\\left(r - u\\right)} v\\right)} {\\left(r - v\\right)}^{\\frac{7}{13}} r^{\\frac{6}{13}}}, 0, 0\\right]\\right]\\right], \\left[\\left[\\left[0, 0, -\\frac{{\\left(169 \\, r^{3} u - 169 \\, r^{2} u^{2} - 4 \\, {\\left(35 \\, r^{2} - 109 \\, r u + 74 \\, u^{2}\\right)} v^{2} + 13 \\, {\\left(11 \\, r^{3} - 47 \\, r^{2} u + 36 \\, r u^{2}\\right)} v\\right)} {\\left(r - v\\right)}^{\\frac{2}{13}}}{338 \\, r^{\\frac{54}{13}}}, 0\\right], \\left[0, 0, 0, 0\\right], \\left[\\frac{{\\left(169 \\, r^{3} u - 169 \\, r^{2} u^{2} - 4 \\, {\\left(35 \\, r^{2} - 109 \\, r u + 74 \\, u^{2}\\right)} v^{2} + 13 \\, {\\left(11 \\, r^{3} - 47 \\, r^{2} u + 36 \\, r u^{2}\\right)} v\\right)} {\\left(r - v\\right)}^{\\frac{2}{13}}}{338 \\, r^{\\frac{54}{13}}}, 0, 0, 0\\right], \\left[0, 0, 0, 0\\right]\\right], \\left[\\left[0, 0, 0, 0\\right], \\left[0, 0, \\frac{{\\left(169 \\, r^{2} u - 4 \\, {\\left(35 \\, r - 74 \\, u\\right)} v^{2} + 13 \\, {\\left(11 \\, r^{2} - 36 \\, r u\\right)} v\\right)} {\\left(r - v\\right)}^{\\frac{6}{13}}}{338 \\, {\\left(r^{3} - r^{2} u + {\\left(r - u\\right)} v^{2} - 2 \\, {\\left(r^{2} - r u\\right)} v\\right)} r^{\\frac{6}{13}}}, 0\\right], \\left[0, -\\frac{{\\left(169 \\, r^{2} u - 4 \\, {\\left(35 \\, r - 74 \\, u\\right)} v^{2} + 13 \\, {\\left(11 \\, r^{2} - 36 \\, r u\\right)} v\\right)} {\\left(r - v\\right)}^{\\frac{6}{13}}}{338 \\, {\\left(r^{3} - r^{2} u + {\\left(r - u\\right)} v^{2} - 2 \\, {\\left(r^{2} - r u\\right)} v\\right)} r^{\\frac{6}{13}}}, 0, 0\\right], \\left[0, 0, 0, 0\\right]\\right], \\left[\\left[0, 0, 0, 0\\right], \\left[0, 0, 0, 0\\right], \\left[0, 0, 0, 0\\right], \\left[0, 0, 0, 0\\right]\\right], \\left[\\left[0, 0, 0, 0\\right], \\left[0, 0, 0, 0\\right], \\left[0, 0, 0, \\frac{169 \\, r^{2} u \\sin\\left({\\theta}\\right)^{2} - 4 \\, {\\left(35 \\, r \\sin\\left({\\theta}\\right)^{2} - 74 \\, u \\sin\\left({\\theta}\\right)^{2}\\right)} v^{2} + 13 \\, {\\left(11 \\, r^{2} \\sin\\left({\\theta}\\right)^{2} - 36 \\, r u \\sin\\left({\\theta}\\right)^{2}\\right)} v}{169 \\, {\\left(r - v\\right)}^{\\frac{7}{13}} r^{\\frac{6}{13}}}\\right], \\left[0, 0, -\\frac{169 \\, r^{2} u \\sin\\left({\\theta}\\right)^{2} - 4 \\, {\\left(35 \\, r \\sin\\left({\\theta}\\right)^{2} - 74 \\, u \\sin\\left({\\theta}\\right)^{2}\\right)} v^{2} + 13 \\, {\\left(11 \\, r^{2} \\sin\\left({\\theta}\\right)^{2} - 36 \\, r u \\sin\\left({\\theta}\\right)^{2}\\right)} v}{169 \\, {\\left(r - v\\right)}^{\\frac{7}{13}} r^{\\frac{6}{13}}}, 0\\right]\\right]\\right], \\left[\\left[\\left[0, 0, 0, -\\frac{{\\left(169 \\, r^{3} u \\sin\\left({\\theta}\\right)^{2} - 169 \\, r^{2} u^{2} \\sin\\left({\\theta}\\right)^{2} - 4 \\, {\\left(35 \\, r^{2} \\sin\\left({\\theta}\\right)^{2} - 109 \\, r u \\sin\\left({\\theta}\\right)^{2} + 74 \\, u^{2} \\sin\\left({\\theta}\\right)^{2}\\right)} v^{2} + 13 \\, {\\left(11 \\, r^{3} \\sin\\left({\\theta}\\right)^{2} - 47 \\, r^{2} u \\sin\\left({\\theta}\\right)^{2} + 36 \\, r u^{2} \\sin\\left({\\theta}\\right)^{2}\\right)} v\\right)} {\\left(r - v\\right)}^{\\frac{2}{13}}}{338 \\, r^{\\frac{54}{13}}}\\right], \\left[0, 0, 0, 0\\right], \\left[0, 0, 0, 0\\right], \\left[\\frac{{\\left(169 \\, r^{3} u \\sin\\left({\\theta}\\right)^{2} - 169 \\, r^{2} u^{2} \\sin\\left({\\theta}\\right)^{2} - 4 \\, {\\left(35 \\, r^{2} \\sin\\left({\\theta}\\right)^{2} - 109 \\, r u \\sin\\left({\\theta}\\right)^{2} + 74 \\, u^{2} \\sin\\left({\\theta}\\right)^{2}\\right)} v^{2} + 13 \\, {\\left(11 \\, r^{3} \\sin\\left({\\theta}\\right)^{2} - 47 \\, r^{2} u \\sin\\left({\\theta}\\right)^{2} + 36 \\, r u^{2} \\sin\\left({\\theta}\\right)^{2}\\right)} v\\right)} {\\left(r - v\\right)}^{\\frac{2}{13}}}{338 \\, r^{\\frac{54}{13}}}, 0, 0, 0\\right]\\right], \\left[\\left[0, 0, 0, 0\\right], \\left[0, 0, 0, \\frac{{\\left(169 \\, r^{2} u \\sin\\left({\\theta}\\right)^{2} - 4 \\, {\\left(35 \\, r \\sin\\left({\\theta}\\right)^{2} - 74 \\, u \\sin\\left({\\theta}\\right)^{2}\\right)} v^{2} + 13 \\, {\\left(11 \\, r^{2} \\sin\\left({\\theta}\\right)^{2} - 36 \\, r u \\sin\\left({\\theta}\\right)^{2}\\right)} v\\right)} {\\left(r - v\\right)}^{\\frac{6}{13}}}{338 \\, {\\left(r^{3} - r^{2} u + {\\left(r - u\\right)} v^{2} - 2 \\, {\\left(r^{2} - r u\\right)} v\\right)} r^{\\frac{6}{13}}}\\right], \\left[0, 0, 0, 0\\right], \\left[0, -\\frac{{\\left(169 \\, r^{2} u \\sin\\left({\\theta}\\right)^{2} - 4 \\, {\\left(35 \\, r \\sin\\left({\\theta}\\right)^{2} - 74 \\, u \\sin\\left({\\theta}\\right)^{2}\\right)} v^{2} + 13 \\, {\\left(11 \\, r^{2} \\sin\\left({\\theta}\\right)^{2} - 36 \\, r u \\sin\\left({\\theta}\\right)^{2}\\right)} v\\right)} {\\left(r - v\\right)}^{\\frac{6}{13}}}{338 \\, {\\left(r^{3} - r^{2} u + {\\left(r - u\\right)} v^{2} - 2 \\, {\\left(r^{2} - r u\\right)} v\\right)} r^{\\frac{6}{13}}}, 0, 0\\right]\\right], \\left[\\left[0, 0, 0, 0\\right], \\left[0, 0, 0, 0\\right], \\left[0, 0, 0, -\\frac{169 \\, r^{2} u \\sin\\left({\\theta}\\right)^{2} - 4 \\, {\\left(35 \\, r \\sin\\left({\\theta}\\right)^{2} - 74 \\, u \\sin\\left({\\theta}\\right)^{2}\\right)} v^{2} + 13 \\, {\\left(11 \\, r^{2} \\sin\\left({\\theta}\\right)^{2} - 36 \\, r u \\sin\\left({\\theta}\\right)^{2}\\right)} v}{169 \\, {\\left(r - v\\right)}^{\\frac{7}{13}} r^{\\frac{6}{13}}}\\right], \\left[0, 0, \\frac{169 \\, r^{2} u \\sin\\left({\\theta}\\right)^{2} - 4 \\, {\\left(35 \\, r \\sin\\left({\\theta}\\right)^{2} - 74 \\, u \\sin\\left({\\theta}\\right)^{2}\\right)} v^{2} + 13 \\, {\\left(11 \\, r^{2} \\sin\\left({\\theta}\\right)^{2} - 36 \\, r u \\sin\\left({\\theta}\\right)^{2}\\right)} v}{169 \\, {\\left(r - v\\right)}^{\\frac{7}{13}} r^{\\frac{6}{13}}}, 0\\right]\\right], \\left[\\left[0, 0, 0, 0\\right], \\left[0, 0, 0, 0\\right], \\left[0, 0, 0, 0\\right], \\left[0, 0, 0, 0\\right]\\right]\\right]\\right]$$"
      ],
      "text/plain": [
       "[[[[0, 0, 0, 0], [0, 0, 0, 0], [0, 0, 0, 0], [0, 0, 0, 0]],\n",
       "  [[0,\n",
       "    -1/169*(169*r^2*u - 4*(35*r - 74*u)*v^2 + 13*(11*r^2 - 36*r*u)*v)*(r - v)^(2/13)/((r^5 - r^4*v)*r^(2/13)),\n",
       "    0,\n",
       "    0],\n",
       "   [1/169*(169*r^2*u - 4*(35*r - 74*u)*v^2 + 13*(11*r^2 - 36*r*u)*v)*(r - v)^(2/13)/((r^5 - r^4*v)*r^(2/13)),\n",
       "    0,\n",
       "    0,\n",
       "    0],\n",
       "   [0, 0, 0, 0],\n",
       "   [0, 0, 0, 0]],\n",
       "  [[0,\n",
       "    0,\n",
       "    1/338*(169*r^3*u - 169*r^2*u^2 - 4*(35*r^2 - 109*r*u + 74*u^2)*v^2 + 13*(11*r^3 - 47*r^2*u + 36*r*u^2)*v)*(r - v)^(2/13)/r^(54/13),\n",
       "    0],\n",
       "   [0, 0, 0, 0],\n",
       "   [-1/338*(169*r^3*u - 169*r^2*u^2 - 4*(35*r^2 - 109*r*u + 74*u^2)*v^2 + 13*(11*r^3 - 47*r^2*u + 36*r*u^2)*v)*(r - v)^(2/13)/r^(54/13),\n",
       "    0,\n",
       "    0,\n",
       "    0],\n",
       "   [0, 0, 0, 0]],\n",
       "  [[0,\n",
       "    0,\n",
       "    0,\n",
       "    1/338*(169*r^3*u*sin(th)^2 - 169*r^2*u^2*sin(th)^2 - 4*(35*r^2*sin(th)^2 - 109*r*u*sin(th)^2 + 74*u^2*sin(th)^2)*v^2 + 13*(11*r^3*sin(th)^2 - 47*r^2*u*sin(th)^2 + 36*r*u^2*sin(th)^2)*v)*(r - v)^(2/13)/r^(54/13)],\n",
       "   [0, 0, 0, 0],\n",
       "   [0, 0, 0, 0],\n",
       "   [-1/338*(169*r^3*u*sin(th)^2 - 169*r^2*u^2*sin(th)^2 - 4*(35*r^2*sin(th)^2 - 109*r*u*sin(th)^2 + 74*u^2*sin(th)^2)*v^2 + 13*(11*r^3*sin(th)^2 - 47*r^2*u*sin(th)^2 + 36*r*u^2*sin(th)^2)*v)*(r - v)^(2/13)/r^(54/13),\n",
       "    0,\n",
       "    0,\n",
       "    0]]],\n",
       " [[[0,\n",
       "    1/169*(169*r^2*u - 4*(35*r - 74*u)*v^2 + 13*(11*r^2 - 36*r*u)*v)/((r - v)^(11/13)*r^(54/13)),\n",
       "    0,\n",
       "    0],\n",
       "   [-1/169*(169*r^2*u - 4*(35*r - 74*u)*v^2 + 13*(11*r^2 - 36*r*u)*v)/((r - v)^(11/13)*r^(54/13)),\n",
       "    0,\n",
       "    0,\n",
       "    0],\n",
       "   [0, 0, 0, 0],\n",
       "   [0, 0, 0, 0]],\n",
       "  [[0, 0, 0, 0], [0, 0, 0, 0], [0, 0, 0, 0], [0, 0, 0, 0]],\n",
       "  [[0, 0, 0, 0],\n",
       "   [0,\n",
       "    0,\n",
       "    -1/338*(169*r^2*u - 4*(35*r - 74*u)*v^2 + 13*(11*r^2 - 36*r*u)*v)/((r^2 - r*u - (r - u)*v)*(r - v)^(7/13)*r^(6/13)),\n",
       "    0],\n",
       "   [0,\n",
       "    1/338*(169*r^2*u - 4*(35*r - 74*u)*v^2 + 13*(11*r^2 - 36*r*u)*v)/((r^2 - r*u - (r - u)*v)*(r - v)^(7/13)*r^(6/13)),\n",
       "    0,\n",
       "    0],\n",
       "   [0, 0, 0, 0]],\n",
       "  [[0, 0, 0, 0],\n",
       "   [0,\n",
       "    0,\n",
       "    0,\n",
       "    -1/338*(169*r^2*u*sin(th)^2 - 4*(35*r*sin(th)^2 - 74*u*sin(th)^2)*v^2 + 13*(11*r^2*sin(th)^2 - 36*r*u*sin(th)^2)*v)/((r^2 - r*u - (r - u)*v)*(r - v)^(7/13)*r^(6/13))],\n",
       "   [0, 0, 0, 0],\n",
       "   [0,\n",
       "    1/338*(169*r^2*u*sin(th)^2 - 4*(35*r*sin(th)^2 - 74*u*sin(th)^2)*v^2 + 13*(11*r^2*sin(th)^2 - 36*r*u*sin(th)^2)*v)/((r^2 - r*u - (r - u)*v)*(r - v)^(7/13)*r^(6/13)),\n",
       "    0,\n",
       "    0]]],\n",
       " [[[0,\n",
       "    0,\n",
       "    -1/338*(169*r^3*u - 169*r^2*u^2 - 4*(35*r^2 - 109*r*u + 74*u^2)*v^2 + 13*(11*r^3 - 47*r^2*u + 36*r*u^2)*v)*(r - v)^(2/13)/r^(54/13),\n",
       "    0],\n",
       "   [0, 0, 0, 0],\n",
       "   [1/338*(169*r^3*u - 169*r^2*u^2 - 4*(35*r^2 - 109*r*u + 74*u^2)*v^2 + 13*(11*r^3 - 47*r^2*u + 36*r*u^2)*v)*(r - v)^(2/13)/r^(54/13),\n",
       "    0,\n",
       "    0,\n",
       "    0],\n",
       "   [0, 0, 0, 0]],\n",
       "  [[0, 0, 0, 0],\n",
       "   [0,\n",
       "    0,\n",
       "    1/338*(169*r^2*u - 4*(35*r - 74*u)*v^2 + 13*(11*r^2 - 36*r*u)*v)*(r - v)^(6/13)/((r^3 - r^2*u + (r - u)*v^2 - 2*(r^2 - r*u)*v)*r^(6/13)),\n",
       "    0],\n",
       "   [0,\n",
       "    -1/338*(169*r^2*u - 4*(35*r - 74*u)*v^2 + 13*(11*r^2 - 36*r*u)*v)*(r - v)^(6/13)/((r^3 - r^2*u + (r - u)*v^2 - 2*(r^2 - r*u)*v)*r^(6/13)),\n",
       "    0,\n",
       "    0],\n",
       "   [0, 0, 0, 0]],\n",
       "  [[0, 0, 0, 0], [0, 0, 0, 0], [0, 0, 0, 0], [0, 0, 0, 0]],\n",
       "  [[0, 0, 0, 0],\n",
       "   [0, 0, 0, 0],\n",
       "   [0,\n",
       "    0,\n",
       "    0,\n",
       "    1/169*(169*r^2*u*sin(th)^2 - 4*(35*r*sin(th)^2 - 74*u*sin(th)^2)*v^2 + 13*(11*r^2*sin(th)^2 - 36*r*u*sin(th)^2)*v)/((r - v)^(7/13)*r^(6/13))],\n",
       "   [0,\n",
       "    0,\n",
       "    -1/169*(169*r^2*u*sin(th)^2 - 4*(35*r*sin(th)^2 - 74*u*sin(th)^2)*v^2 + 13*(11*r^2*sin(th)^2 - 36*r*u*sin(th)^2)*v)/((r - v)^(7/13)*r^(6/13)),\n",
       "    0]]],\n",
       " [[[0,\n",
       "    0,\n",
       "    0,\n",
       "    -1/338*(169*r^3*u*sin(th)^2 - 169*r^2*u^2*sin(th)^2 - 4*(35*r^2*sin(th)^2 - 109*r*u*sin(th)^2 + 74*u^2*sin(th)^2)*v^2 + 13*(11*r^3*sin(th)^2 - 47*r^2*u*sin(th)^2 + 36*r*u^2*sin(th)^2)*v)*(r - v)^(2/13)/r^(54/13)],\n",
       "   [0, 0, 0, 0],\n",
       "   [0, 0, 0, 0],\n",
       "   [1/338*(169*r^3*u*sin(th)^2 - 169*r^2*u^2*sin(th)^2 - 4*(35*r^2*sin(th)^2 - 109*r*u*sin(th)^2 + 74*u^2*sin(th)^2)*v^2 + 13*(11*r^3*sin(th)^2 - 47*r^2*u*sin(th)^2 + 36*r*u^2*sin(th)^2)*v)*(r - v)^(2/13)/r^(54/13),\n",
       "    0,\n",
       "    0,\n",
       "    0]],\n",
       "  [[0, 0, 0, 0],\n",
       "   [0,\n",
       "    0,\n",
       "    0,\n",
       "    1/338*(169*r^2*u*sin(th)^2 - 4*(35*r*sin(th)^2 - 74*u*sin(th)^2)*v^2 + 13*(11*r^2*sin(th)^2 - 36*r*u*sin(th)^2)*v)*(r - v)^(6/13)/((r^3 - r^2*u + (r - u)*v^2 - 2*(r^2 - r*u)*v)*r^(6/13))],\n",
       "   [0, 0, 0, 0],\n",
       "   [0,\n",
       "    -1/338*(169*r^2*u*sin(th)^2 - 4*(35*r*sin(th)^2 - 74*u*sin(th)^2)*v^2 + 13*(11*r^2*sin(th)^2 - 36*r*u*sin(th)^2)*v)*(r - v)^(6/13)/((r^3 - r^2*u + (r - u)*v^2 - 2*(r^2 - r*u)*v)*r^(6/13)),\n",
       "    0,\n",
       "    0]],\n",
       "  [[0, 0, 0, 0],\n",
       "   [0, 0, 0, 0],\n",
       "   [0,\n",
       "    0,\n",
       "    0,\n",
       "    -1/169*(169*r^2*u*sin(th)^2 - 4*(35*r*sin(th)^2 - 74*u*sin(th)^2)*v^2 + 13*(11*r^2*sin(th)^2 - 36*r*u*sin(th)^2)*v)/((r - v)^(7/13)*r^(6/13))],\n",
       "   [0,\n",
       "    0,\n",
       "    1/169*(169*r^2*u*sin(th)^2 - 4*(35*r*sin(th)^2 - 74*u*sin(th)^2)*v^2 + 13*(11*r^2*sin(th)^2 - 36*r*u*sin(th)^2)*v)/((r - v)^(7/13)*r^(6/13)),\n",
       "    0]],\n",
       "  [[0, 0, 0, 0], [0, 0, 0, 0], [0, 0, 0, 0], [0, 0, 0, 0]]]]"
      ]
     },
     "execution_count": 28,
     "metadata": {},
     "output_type": "execute_result"
    }
   ],
   "source": [
    "C = (g.weyl()).down(g)\n",
    "C[:]"
   ]
  },
  {
   "cell_type": "code",
   "execution_count": 29,
   "metadata": {},
   "outputs": [],
   "source": [
    "\"\"\"Définition d'une tétrade nulle\"\"\"\n",
    "\n",
    "K = M.one_form({X.frame(): [sqrt(-g[0,0]/2), sqrt(g[1,1]/2), 0, 0]})\n",
    "L = M.one_form({X.frame(): [sqrt(-g[0,0]/2), -sqrt(g[1,1]/2), 0, 0]})\n",
    "Mb = M.one_form({X.frame(): [0, 0, sqrt(g[2,2]/2), i*sqrt(g[3,3]/2)]})\n",
    "MB = M.one_form({X.frame(): [0, 0, sqrt(g[2,2]/2), -i*sqrt(g[3,3]/2)]})\n",
    "k = K.up(g)\n",
    "l = L.up(g)\n",
    "m = Mb.up(g)\n",
    "mb = MB.up(g)"
   ]
  },
  {
   "cell_type": "code",
   "execution_count": 30,
   "metadata": {},
   "outputs": [
    {
     "data": {
      "text/html": [
       "<html><script type=\"math/tex; mode=display\">\\newcommand{\\Bold}[1]{\\mathbf{#1}}\\begin{array}{llcl} 0:& M & \\longrightarrow & \\mathbb{R} \\\\ & \\left(t, r, {\\theta}, {\\varphi}\\right) & \\longmapsto & 0 \\end{array}</script></html>"
      ],
      "text/latex": [
       "$$\\newcommand{\\Bold}[1]{\\mathbf{#1}}\\begin{array}{llcl} 0:& M & \\longrightarrow & \\mathbb{R} \\\\ & \\left(t, r, {\\theta}, {\\varphi}\\right) & \\longmapsto & 0 \\end{array}$$"
      ],
      "text/plain": [
       "zero: M --> R\n",
       "   (t, r, th, ph) |--> 0"
      ]
     },
     "execution_count": 30,
     "metadata": {},
     "output_type": "execute_result"
    }
   ],
   "source": [
    "\"\"\"Première composante indépendante du tenseur de Weyl\"\"\"\n",
    "\n",
    "P00 = k*m*k*m\n",
    "P0 = C['_{abcd}']*P00['^{abcd}']\n",
    "P0.display()"
   ]
  },
  {
   "cell_type": "code",
   "execution_count": 31,
   "metadata": {},
   "outputs": [
    {
     "data": {
      "text/html": [
       "<html><script type=\"math/tex; mode=display\">\\newcommand{\\Bold}[1]{\\mathbf{#1}}\\begin{array}{llcl} 0:& M & \\longrightarrow & \\mathbb{R} \\\\ & \\left(t, r, {\\theta}, {\\varphi}\\right) & \\longmapsto & 0 \\end{array}</script></html>"
      ],
      "text/latex": [
       "$$\\newcommand{\\Bold}[1]{\\mathbf{#1}}\\begin{array}{llcl} 0:& M & \\longrightarrow & \\mathbb{R} \\\\ & \\left(t, r, {\\theta}, {\\varphi}\\right) & \\longmapsto & 0 \\end{array}$$"
      ],
      "text/plain": [
       "zero: M --> R\n",
       "   (t, r, th, ph) |--> 0"
      ]
     },
     "execution_count": 31,
     "metadata": {},
     "output_type": "execute_result"
    }
   ],
   "source": [
    "\"\"\"Deuxième composante indépendante du tenseur de Weyl\"\"\"\n",
    "\n",
    "P11 = k*l*k*m\n",
    "P1 = C['_{abcd}']*P11['^{abcd}']\n",
    "P1.display()"
   ]
  },
  {
   "cell_type": "code",
   "execution_count": 32,
   "metadata": {},
   "outputs": [
    {
     "data": {
      "text/html": [
       "<html><script type=\"math/tex; mode=display\">\\newcommand{\\Bold}[1]{\\mathbf{#1}}\\frac{\\left(-1\\right)^{\\frac{5}{13}} {\\left(169 \\, r^{2} u + 143 \\, r^{2} v - 468 \\, r u v - 140 \\, r v^{2} + 296 \\, u v^{2}\\right)} {\\left(\\left(-1\\right)^{\\frac{9}{13}} r^{2} - \\left(-1\\right)^{\\frac{9}{13}} r u - \\left(-1\\right)^{\\frac{9}{13}} r v + \\left(-1\\right)^{\\frac{9}{13}} u v - {\\left| -r + u \\right|} {\\left| -r + v \\right|}\\right)}}{676 \\, r^{\\frac{46}{13}} {\\left(-r + v\\right)}^{\\frac{19}{13}} {\\left| -r + u \\right|} {\\left| -r + v \\right|}}</script></html>"
      ],
      "text/latex": [
       "$$\\newcommand{\\Bold}[1]{\\mathbf{#1}}\\frac{\\left(-1\\right)^{\\frac{5}{13}} {\\left(169 \\, r^{2} u + 143 \\, r^{2} v - 468 \\, r u v - 140 \\, r v^{2} + 296 \\, u v^{2}\\right)} {\\left(\\left(-1\\right)^{\\frac{9}{13}} r^{2} - \\left(-1\\right)^{\\frac{9}{13}} r u - \\left(-1\\right)^{\\frac{9}{13}} r v + \\left(-1\\right)^{\\frac{9}{13}} u v - {\\left| -r + u \\right|} {\\left| -r + v \\right|}\\right)}}{676 \\, r^{\\frac{46}{13}} {\\left(-r + v\\right)}^{\\frac{19}{13}} {\\left| -r + u \\right|} {\\left| -r + v \\right|}}$$"
      ],
      "text/plain": [
       "1/676*(-1)^(5/13)*(169*r^2*u + 143*r^2*v - 468*r*u*v - 140*r*v^2 + 296*u*v^2)*((-1)^(9/13)*r^2 - (-1)^(9/13)*r*u - (-1)^(9/13)*r*v + (-1)^(9/13)*u*v - abs(-r + u)*abs(-r + v))/(r^(46/13)*(-r + v)^(19/13)*abs(-r + u)*abs(-r + v))"
      ]
     },
     "execution_count": 32,
     "metadata": {},
     "output_type": "execute_result"
    }
   ],
   "source": [
    "\"\"\"Trosième composante indépendante du tenseur de Weyl\"\"\"\n",
    "\n",
    "P22 = k*m*mb*l\n",
    "P2 = C['_{abcd}']*P22['^{abcd}']\n",
    "P2.expr().factor()"
   ]
  },
  {
   "cell_type": "code",
   "execution_count": 33,
   "metadata": {},
   "outputs": [
    {
     "data": {
      "text/html": [
       "<html><script type=\"math/tex; mode=display\">\\newcommand{\\Bold}[1]{\\mathbf{#1}}\\begin{array}{llcl} 0:& M & \\longrightarrow & \\mathbb{R} \\\\ & \\left(t, r, {\\theta}, {\\varphi}\\right) & \\longmapsto & 0 \\end{array}</script></html>"
      ],
      "text/latex": [
       "$$\\newcommand{\\Bold}[1]{\\mathbf{#1}}\\begin{array}{llcl} 0:& M & \\longrightarrow & \\mathbb{R} \\\\ & \\left(t, r, {\\theta}, {\\varphi}\\right) & \\longmapsto & 0 \\end{array}$$"
      ],
      "text/plain": [
       "zero: M --> R\n",
       "   (t, r, th, ph) |--> 0"
      ]
     },
     "execution_count": 33,
     "metadata": {},
     "output_type": "execute_result"
    }
   ],
   "source": [
    "\"\"\"Quatrième composante indépendante du tenseur de Weyl\"\"\"\n",
    "\n",
    "P33 = l*k*l*mb\n",
    "P3 = C['_{abcd}']*P33['^{abcd}']\n",
    "P3.display()"
   ]
  },
  {
   "cell_type": "code",
   "execution_count": 34,
   "metadata": {},
   "outputs": [
    {
     "data": {
      "text/html": [
       "<html><script type=\"math/tex; mode=display\">\\newcommand{\\Bold}[1]{\\mathbf{#1}}\\begin{array}{llcl} 0:& M & \\longrightarrow & \\mathbb{R} \\\\ & \\left(t, r, {\\theta}, {\\varphi}\\right) & \\longmapsto & 0 \\end{array}</script></html>"
      ],
      "text/latex": [
       "$$\\newcommand{\\Bold}[1]{\\mathbf{#1}}\\begin{array}{llcl} 0:& M & \\longrightarrow & \\mathbb{R} \\\\ & \\left(t, r, {\\theta}, {\\varphi}\\right) & \\longmapsto & 0 \\end{array}$$"
      ],
      "text/plain": [
       "zero: M --> R\n",
       "   (t, r, th, ph) |--> 0"
      ]
     },
     "execution_count": 34,
     "metadata": {},
     "output_type": "execute_result"
    }
   ],
   "source": [
    "\"\"\"Cinquième composante indépendante du tenseur de Weyl\"\"\"\n",
    "\n",
    "P44 = l*mb*l*mb\n",
    "P4 = C['_{abcd}']*P44['^{abcd}']\n",
    "P4.display()"
   ]
  },
  {
   "cell_type": "markdown",
   "metadata": {},
   "source": [
    "Puisque seul $\\Psi_2$ est non nul, l'espace-temps décrit ici est de type D."
   ]
  },
  {
   "cell_type": "markdown",
   "metadata": {},
   "source": [
    "### Solution avec monopôle magnétique"
   ]
  },
  {
   "cell_type": "markdown",
   "metadata": {},
   "source": [
    "En changeant $\\varphi$ en $\\varphi_m=\\frac{1}{\\varphi}$ et $F_{\\mu\\nu}$ en $F_{m\\mu\\nu} = \\varphi \\frac{1}{2} \\epsilon_{\\mu\\nu\\lambda\\rho} F^{\\lambda\\rho}$, on trouve une solution décrivant un monopôle magnétique."
   ]
  },
  {
   "cell_type": "code",
   "execution_count": 35,
   "metadata": {},
   "outputs": [
    {
     "data": {
      "text/html": [
       "<html><script type=\"math/tex; mode=display\">\\newcommand{\\Bold}[1]{\\mathbf{#1}}\\begin{array}{llcl} 1/\\varphi:& M & \\longrightarrow & \\mathbb{R} \\\\ & \\left(t, r, {\\theta}, {\\varphi}\\right) & \\longmapsto & \\frac{{\\left(r - v\\right)}^{\\frac{2}{13}}}{r^{\\frac{2}{13}}} \\end{array}</script></html>"
      ],
      "text/latex": [
       "$$\\newcommand{\\Bold}[1]{\\mathbf{#1}}\\begin{array}{llcl} 1/\\varphi:& M & \\longrightarrow & \\mathbb{R} \\\\ & \\left(t, r, {\\theta}, {\\varphi}\\right) & \\longmapsto & \\frac{{\\left(r - v\\right)}^{\\frac{2}{13}}}{r^{\\frac{2}{13}}} \\end{array}$$"
      ],
      "text/plain": [
       "1/\\varphi: M --> R\n",
       "   (t, r, th, ph) |--> (r - v)^(2/13)/r^(2/13)"
      ]
     },
     "execution_count": 35,
     "metadata": {},
     "output_type": "execute_result"
    }
   ],
   "source": [
    "\"\"\"Nouveau champ phi\"\"\"\n",
    "\n",
    "phim = M.scalar_field(name=r'\\varphi_m')\n",
    "phim = 1/phi\n",
    "phim.display()"
   ]
  },
  {
   "cell_type": "markdown",
   "metadata": {},
   "source": [
    "La métrique $h$ n'a pas changé selon cette transformation. Mais pour retrouver la solution correspondant au trou noir chargé (magnétiquement), on effectue la transformation suivante : $g_{m\\mu\\nu} = \\frac{1}{\\varphi_m^2} h_{\\mu\\nu} = \\varphi^2h_{\\mu\\nu}$."
   ]
  },
  {
   "cell_type": "code",
   "execution_count": 36,
   "metadata": {},
   "outputs": [
    {
     "data": {
      "text/html": [
       "<html><script type=\"math/tex; mode=display\">\\newcommand{\\Bold}[1]{\\mathbf{#1}}{\\varphi}^{ 2 } \\cdot h = -\\frac{{\\left(r - u\\right)} {\\left(r - v\\right)}^{\\frac{7}{13}}}{r^{\\frac{20}{13}}} \\mathrm{d} t\\otimes \\mathrm{d} t + \\frac{r^{\\frac{28}{13}}}{{\\left(r^{2} - r u - {\\left(r - u\\right)} v\\right)} {\\left(r - v\\right)}^{\\frac{2}{13}}} \\mathrm{d} r\\otimes \\mathrm{d} r + \\frac{r^{\\frac{28}{13}}}{{\\left(r - v\\right)}^{\\frac{2}{13}}} \\mathrm{d} {\\theta}\\otimes \\mathrm{d} {\\theta} + \\frac{r^{\\frac{28}{13}} \\sin\\left({\\theta}\\right)^{2}}{{\\left(r - v\\right)}^{\\frac{2}{13}}} \\mathrm{d} {\\varphi}\\otimes \\mathrm{d} {\\varphi}</script></html>"
      ],
      "text/latex": [
       "$$\\newcommand{\\Bold}[1]{\\mathbf{#1}}{\\varphi}^{ 2 } \\cdot h = -\\frac{{\\left(r - u\\right)} {\\left(r - v\\right)}^{\\frac{7}{13}}}{r^{\\frac{20}{13}}} \\mathrm{d} t\\otimes \\mathrm{d} t + \\frac{r^{\\frac{28}{13}}}{{\\left(r^{2} - r u - {\\left(r - u\\right)} v\\right)} {\\left(r - v\\right)}^{\\frac{2}{13}}} \\mathrm{d} r\\otimes \\mathrm{d} r + \\frac{r^{\\frac{28}{13}}}{{\\left(r - v\\right)}^{\\frac{2}{13}}} \\mathrm{d} {\\theta}\\otimes \\mathrm{d} {\\theta} + \\frac{r^{\\frac{28}{13}} \\sin\\left({\\theta}\\right)^{2}}{{\\left(r - v\\right)}^{\\frac{2}{13}}} \\mathrm{d} {\\varphi}\\otimes \\mathrm{d} {\\varphi}$$"
      ],
      "text/plain": [
       "\\varphi^2*h = -(r - u)*(r - v)^(7/13)/r^(20/13) dt*dt + r^(28/13)/((r^2 - r*u - (r - u)*v)*(r - v)^(2/13)) dr*dr + r^(28/13)/(r - v)^(2/13) dth*dth + r^(28/13)*sin(th)^2/(r - v)^(2/13) dph*dph"
      ]
     },
     "execution_count": 36,
     "metadata": {},
     "output_type": "execute_result"
    }
   ],
   "source": [
    "\"\"\"Nouvelle métrique\"\"\"\n",
    "\n",
    "gm = M.metric(name='g_m')\n",
    "gm = h*phi**2\n",
    "gm.display()"
   ]
  },
  {
   "cell_type": "code",
   "execution_count": 37,
   "metadata": {},
   "outputs": [],
   "source": [
    "Rm = gm.ricci_scalar() #La courbure scalaire de la nouvelle métrique"
   ]
  },
  {
   "cell_type": "code",
   "execution_count": 38,
   "metadata": {},
   "outputs": [
    {
     "data": {
      "text/html": [
       "<html><script type=\"math/tex; mode=display\">\\newcommand{\\Bold}[1]{\\mathbf{#1}}\\frac{12 \\, {\\left(r - v\\right)}^{\\frac{2}{13}} u v}{13 \\, r^{\\frac{54}{13}}}</script></html>"
      ],
      "text/latex": [
       "$$\\newcommand{\\Bold}[1]{\\mathbf{#1}}\\frac{12 \\, {\\left(r - v\\right)}^{\\frac{2}{13}} u v}{13 \\, r^{\\frac{54}{13}}}$$"
      ],
      "text/plain": [
       "12/13*(r - v)^(2/13)*u*v/r^(54/13)"
      ]
     },
     "execution_count": 38,
     "metadata": {},
     "output_type": "execute_result"
    }
   ],
   "source": [
    "Rm.expr().factor()"
   ]
  },
  {
   "cell_type": "code",
   "execution_count": 39,
   "metadata": {},
   "outputs": [
    {
     "data": {
      "text/html": [
       "<html><script type=\"math/tex; mode=display\">\\newcommand{\\Bold}[1]{\\mathbf{#1}}-\\frac{12 \\, u v}{13 \\, {\\left(r - v\\right)}^{\\frac{6}{13}} r^{\\frac{46}{13}}}</script></html>"
      ],
      "text/latex": [
       "$$\\newcommand{\\Bold}[1]{\\mathbf{#1}}-\\frac{12 \\, u v}{13 \\, {\\left(r - v\\right)}^{\\frac{6}{13}} r^{\\frac{46}{13}}}$$"
      ],
      "text/plain": [
       "-12/13*u*v/((r - v)^(6/13)*r^(46/13))"
      ]
     },
     "execution_count": 39,
     "metadata": {},
     "output_type": "execute_result"
    }
   ],
   "source": [
    "R.expr().factor()"
   ]
  },
  {
   "cell_type": "code",
   "execution_count": 40,
   "metadata": {},
   "outputs": [],
   "source": [
    "\"\"\"Définition du tenseur dualiseur de Levi-Civita\"\"\"\n",
    "\n",
    "dt = M.one_form({X.frame(): [1, 0, 0, 0]})\n",
    "dr = M.one_form({X.frame(): [0, 1, 0, 0]})\n",
    "dth = M.one_form({X.frame(): [0, 0, 1, 0]})\n",
    "dph = M.one_form({X.frame(): [0, 0, 0, 1]})\n",
    "\n",
    "e = dt.wedge(dr.wedge(dth.wedge(dph))) #Le symbôle de Levi-Civita\n",
    "\n",
    "E = e*sqrt(-detg) #Le tenseur de Levi-Civita"
   ]
  },
  {
   "cell_type": "code",
   "execution_count": 41,
   "metadata": {},
   "outputs": [
    {
     "data": {
      "text/html": [
       "<html><script type=\"math/tex; mode=display\">\\newcommand{\\Bold}[1]{\\mathbf{#1}}\\frac{2}{13} \\, \\sqrt{13} \\sqrt{3} \\sqrt{u} \\sqrt{v} \\sin\\left({\\theta}\\right) \\mathrm{d} {\\theta}\\wedge \\mathrm{d} {\\varphi}</script></html>"
      ],
      "text/latex": [
       "$$\\newcommand{\\Bold}[1]{\\mathbf{#1}}\\frac{2}{13} \\, \\sqrt{13} \\sqrt{3} \\sqrt{u} \\sqrt{v} \\sin\\left({\\theta}\\right) \\mathrm{d} {\\theta}\\wedge \\mathrm{d} {\\varphi}$$"
      ],
      "text/plain": [
       "2/13*sqrt(13)*sqrt(3)*sqrt(u)*sqrt(v)*sin(th) dth/\\dph"
      ]
     },
     "execution_count": 41,
     "metadata": {},
     "output_type": "execute_result"
    }
   ],
   "source": [
    "\"\"\"Le nouveau tenseur électromagnétique\"\"\"\n",
    "\n",
    "Fm = M.tensor_field(0,2, name='F_m')\n",
    "Fm = (1/2)*phi*E['_{abij}']*F.up(g)['^{ij}']\n",
    "Fm.display()"
   ]
  },
  {
   "cell_type": "code",
   "execution_count": 42,
   "metadata": {},
   "outputs": [
    {
     "data": {
      "text/html": [
       "<html><script type=\"math/tex; mode=display\">\\newcommand{\\Bold}[1]{\\mathbf{#1}}\\begin{array}{llcl} & M & \\longrightarrow & \\mathbb{R} \\\\ & \\left(t, r, {\\theta}, {\\varphi}\\right) & \\longmapsto & -\\frac{12 \\, {\\left(r - v\\right)}^{\\frac{4}{13}} u v}{13 \\, r^{\\frac{56}{13}}} \\end{array}</script></html>"
      ],
      "text/latex": [
       "$$\\newcommand{\\Bold}[1]{\\mathbf{#1}}\\begin{array}{llcl} & M & \\longrightarrow & \\mathbb{R} \\\\ & \\left(t, r, {\\theta}, {\\varphi}\\right) & \\longmapsto & -\\frac{12 \\, {\\left(r - v\\right)}^{\\frac{4}{13}} u v}{13 \\, r^{\\frac{56}{13}}} \\end{array}$$"
      ],
      "text/plain": [
       "M --> R\n",
       "(t, r, th, ph) |--> -12/13*(r - v)^(4/13)*u*v/r^(56/13)"
      ]
     },
     "execution_count": 42,
     "metadata": {},
     "output_type": "execute_result"
    }
   ],
   "source": [
    "\"\"\"Le nouveau lagrangien on-shell\"\"\"\n",
    "\n",
    "Lmm = - Fm['_{ij}']*Fm.up(gm)['^{ij}']/2\n",
    "Lmm.display()"
   ]
  },
  {
   "cell_type": "code",
   "execution_count": 43,
   "metadata": {},
   "outputs": [
    {
     "data": {
      "text/html": [
       "<html><script type=\"math/tex; mode=display\">\\newcommand{\\Bold}[1]{\\mathbf{#1}}\\frac{12 \\, u v}{13 \\, {\\left(r - v\\right)}^{\\frac{8}{13}} r^{\\frac{44}{13}}}</script></html>"
      ],
      "text/latex": [
       "$$\\newcommand{\\Bold}[1]{\\mathbf{#1}}\\frac{12 \\, u v}{13 \\, {\\left(r - v\\right)}^{\\frac{8}{13}} r^{\\frac{44}{13}}}$$"
      ],
      "text/plain": [
       "12/13*u*v/((r - v)^(8/13)*r^(44/13))"
      ]
     },
     "execution_count": 43,
     "metadata": {},
     "output_type": "execute_result"
    }
   ],
   "source": [
    "Lm.expr().factor()"
   ]
  },
  {
   "cell_type": "code",
   "execution_count": 44,
   "metadata": {},
   "outputs": [
    {
     "data": {
      "text/html": [
       "<html><script type=\"math/tex; mode=display\">\\newcommand{\\Bold}[1]{\\mathbf{#1}}\\begin{array}{llcl} & M & \\longrightarrow & \\mathbb{R} \\\\ & \\left(t, r, {\\theta}, {\\varphi}\\right) & \\longmapsto & \\frac{{\\left(r - v\\right)}^{\\frac{2}{13}}}{r^{\\frac{2}{13}}} \\end{array}</script></html>"
      ],
      "text/latex": [
       "$$\\newcommand{\\Bold}[1]{\\mathbf{#1}}\\begin{array}{llcl} & M & \\longrightarrow & \\mathbb{R} \\\\ & \\left(t, r, {\\theta}, {\\varphi}\\right) & \\longmapsto & \\frac{{\\left(r - v\\right)}^{\\frac{2}{13}}}{r^{\\frac{2}{13}}} \\end{array}$$"
      ],
      "text/plain": [
       "M --> R\n",
       "(t, r, th, ph) |--> (r - v)^(2/13)/r^(2/13)"
      ]
     },
     "execution_count": 44,
     "metadata": {},
     "output_type": "execute_result"
    }
   ],
   "source": [
    "(-Lmm/Rm).display()"
   ]
  },
  {
   "cell_type": "markdown",
   "metadata": {},
   "source": [
    "On a toujours l'équation qui est vérifiée : $\\varphi_m = -\\kappa \\frac{\\mathcal{L}_{mh}}{R_m}$."
   ]
  },
  {
   "cell_type": "markdown",
   "metadata": {},
   "source": [
    "### Comparaison des solutions : chargé électriquement et chargé magnétiquement"
   ]
  },
  {
   "cell_type": "markdown",
   "metadata": {},
   "source": [
    "#### La courbure scalaire"
   ]
  },
  {
   "cell_type": "code",
   "execution_count": 46,
   "metadata": {},
   "outputs": [
    {
     "data": {
      "text/html": [
       "<html><script type=\"math/tex; mode=display\">\\newcommand{\\Bold}[1]{\\mathbf{#1}}\\begin{array}{llcl} \\mathrm{r}\\left(g\\right):& M & \\longrightarrow & \\mathbb{R} \\\\ & \\left(t, r, {\\theta}, {\\varphi}\\right) & \\longmapsto & -\\frac{12 \\, u v}{13 \\, {\\left(r - v\\right)}^{\\frac{6}{13}} r^{\\frac{46}{13}}} \\end{array}</script></html>"
      ],
      "text/latex": [
       "$$\\newcommand{\\Bold}[1]{\\mathbf{#1}}\\begin{array}{llcl} \\mathrm{r}\\left(g\\right):& M & \\longrightarrow & \\mathbb{R} \\\\ & \\left(t, r, {\\theta}, {\\varphi}\\right) & \\longmapsto & -\\frac{12 \\, u v}{13 \\, {\\left(r - v\\right)}^{\\frac{6}{13}} r^{\\frac{46}{13}}} \\end{array}$$"
      ],
      "text/plain": [
       "r(g): M --> R\n",
       "   (t, r, th, ph) |--> -12/13*u*v/((r - v)^(6/13)*r^(46/13))"
      ]
     },
     "execution_count": 46,
     "metadata": {},
     "output_type": "execute_result"
    }
   ],
   "source": [
    "R.display()"
   ]
  },
  {
   "cell_type": "code",
   "execution_count": 47,
   "metadata": {},
   "outputs": [
    {
     "data": {
      "text/html": [
       "<html><script type=\"math/tex; mode=display\">\\newcommand{\\Bold}[1]{\\mathbf{#1}}\\begin{array}{llcl} \\mathrm{r}\\left( {\\varphi}^{ 2 } \\cdot h \\right) : & M & \\longrightarrow & \\mathbb{R} \\\\ & \\left(t, r, {\\theta}, {\\varphi}\\right) & \\longmapsto & \\frac{12 \\, {\\left(r u v - u v^{2}\\right)}}{13 \\, {\\left(r - v\\right)}^{\\frac{11}{13}} r^{\\frac{54}{13}}} \\end{array}</script></html>"
      ],
      "text/latex": [
       "$$\\newcommand{\\Bold}[1]{\\mathbf{#1}}\\begin{array}{llcl} \\mathrm{r}\\left( {\\varphi}^{ 2 } \\cdot h \\right) : & M & \\longrightarrow & \\mathbb{R} \\\\ & \\left(t, r, {\\theta}, {\\varphi}\\right) & \\longmapsto & \\frac{12 \\, {\\left(r u v - u v^{2}\\right)}}{13 \\, {\\left(r - v\\right)}^{\\frac{11}{13}} r^{\\frac{54}{13}}} \\end{array}$$"
      ],
      "text/plain": [
       "r(\\varphi^2*h): M --> R\n",
       "   (t, r, th, ph) |--> 12/13*(r*u*v - u*v^2)/((r - v)^(11/13)*r^(54/13))"
      ]
     },
     "execution_count": 47,
     "metadata": {},
     "output_type": "execute_result"
    }
   ],
   "source": [
    "Rm.display()"
   ]
  },
  {
   "cell_type": "markdown",
   "metadata": {},
   "source": [
    "#### Le tenseur de Weyl et ses composantes indépendantes"
   ]
  },
  {
   "cell_type": "code",
   "execution_count": 48,
   "metadata": {},
   "outputs": [],
   "source": [
    "\"\"\"Le tenseur de Weyl et la tétrade nulle de la solution chargée magnétiquement\"\"\"\n",
    "\n",
    "Cm = (gm.weyl()).down(gm)\n",
    "\n",
    "Km = M.one_form({X.frame(): [sqrt(-gm[0,0]/2), sqrt(gm[1,1]/2), 0, 0]})\n",
    "Lm = M.one_form({X.frame(): [sqrt(-gm[0,0]/2), -sqrt(gm[1,1]/2), 0, 0]})\n",
    "Mbm = M.one_form({X.frame(): [0, 0, sqrt(gm[2,2]/2), i*sqrt(gm[3,3]/2)]})\n",
    "MBm = M.one_form({X.frame(): [0, 0, sqrt(gm[2,2]/2), -i*sqrt(gm[3,3]/2)]})\n",
    "km = Km.up(gm)\n",
    "lm = Lm.up(gm)\n",
    "mm = Mbm.up(gm)\n",
    "mbm = MBm.up(gm)"
   ]
  },
  {
   "cell_type": "code",
   "execution_count": 49,
   "metadata": {},
   "outputs": [
    {
     "data": {
      "text/html": [
       "<html><script type=\"math/tex; mode=display\">\\newcommand{\\Bold}[1]{\\mathbf{#1}}\\begin{array}{llcl} 0:& M & \\longrightarrow & \\mathbb{R} \\\\ & \\left(t, r, {\\theta}, {\\varphi}\\right) & \\longmapsto & 0 \\end{array}</script></html>"
      ],
      "text/latex": [
       "$$\\newcommand{\\Bold}[1]{\\mathbf{#1}}\\begin{array}{llcl} 0:& M & \\longrightarrow & \\mathbb{R} \\\\ & \\left(t, r, {\\theta}, {\\varphi}\\right) & \\longmapsto & 0 \\end{array}$$"
      ],
      "text/plain": [
       "zero: M --> R\n",
       "   (t, r, th, ph) |--> 0"
      ]
     },
     "execution_count": 49,
     "metadata": {},
     "output_type": "execute_result"
    }
   ],
   "source": [
    "\"\"\"Première composante indépendante\"\"\"\n",
    "\n",
    "P00m = km*mm*km*mm\n",
    "P0m = Cm['_{abcd}']*P00m['^{abcd}']\n",
    "P0m.display()"
   ]
  },
  {
   "cell_type": "code",
   "execution_count": 50,
   "metadata": {},
   "outputs": [
    {
     "data": {
      "text/html": [
       "<html><script type=\"math/tex; mode=display\">\\newcommand{\\Bold}[1]{\\mathbf{#1}}\\begin{array}{llcl} 0:& M & \\longrightarrow & \\mathbb{R} \\\\ & \\left(t, r, {\\theta}, {\\varphi}\\right) & \\longmapsto & 0 \\end{array}</script></html>"
      ],
      "text/latex": [
       "$$\\newcommand{\\Bold}[1]{\\mathbf{#1}}\\begin{array}{llcl} 0:& M & \\longrightarrow & \\mathbb{R} \\\\ & \\left(t, r, {\\theta}, {\\varphi}\\right) & \\longmapsto & 0 \\end{array}$$"
      ],
      "text/plain": [
       "zero: M --> R\n",
       "   (t, r, th, ph) |--> 0"
      ]
     },
     "execution_count": 50,
     "metadata": {},
     "output_type": "execute_result"
    }
   ],
   "source": [
    "\"\"\"Deuxième composante indépendante\"\"\"\n",
    "\n",
    "P11m = km*lm*km*mm\n",
    "P1m = Cm['_{abcd}']*P11m['^{abcd}']\n",
    "P1m.display()"
   ]
  },
  {
   "cell_type": "code",
   "execution_count": 51,
   "metadata": {},
   "outputs": [
    {
     "data": {
      "text/html": [
       "<html><script type=\"math/tex; mode=display\">\\newcommand{\\Bold}[1]{\\mathbf{#1}}\\begin{array}{llcl} & M & \\longrightarrow & \\mathbb{R} \\\\ & \\left(t, r, {\\theta}, {\\varphi}\\right) & \\longmapsto & -\\frac{{\\left(169 \\, \\left(-1\\right)^{\\frac{6}{13}} r^{4} u - 169 \\, \\left(-1\\right)^{\\frac{6}{13}} r^{3} u^{2} + 4 \\, {\\left(35 \\, \\left(-1\\right)^{\\frac{6}{13}} r^{2} - 109 \\, \\left(-1\\right)^{\\frac{6}{13}} r u + 74 \\, \\left(-1\\right)^{\\frac{6}{13}} u^{2}\\right)} v^{3} - {\\left(283 \\, \\left(-1\\right)^{\\frac{6}{13}} r^{3} - 1047 \\, \\left(-1\\right)^{\\frac{6}{13}} r^{2} u + 764 \\, \\left(-1\\right)^{\\frac{6}{13}} r u^{2}\\right)} v^{2} + 13 \\, {\\left(11 \\, \\left(-1\\right)^{\\frac{6}{13}} r^{4} - 60 \\, \\left(-1\\right)^{\\frac{6}{13}} r^{3} u + 49 \\, \\left(-1\\right)^{\\frac{6}{13}} r^{2} u^{2}\\right)} v + {\\left(169 \\, r^{2} u {\\left| -r + u \\right|} - 4 \\, {\\left(35 \\, r - 74 \\, u\\right)} v^{2} {\\left| -r + u \\right|} + 13 \\, {\\left(11 \\, r^{2} - 36 \\, r u\\right)} v {\\left| -r + u \\right|}\\right)} {\\left| -r + v \\right|}\\right)} {\\left(-r + v\\right)}^{\\frac{2}{13}}}{676 \\, {\\left(r^{5} {\\left| -r + u \\right|} - r^{4} v {\\left| -r + u \\right|}\\right)} r^{\\frac{2}{13}} {\\left| -r + v \\right|}} \\end{array}</script></html>"
      ],
      "text/latex": [
       "$$\\newcommand{\\Bold}[1]{\\mathbf{#1}}\\begin{array}{llcl} & M & \\longrightarrow & \\mathbb{R} \\\\ & \\left(t, r, {\\theta}, {\\varphi}\\right) & \\longmapsto & -\\frac{{\\left(169 \\, \\left(-1\\right)^{\\frac{6}{13}} r^{4} u - 169 \\, \\left(-1\\right)^{\\frac{6}{13}} r^{3} u^{2} + 4 \\, {\\left(35 \\, \\left(-1\\right)^{\\frac{6}{13}} r^{2} - 109 \\, \\left(-1\\right)^{\\frac{6}{13}} r u + 74 \\, \\left(-1\\right)^{\\frac{6}{13}} u^{2}\\right)} v^{3} - {\\left(283 \\, \\left(-1\\right)^{\\frac{6}{13}} r^{3} - 1047 \\, \\left(-1\\right)^{\\frac{6}{13}} r^{2} u + 764 \\, \\left(-1\\right)^{\\frac{6}{13}} r u^{2}\\right)} v^{2} + 13 \\, {\\left(11 \\, \\left(-1\\right)^{\\frac{6}{13}} r^{4} - 60 \\, \\left(-1\\right)^{\\frac{6}{13}} r^{3} u + 49 \\, \\left(-1\\right)^{\\frac{6}{13}} r^{2} u^{2}\\right)} v + {\\left(169 \\, r^{2} u {\\left| -r + u \\right|} - 4 \\, {\\left(35 \\, r - 74 \\, u\\right)} v^{2} {\\left| -r + u \\right|} + 13 \\, {\\left(11 \\, r^{2} - 36 \\, r u\\right)} v {\\left| -r + u \\right|}\\right)} {\\left| -r + v \\right|}\\right)} {\\left(-r + v\\right)}^{\\frac{2}{13}}}{676 \\, {\\left(r^{5} {\\left| -r + u \\right|} - r^{4} v {\\left| -r + u \\right|}\\right)} r^{\\frac{2}{13}} {\\left| -r + v \\right|}} \\end{array}$$"
      ],
      "text/plain": [
       "M --> R\n",
       "(t, r, th, ph) |--> -1/676*(169*(-1)^(6/13)*r^4*u - 169*(-1)^(6/13)*r^3*u^2 + 4*(35*(-1)^(6/13)*r^2 - 109*(-1)^(6/13)*r*u + 74*(-1)^(6/13)*u^2)*v^3 - (283*(-1)^(6/13)*r^3 - 1047*(-1)^(6/13)*r^2*u + 764*(-1)^(6/13)*r*u^2)*v^2 + 13*(11*(-1)^(6/13)*r^4 - 60*(-1)^(6/13)*r^3*u + 49*(-1)^(6/13)*r^2*u^2)*v + (169*r^2*u*abs(-r + u) - 4*(35*r - 74*u)*v^2*abs(-r + u) + 13*(11*r^2 - 36*r*u)*v*abs(-r + u))*abs(-r + v))*(-r + v)^(2/13)/((r^5*abs(-r + u) - r^4*v*abs(-r + u))*r^(2/13)*abs(-r + v))"
      ]
     },
     "execution_count": 51,
     "metadata": {},
     "output_type": "execute_result"
    }
   ],
   "source": [
    "\"\"\"Trosième composante indépendante\"\"\"\n",
    "\n",
    "P22m = km*mm*mbm*lm\n",
    "P2m = Cm['_{abcd}']*P22m['^{abcd}']\n",
    "P2m.display()"
   ]
  },
  {
   "cell_type": "code",
   "execution_count": 52,
   "metadata": {},
   "outputs": [
    {
     "data": {
      "text/html": [
       "<html><script type=\"math/tex; mode=display\">\\newcommand{\\Bold}[1]{\\mathbf{#1}}\\begin{array}{llcl} 0:& M & \\longrightarrow & \\mathbb{R} \\\\ & \\left(t, r, {\\theta}, {\\varphi}\\right) & \\longmapsto & 0 \\end{array}</script></html>"
      ],
      "text/latex": [
       "$$\\newcommand{\\Bold}[1]{\\mathbf{#1}}\\begin{array}{llcl} 0:& M & \\longrightarrow & \\mathbb{R} \\\\ & \\left(t, r, {\\theta}, {\\varphi}\\right) & \\longmapsto & 0 \\end{array}$$"
      ],
      "text/plain": [
       "zero: M --> R\n",
       "   (t, r, th, ph) |--> 0"
      ]
     },
     "execution_count": 52,
     "metadata": {},
     "output_type": "execute_result"
    }
   ],
   "source": [
    "\"\"\"Quatrième composante indépendante\"\"\"\n",
    "\n",
    "P33m = lm*km*lm*mbm\n",
    "P3m = Cm['_{abcd}']*P33m['^{abcd}']\n",
    "P3m.display()"
   ]
  },
  {
   "cell_type": "code",
   "execution_count": 53,
   "metadata": {},
   "outputs": [
    {
     "data": {
      "text/html": [
       "<html><script type=\"math/tex; mode=display\">\\newcommand{\\Bold}[1]{\\mathbf{#1}}\\begin{array}{llcl} 0:& M & \\longrightarrow & \\mathbb{R} \\\\ & \\left(t, r, {\\theta}, {\\varphi}\\right) & \\longmapsto & 0 \\end{array}</script></html>"
      ],
      "text/latex": [
       "$$\\newcommand{\\Bold}[1]{\\mathbf{#1}}\\begin{array}{llcl} 0:& M & \\longrightarrow & \\mathbb{R} \\\\ & \\left(t, r, {\\theta}, {\\varphi}\\right) & \\longmapsto & 0 \\end{array}$$"
      ],
      "text/plain": [
       "zero: M --> R\n",
       "   (t, r, th, ph) |--> 0"
      ]
     },
     "execution_count": 53,
     "metadata": {},
     "output_type": "execute_result"
    }
   ],
   "source": [
    "\"\"\"Cinquième composante indépendante\"\"\"\n",
    "\n",
    "P44m = lm*mbm*lm*mbm\n",
    "P4m = Cm['_{abcd}']*P44m['^{abcd}']\n",
    "P4m.display()"
   ]
  },
  {
   "cell_type": "markdown",
   "metadata": {},
   "source": [
    "Seule la composante $\\Psi_2$ ne s'annule pas."
   ]
  }
 ],
 "metadata": {
  "kernelspec": {
   "display_name": "SageMath 9.3",
   "language": "sage",
   "name": "sagemath"
  },
  "language_info": {
   "codemirror_mode": {
    "name": "ipython",
    "version": 3
   },
   "file_extension": ".py",
   "mimetype": "text/x-python",
   "name": "python",
   "nbconvert_exporter": "python",
   "pygments_lexer": "ipython3",
   "version": "3.7.10"
  }
 },
 "nbformat": 4,
 "nbformat_minor": 4
}
